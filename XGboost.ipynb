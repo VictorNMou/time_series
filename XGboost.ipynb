{
 "cells": [
  {
   "cell_type": "code",
   "execution_count": 1,
   "metadata": {},
   "outputs": [],
   "source": [
    "import pandas as pd\n",
    "import numpy as np\n",
    "import plotly.express as px\n",
    "pd.set_option('display.max_rows', 500)\n",
    "pd.set_option('display.max_columns', 500)\n",
    "pd.set_option('display.width', 1000)"
   ]
  },
  {
   "cell_type": "markdown",
   "metadata": {},
   "source": [
    "## Import Data"
   ]
  },
  {
   "cell_type": "code",
   "execution_count": 2,
   "metadata": {},
   "outputs": [],
   "source": [
    "data = pd.read_csv(\"Temp_Data.csv\")"
   ]
  },
  {
   "cell_type": "code",
   "execution_count": 3,
   "metadata": {},
   "outputs": [
    {
     "data": {
      "text/html": [
       "<div>\n",
       "<style scoped>\n",
       "    .dataframe tbody tr th:only-of-type {\n",
       "        vertical-align: middle;\n",
       "    }\n",
       "\n",
       "    .dataframe tbody tr th {\n",
       "        vertical-align: top;\n",
       "    }\n",
       "\n",
       "    .dataframe thead th {\n",
       "        text-align: right;\n",
       "    }\n",
       "</style>\n",
       "<table border=\"1\" class=\"dataframe\">\n",
       "  <thead>\n",
       "    <tr style=\"text-align: right;\">\n",
       "      <th></th>\n",
       "      <th>DATE</th>\n",
       "      <th>Temp</th>\n",
       "      <th>relative_humidity</th>\n",
       "      <th>wind_speed</th>\n",
       "      <th>Pressure</th>\n",
       "    </tr>\n",
       "  </thead>\n",
       "  <tbody>\n",
       "    <tr>\n",
       "      <th>0</th>\n",
       "      <td>1/1/2020</td>\n",
       "      <td>-0.44</td>\n",
       "      <td>86.0</td>\n",
       "      <td>18.5</td>\n",
       "      <td>100.15</td>\n",
       "    </tr>\n",
       "    <tr>\n",
       "      <th>1</th>\n",
       "      <td>1/2/2020</td>\n",
       "      <td>-0.09</td>\n",
       "      <td>79.0</td>\n",
       "      <td>14.0</td>\n",
       "      <td>100.47</td>\n",
       "    </tr>\n",
       "    <tr>\n",
       "      <th>2</th>\n",
       "      <td>1/3/2020</td>\n",
       "      <td>2.95</td>\n",
       "      <td>82.0</td>\n",
       "      <td>12.0</td>\n",
       "      <td>100.64</td>\n",
       "    </tr>\n",
       "    <tr>\n",
       "      <th>3</th>\n",
       "      <td>1/4/2020</td>\n",
       "      <td>-0.80</td>\n",
       "      <td>86.0</td>\n",
       "      <td>15.0</td>\n",
       "      <td>100.75</td>\n",
       "    </tr>\n",
       "    <tr>\n",
       "      <th>4</th>\n",
       "      <td>1/5/2020</td>\n",
       "      <td>-7.95</td>\n",
       "      <td>74.5</td>\n",
       "      <td>15.0</td>\n",
       "      <td>101.06</td>\n",
       "    </tr>\n",
       "  </tbody>\n",
       "</table>\n",
       "</div>"
      ],
      "text/plain": [
       "       DATE  Temp  relative_humidity  wind_speed  Pressure\n",
       "0  1/1/2020 -0.44               86.0        18.5    100.15\n",
       "1  1/2/2020 -0.09               79.0        14.0    100.47\n",
       "2  1/3/2020  2.95               82.0        12.0    100.64\n",
       "3  1/4/2020 -0.80               86.0        15.0    100.75\n",
       "4  1/5/2020 -7.95               74.5        15.0    101.06"
      ]
     },
     "execution_count": 3,
     "metadata": {},
     "output_type": "execute_result"
    }
   ],
   "source": [
    "data.head()"
   ]
  },
  {
   "cell_type": "markdown",
   "metadata": {},
   "source": [
    "Target varible is Temp"
   ]
  },
  {
   "cell_type": "markdown",
   "metadata": {},
   "source": [
    "## Feature engineering"
   ]
  },
  {
   "cell_type": "markdown",
   "metadata": {},
   "source": [
    "Functions to create features that will be used by XGBoost"
   ]
  },
  {
   "cell_type": "markdown",
   "metadata": {},
   "source": [
    "#### Lags"
   ]
  },
  {
   "cell_type": "code",
   "execution_count": 4,
   "metadata": {},
   "outputs": [],
   "source": [
    "def create_lag_features(data, column = \"Temp\", lag_steps=1):\n",
    "    \n",
    "    for i in range(1,lag_steps+1):\n",
    "        data[f'{column}_lag_{i}'] = data[column].shift(i)\n",
    "    \n",
    "    return data"
   ]
  },
  {
   "cell_type": "code",
   "execution_count": 5,
   "metadata": {},
   "outputs": [],
   "source": [
    "for column in [\"Temp\", \"relative_humidity\", \"wind_speed\", \"Pressure\"]:\n",
    "    for i in range(1,4,1):\n",
    "        lagged_data = create_lag_features(data,column,i)"
   ]
  },
  {
   "cell_type": "code",
   "execution_count": 6,
   "metadata": {},
   "outputs": [
    {
     "data": {
      "text/html": [
       "<div>\n",
       "<style scoped>\n",
       "    .dataframe tbody tr th:only-of-type {\n",
       "        vertical-align: middle;\n",
       "    }\n",
       "\n",
       "    .dataframe tbody tr th {\n",
       "        vertical-align: top;\n",
       "    }\n",
       "\n",
       "    .dataframe thead th {\n",
       "        text-align: right;\n",
       "    }\n",
       "</style>\n",
       "<table border=\"1\" class=\"dataframe\">\n",
       "  <thead>\n",
       "    <tr style=\"text-align: right;\">\n",
       "      <th></th>\n",
       "      <th>DATE</th>\n",
       "      <th>Temp</th>\n",
       "      <th>relative_humidity</th>\n",
       "      <th>wind_speed</th>\n",
       "      <th>Pressure</th>\n",
       "      <th>Temp_lag_1</th>\n",
       "      <th>Temp_lag_2</th>\n",
       "      <th>Temp_lag_3</th>\n",
       "      <th>relative_humidity_lag_1</th>\n",
       "      <th>relative_humidity_lag_2</th>\n",
       "      <th>relative_humidity_lag_3</th>\n",
       "      <th>wind_speed_lag_1</th>\n",
       "      <th>wind_speed_lag_2</th>\n",
       "      <th>wind_speed_lag_3</th>\n",
       "      <th>Pressure_lag_1</th>\n",
       "      <th>Pressure_lag_2</th>\n",
       "      <th>Pressure_lag_3</th>\n",
       "    </tr>\n",
       "  </thead>\n",
       "  <tbody>\n",
       "    <tr>\n",
       "      <th>0</th>\n",
       "      <td>1/1/2020</td>\n",
       "      <td>-0.44</td>\n",
       "      <td>86.0</td>\n",
       "      <td>18.5</td>\n",
       "      <td>100.15</td>\n",
       "      <td>NaN</td>\n",
       "      <td>NaN</td>\n",
       "      <td>NaN</td>\n",
       "      <td>NaN</td>\n",
       "      <td>NaN</td>\n",
       "      <td>NaN</td>\n",
       "      <td>NaN</td>\n",
       "      <td>NaN</td>\n",
       "      <td>NaN</td>\n",
       "      <td>NaN</td>\n",
       "      <td>NaN</td>\n",
       "      <td>NaN</td>\n",
       "    </tr>\n",
       "    <tr>\n",
       "      <th>1</th>\n",
       "      <td>1/2/2020</td>\n",
       "      <td>-0.09</td>\n",
       "      <td>79.0</td>\n",
       "      <td>14.0</td>\n",
       "      <td>100.47</td>\n",
       "      <td>-0.44</td>\n",
       "      <td>NaN</td>\n",
       "      <td>NaN</td>\n",
       "      <td>86.0</td>\n",
       "      <td>NaN</td>\n",
       "      <td>NaN</td>\n",
       "      <td>18.5</td>\n",
       "      <td>NaN</td>\n",
       "      <td>NaN</td>\n",
       "      <td>100.15</td>\n",
       "      <td>NaN</td>\n",
       "      <td>NaN</td>\n",
       "    </tr>\n",
       "    <tr>\n",
       "      <th>2</th>\n",
       "      <td>1/3/2020</td>\n",
       "      <td>2.95</td>\n",
       "      <td>82.0</td>\n",
       "      <td>12.0</td>\n",
       "      <td>100.64</td>\n",
       "      <td>-0.09</td>\n",
       "      <td>-0.44</td>\n",
       "      <td>NaN</td>\n",
       "      <td>79.0</td>\n",
       "      <td>86.0</td>\n",
       "      <td>NaN</td>\n",
       "      <td>14.0</td>\n",
       "      <td>18.5</td>\n",
       "      <td>NaN</td>\n",
       "      <td>100.47</td>\n",
       "      <td>100.15</td>\n",
       "      <td>NaN</td>\n",
       "    </tr>\n",
       "    <tr>\n",
       "      <th>3</th>\n",
       "      <td>1/4/2020</td>\n",
       "      <td>-0.80</td>\n",
       "      <td>86.0</td>\n",
       "      <td>15.0</td>\n",
       "      <td>100.75</td>\n",
       "      <td>2.95</td>\n",
       "      <td>-0.09</td>\n",
       "      <td>-0.44</td>\n",
       "      <td>82.0</td>\n",
       "      <td>79.0</td>\n",
       "      <td>86.0</td>\n",
       "      <td>12.0</td>\n",
       "      <td>14.0</td>\n",
       "      <td>18.5</td>\n",
       "      <td>100.64</td>\n",
       "      <td>100.47</td>\n",
       "      <td>100.15</td>\n",
       "    </tr>\n",
       "    <tr>\n",
       "      <th>4</th>\n",
       "      <td>1/5/2020</td>\n",
       "      <td>-7.95</td>\n",
       "      <td>74.5</td>\n",
       "      <td>15.0</td>\n",
       "      <td>101.06</td>\n",
       "      <td>-0.80</td>\n",
       "      <td>2.95</td>\n",
       "      <td>-0.09</td>\n",
       "      <td>86.0</td>\n",
       "      <td>82.0</td>\n",
       "      <td>79.0</td>\n",
       "      <td>15.0</td>\n",
       "      <td>12.0</td>\n",
       "      <td>14.0</td>\n",
       "      <td>100.75</td>\n",
       "      <td>100.64</td>\n",
       "      <td>100.47</td>\n",
       "    </tr>\n",
       "  </tbody>\n",
       "</table>\n",
       "</div>"
      ],
      "text/plain": [
       "       DATE  Temp  relative_humidity  wind_speed  Pressure  Temp_lag_1  Temp_lag_2  Temp_lag_3  relative_humidity_lag_1  relative_humidity_lag_2  relative_humidity_lag_3  wind_speed_lag_1  wind_speed_lag_2  wind_speed_lag_3  Pressure_lag_1  Pressure_lag_2  Pressure_lag_3\n",
       "0  1/1/2020 -0.44               86.0        18.5    100.15         NaN         NaN         NaN                      NaN                      NaN                      NaN               NaN               NaN               NaN             NaN             NaN             NaN\n",
       "1  1/2/2020 -0.09               79.0        14.0    100.47       -0.44         NaN         NaN                     86.0                      NaN                      NaN              18.5               NaN               NaN          100.15             NaN             NaN\n",
       "2  1/3/2020  2.95               82.0        12.0    100.64       -0.09       -0.44         NaN                     79.0                     86.0                      NaN              14.0              18.5               NaN          100.47          100.15             NaN\n",
       "3  1/4/2020 -0.80               86.0        15.0    100.75        2.95       -0.09       -0.44                     82.0                     79.0                     86.0              12.0              14.0              18.5          100.64          100.47          100.15\n",
       "4  1/5/2020 -7.95               74.5        15.0    101.06       -0.80        2.95       -0.09                     86.0                     82.0                     79.0              15.0              12.0              14.0          100.75          100.64          100.47"
      ]
     },
     "execution_count": 6,
     "metadata": {},
     "output_type": "execute_result"
    }
   ],
   "source": [
    "lagged_data.head()"
   ]
  },
  {
   "cell_type": "markdown",
   "metadata": {},
   "source": [
    "#### Rolling Mean"
   ]
  },
  {
   "cell_type": "code",
   "execution_count": 7,
   "metadata": {},
   "outputs": [],
   "source": [
    "def create_rolling_mean(data, column = \"Temp\", window_size = 7):\n",
    "\n",
    "    data[f\"{column}_rolling_mean_{window_size}\"] = data[column].rolling(window = window_size).mean()\n",
    "    return data"
   ]
  },
  {
   "cell_type": "code",
   "execution_count": 8,
   "metadata": {},
   "outputs": [],
   "source": [
    "for column in [\"Temp\", \"relative_humidity\", \"wind_speed\", \"Pressure\"]:\n",
    "    for i in range(7,22,7):\n",
    "        rolled_data = create_rolling_mean(lagged_data,column,i)"
   ]
  },
  {
   "cell_type": "code",
   "execution_count": 9,
   "metadata": {},
   "outputs": [
    {
     "data": {
      "text/html": [
       "<div>\n",
       "<style scoped>\n",
       "    .dataframe tbody tr th:only-of-type {\n",
       "        vertical-align: middle;\n",
       "    }\n",
       "\n",
       "    .dataframe tbody tr th {\n",
       "        vertical-align: top;\n",
       "    }\n",
       "\n",
       "    .dataframe thead th {\n",
       "        text-align: right;\n",
       "    }\n",
       "</style>\n",
       "<table border=\"1\" class=\"dataframe\">\n",
       "  <thead>\n",
       "    <tr style=\"text-align: right;\">\n",
       "      <th></th>\n",
       "      <th>DATE</th>\n",
       "      <th>Temp</th>\n",
       "      <th>relative_humidity</th>\n",
       "      <th>wind_speed</th>\n",
       "      <th>Pressure</th>\n",
       "      <th>Temp_lag_1</th>\n",
       "      <th>Temp_lag_2</th>\n",
       "      <th>Temp_lag_3</th>\n",
       "      <th>relative_humidity_lag_1</th>\n",
       "      <th>relative_humidity_lag_2</th>\n",
       "      <th>relative_humidity_lag_3</th>\n",
       "      <th>wind_speed_lag_1</th>\n",
       "      <th>wind_speed_lag_2</th>\n",
       "      <th>wind_speed_lag_3</th>\n",
       "      <th>Pressure_lag_1</th>\n",
       "      <th>Pressure_lag_2</th>\n",
       "      <th>Pressure_lag_3</th>\n",
       "      <th>Temp_rolling_mean_7</th>\n",
       "      <th>Temp_rolling_mean_14</th>\n",
       "      <th>Temp_rolling_mean_21</th>\n",
       "      <th>relative_humidity_rolling_mean_7</th>\n",
       "      <th>relative_humidity_rolling_mean_14</th>\n",
       "      <th>relative_humidity_rolling_mean_21</th>\n",
       "      <th>wind_speed_rolling_mean_7</th>\n",
       "      <th>wind_speed_rolling_mean_14</th>\n",
       "      <th>wind_speed_rolling_mean_21</th>\n",
       "      <th>Pressure_rolling_mean_7</th>\n",
       "      <th>Pressure_rolling_mean_14</th>\n",
       "      <th>Pressure_rolling_mean_21</th>\n",
       "    </tr>\n",
       "  </thead>\n",
       "  <tbody>\n",
       "    <tr>\n",
       "      <th>0</th>\n",
       "      <td>1/1/2020</td>\n",
       "      <td>-0.44</td>\n",
       "      <td>86.0</td>\n",
       "      <td>18.5</td>\n",
       "      <td>100.15</td>\n",
       "      <td>NaN</td>\n",
       "      <td>NaN</td>\n",
       "      <td>NaN</td>\n",
       "      <td>NaN</td>\n",
       "      <td>NaN</td>\n",
       "      <td>NaN</td>\n",
       "      <td>NaN</td>\n",
       "      <td>NaN</td>\n",
       "      <td>NaN</td>\n",
       "      <td>NaN</td>\n",
       "      <td>NaN</td>\n",
       "      <td>NaN</td>\n",
       "      <td>NaN</td>\n",
       "      <td>NaN</td>\n",
       "      <td>NaN</td>\n",
       "      <td>NaN</td>\n",
       "      <td>NaN</td>\n",
       "      <td>NaN</td>\n",
       "      <td>NaN</td>\n",
       "      <td>NaN</td>\n",
       "      <td>NaN</td>\n",
       "      <td>NaN</td>\n",
       "      <td>NaN</td>\n",
       "      <td>NaN</td>\n",
       "    </tr>\n",
       "    <tr>\n",
       "      <th>1</th>\n",
       "      <td>1/2/2020</td>\n",
       "      <td>-0.09</td>\n",
       "      <td>79.0</td>\n",
       "      <td>14.0</td>\n",
       "      <td>100.47</td>\n",
       "      <td>-0.44</td>\n",
       "      <td>NaN</td>\n",
       "      <td>NaN</td>\n",
       "      <td>86.0</td>\n",
       "      <td>NaN</td>\n",
       "      <td>NaN</td>\n",
       "      <td>18.5</td>\n",
       "      <td>NaN</td>\n",
       "      <td>NaN</td>\n",
       "      <td>100.15</td>\n",
       "      <td>NaN</td>\n",
       "      <td>NaN</td>\n",
       "      <td>NaN</td>\n",
       "      <td>NaN</td>\n",
       "      <td>NaN</td>\n",
       "      <td>NaN</td>\n",
       "      <td>NaN</td>\n",
       "      <td>NaN</td>\n",
       "      <td>NaN</td>\n",
       "      <td>NaN</td>\n",
       "      <td>NaN</td>\n",
       "      <td>NaN</td>\n",
       "      <td>NaN</td>\n",
       "      <td>NaN</td>\n",
       "    </tr>\n",
       "    <tr>\n",
       "      <th>2</th>\n",
       "      <td>1/3/2020</td>\n",
       "      <td>2.95</td>\n",
       "      <td>82.0</td>\n",
       "      <td>12.0</td>\n",
       "      <td>100.64</td>\n",
       "      <td>-0.09</td>\n",
       "      <td>-0.44</td>\n",
       "      <td>NaN</td>\n",
       "      <td>79.0</td>\n",
       "      <td>86.0</td>\n",
       "      <td>NaN</td>\n",
       "      <td>14.0</td>\n",
       "      <td>18.5</td>\n",
       "      <td>NaN</td>\n",
       "      <td>100.47</td>\n",
       "      <td>100.15</td>\n",
       "      <td>NaN</td>\n",
       "      <td>NaN</td>\n",
       "      <td>NaN</td>\n",
       "      <td>NaN</td>\n",
       "      <td>NaN</td>\n",
       "      <td>NaN</td>\n",
       "      <td>NaN</td>\n",
       "      <td>NaN</td>\n",
       "      <td>NaN</td>\n",
       "      <td>NaN</td>\n",
       "      <td>NaN</td>\n",
       "      <td>NaN</td>\n",
       "      <td>NaN</td>\n",
       "    </tr>\n",
       "    <tr>\n",
       "      <th>3</th>\n",
       "      <td>1/4/2020</td>\n",
       "      <td>-0.80</td>\n",
       "      <td>86.0</td>\n",
       "      <td>15.0</td>\n",
       "      <td>100.75</td>\n",
       "      <td>2.95</td>\n",
       "      <td>-0.09</td>\n",
       "      <td>-0.44</td>\n",
       "      <td>82.0</td>\n",
       "      <td>79.0</td>\n",
       "      <td>86.0</td>\n",
       "      <td>12.0</td>\n",
       "      <td>14.0</td>\n",
       "      <td>18.5</td>\n",
       "      <td>100.64</td>\n",
       "      <td>100.47</td>\n",
       "      <td>100.15</td>\n",
       "      <td>NaN</td>\n",
       "      <td>NaN</td>\n",
       "      <td>NaN</td>\n",
       "      <td>NaN</td>\n",
       "      <td>NaN</td>\n",
       "      <td>NaN</td>\n",
       "      <td>NaN</td>\n",
       "      <td>NaN</td>\n",
       "      <td>NaN</td>\n",
       "      <td>NaN</td>\n",
       "      <td>NaN</td>\n",
       "      <td>NaN</td>\n",
       "    </tr>\n",
       "    <tr>\n",
       "      <th>4</th>\n",
       "      <td>1/5/2020</td>\n",
       "      <td>-7.95</td>\n",
       "      <td>74.5</td>\n",
       "      <td>15.0</td>\n",
       "      <td>101.06</td>\n",
       "      <td>-0.80</td>\n",
       "      <td>2.95</td>\n",
       "      <td>-0.09</td>\n",
       "      <td>86.0</td>\n",
       "      <td>82.0</td>\n",
       "      <td>79.0</td>\n",
       "      <td>15.0</td>\n",
       "      <td>12.0</td>\n",
       "      <td>14.0</td>\n",
       "      <td>100.75</td>\n",
       "      <td>100.64</td>\n",
       "      <td>100.47</td>\n",
       "      <td>NaN</td>\n",
       "      <td>NaN</td>\n",
       "      <td>NaN</td>\n",
       "      <td>NaN</td>\n",
       "      <td>NaN</td>\n",
       "      <td>NaN</td>\n",
       "      <td>NaN</td>\n",
       "      <td>NaN</td>\n",
       "      <td>NaN</td>\n",
       "      <td>NaN</td>\n",
       "      <td>NaN</td>\n",
       "      <td>NaN</td>\n",
       "    </tr>\n",
       "    <tr>\n",
       "      <th>5</th>\n",
       "      <td>1/6/2020</td>\n",
       "      <td>-7.90</td>\n",
       "      <td>80.0</td>\n",
       "      <td>13.5</td>\n",
       "      <td>100.99</td>\n",
       "      <td>-7.95</td>\n",
       "      <td>-0.80</td>\n",
       "      <td>2.95</td>\n",
       "      <td>74.5</td>\n",
       "      <td>86.0</td>\n",
       "      <td>82.0</td>\n",
       "      <td>15.0</td>\n",
       "      <td>15.0</td>\n",
       "      <td>12.0</td>\n",
       "      <td>101.06</td>\n",
       "      <td>100.75</td>\n",
       "      <td>100.64</td>\n",
       "      <td>NaN</td>\n",
       "      <td>NaN</td>\n",
       "      <td>NaN</td>\n",
       "      <td>NaN</td>\n",
       "      <td>NaN</td>\n",
       "      <td>NaN</td>\n",
       "      <td>NaN</td>\n",
       "      <td>NaN</td>\n",
       "      <td>NaN</td>\n",
       "      <td>NaN</td>\n",
       "      <td>NaN</td>\n",
       "      <td>NaN</td>\n",
       "    </tr>\n",
       "    <tr>\n",
       "      <th>6</th>\n",
       "      <td>1/7/2020</td>\n",
       "      <td>-3.70</td>\n",
       "      <td>74.0</td>\n",
       "      <td>10.5</td>\n",
       "      <td>101.19</td>\n",
       "      <td>-7.90</td>\n",
       "      <td>-7.95</td>\n",
       "      <td>-0.80</td>\n",
       "      <td>80.0</td>\n",
       "      <td>74.5</td>\n",
       "      <td>86.0</td>\n",
       "      <td>13.5</td>\n",
       "      <td>15.0</td>\n",
       "      <td>15.0</td>\n",
       "      <td>100.99</td>\n",
       "      <td>101.06</td>\n",
       "      <td>100.75</td>\n",
       "      <td>-2.561429</td>\n",
       "      <td>NaN</td>\n",
       "      <td>NaN</td>\n",
       "      <td>80.214286</td>\n",
       "      <td>NaN</td>\n",
       "      <td>NaN</td>\n",
       "      <td>14.071429</td>\n",
       "      <td>NaN</td>\n",
       "      <td>NaN</td>\n",
       "      <td>100.750000</td>\n",
       "      <td>NaN</td>\n",
       "      <td>NaN</td>\n",
       "    </tr>\n",
       "    <tr>\n",
       "      <th>7</th>\n",
       "      <td>1/8/2020</td>\n",
       "      <td>-8.15</td>\n",
       "      <td>78.0</td>\n",
       "      <td>24.5</td>\n",
       "      <td>101.87</td>\n",
       "      <td>-3.70</td>\n",
       "      <td>-7.90</td>\n",
       "      <td>-7.95</td>\n",
       "      <td>74.0</td>\n",
       "      <td>80.0</td>\n",
       "      <td>74.5</td>\n",
       "      <td>10.5</td>\n",
       "      <td>13.5</td>\n",
       "      <td>15.0</td>\n",
       "      <td>101.19</td>\n",
       "      <td>100.99</td>\n",
       "      <td>101.06</td>\n",
       "      <td>-3.662857</td>\n",
       "      <td>NaN</td>\n",
       "      <td>NaN</td>\n",
       "      <td>79.071429</td>\n",
       "      <td>NaN</td>\n",
       "      <td>NaN</td>\n",
       "      <td>14.928571</td>\n",
       "      <td>NaN</td>\n",
       "      <td>NaN</td>\n",
       "      <td>100.995714</td>\n",
       "      <td>NaN</td>\n",
       "      <td>NaN</td>\n",
       "    </tr>\n",
       "    <tr>\n",
       "      <th>8</th>\n",
       "      <td>1/9/2020</td>\n",
       "      <td>-14.40</td>\n",
       "      <td>67.0</td>\n",
       "      <td>15.0</td>\n",
       "      <td>103.51</td>\n",
       "      <td>-8.15</td>\n",
       "      <td>-3.70</td>\n",
       "      <td>-7.90</td>\n",
       "      <td>78.0</td>\n",
       "      <td>74.0</td>\n",
       "      <td>80.0</td>\n",
       "      <td>24.5</td>\n",
       "      <td>10.5</td>\n",
       "      <td>13.5</td>\n",
       "      <td>101.87</td>\n",
       "      <td>101.19</td>\n",
       "      <td>100.99</td>\n",
       "      <td>-5.707143</td>\n",
       "      <td>NaN</td>\n",
       "      <td>NaN</td>\n",
       "      <td>77.357143</td>\n",
       "      <td>NaN</td>\n",
       "      <td>NaN</td>\n",
       "      <td>15.071429</td>\n",
       "      <td>NaN</td>\n",
       "      <td>NaN</td>\n",
       "      <td>101.430000</td>\n",
       "      <td>NaN</td>\n",
       "      <td>NaN</td>\n",
       "    </tr>\n",
       "    <tr>\n",
       "      <th>9</th>\n",
       "      <td>1/10/2020</td>\n",
       "      <td>-3.24</td>\n",
       "      <td>86.5</td>\n",
       "      <td>15.0</td>\n",
       "      <td>102.38</td>\n",
       "      <td>-14.40</td>\n",
       "      <td>-8.15</td>\n",
       "      <td>-3.70</td>\n",
       "      <td>67.0</td>\n",
       "      <td>78.0</td>\n",
       "      <td>74.0</td>\n",
       "      <td>15.0</td>\n",
       "      <td>24.5</td>\n",
       "      <td>10.5</td>\n",
       "      <td>103.51</td>\n",
       "      <td>101.87</td>\n",
       "      <td>101.19</td>\n",
       "      <td>-6.591429</td>\n",
       "      <td>NaN</td>\n",
       "      <td>NaN</td>\n",
       "      <td>78.000000</td>\n",
       "      <td>NaN</td>\n",
       "      <td>NaN</td>\n",
       "      <td>15.500000</td>\n",
       "      <td>NaN</td>\n",
       "      <td>NaN</td>\n",
       "      <td>101.678571</td>\n",
       "      <td>NaN</td>\n",
       "      <td>NaN</td>\n",
       "    </tr>\n",
       "    <tr>\n",
       "      <th>10</th>\n",
       "      <td>1/11/2020</td>\n",
       "      <td>2.95</td>\n",
       "      <td>96.0</td>\n",
       "      <td>17.0</td>\n",
       "      <td>101.58</td>\n",
       "      <td>-3.24</td>\n",
       "      <td>-14.40</td>\n",
       "      <td>-8.15</td>\n",
       "      <td>86.5</td>\n",
       "      <td>67.0</td>\n",
       "      <td>78.0</td>\n",
       "      <td>15.0</td>\n",
       "      <td>15.0</td>\n",
       "      <td>24.5</td>\n",
       "      <td>102.38</td>\n",
       "      <td>103.51</td>\n",
       "      <td>101.87</td>\n",
       "      <td>-6.055714</td>\n",
       "      <td>NaN</td>\n",
       "      <td>NaN</td>\n",
       "      <td>79.428571</td>\n",
       "      <td>NaN</td>\n",
       "      <td>NaN</td>\n",
       "      <td>15.785714</td>\n",
       "      <td>NaN</td>\n",
       "      <td>NaN</td>\n",
       "      <td>101.797143</td>\n",
       "      <td>NaN</td>\n",
       "      <td>NaN</td>\n",
       "    </tr>\n",
       "    <tr>\n",
       "      <th>11</th>\n",
       "      <td>1/12/2020</td>\n",
       "      <td>-6.80</td>\n",
       "      <td>82.0</td>\n",
       "      <td>18.0</td>\n",
       "      <td>102.03</td>\n",
       "      <td>2.95</td>\n",
       "      <td>-3.24</td>\n",
       "      <td>-14.40</td>\n",
       "      <td>96.0</td>\n",
       "      <td>86.5</td>\n",
       "      <td>67.0</td>\n",
       "      <td>17.0</td>\n",
       "      <td>15.0</td>\n",
       "      <td>15.0</td>\n",
       "      <td>101.58</td>\n",
       "      <td>102.38</td>\n",
       "      <td>103.51</td>\n",
       "      <td>-5.891429</td>\n",
       "      <td>NaN</td>\n",
       "      <td>NaN</td>\n",
       "      <td>80.500000</td>\n",
       "      <td>NaN</td>\n",
       "      <td>NaN</td>\n",
       "      <td>16.214286</td>\n",
       "      <td>NaN</td>\n",
       "      <td>NaN</td>\n",
       "      <td>101.935714</td>\n",
       "      <td>NaN</td>\n",
       "      <td>NaN</td>\n",
       "    </tr>\n",
       "    <tr>\n",
       "      <th>12</th>\n",
       "      <td>1/13/2020</td>\n",
       "      <td>-9.19</td>\n",
       "      <td>84.5</td>\n",
       "      <td>10.5</td>\n",
       "      <td>103.14</td>\n",
       "      <td>-6.80</td>\n",
       "      <td>2.95</td>\n",
       "      <td>-3.24</td>\n",
       "      <td>82.0</td>\n",
       "      <td>96.0</td>\n",
       "      <td>86.5</td>\n",
       "      <td>18.0</td>\n",
       "      <td>17.0</td>\n",
       "      <td>15.0</td>\n",
       "      <td>102.03</td>\n",
       "      <td>101.58</td>\n",
       "      <td>102.38</td>\n",
       "      <td>-6.075714</td>\n",
       "      <td>NaN</td>\n",
       "      <td>NaN</td>\n",
       "      <td>81.142857</td>\n",
       "      <td>NaN</td>\n",
       "      <td>NaN</td>\n",
       "      <td>15.785714</td>\n",
       "      <td>NaN</td>\n",
       "      <td>NaN</td>\n",
       "      <td>102.242857</td>\n",
       "      <td>NaN</td>\n",
       "      <td>NaN</td>\n",
       "    </tr>\n",
       "    <tr>\n",
       "      <th>13</th>\n",
       "      <td>1/14/2020</td>\n",
       "      <td>-7.55</td>\n",
       "      <td>89.5</td>\n",
       "      <td>12.0</td>\n",
       "      <td>102.47</td>\n",
       "      <td>-9.19</td>\n",
       "      <td>-6.80</td>\n",
       "      <td>2.95</td>\n",
       "      <td>84.5</td>\n",
       "      <td>82.0</td>\n",
       "      <td>96.0</td>\n",
       "      <td>10.5</td>\n",
       "      <td>18.0</td>\n",
       "      <td>17.0</td>\n",
       "      <td>103.14</td>\n",
       "      <td>102.03</td>\n",
       "      <td>101.58</td>\n",
       "      <td>-6.625714</td>\n",
       "      <td>-4.593571</td>\n",
       "      <td>NaN</td>\n",
       "      <td>83.357143</td>\n",
       "      <td>81.785714</td>\n",
       "      <td>NaN</td>\n",
       "      <td>16.000000</td>\n",
       "      <td>15.035714</td>\n",
       "      <td>NaN</td>\n",
       "      <td>102.425714</td>\n",
       "      <td>101.587857</td>\n",
       "      <td>NaN</td>\n",
       "    </tr>\n",
       "    <tr>\n",
       "      <th>14</th>\n",
       "      <td>1/15/2020</td>\n",
       "      <td>-3.00</td>\n",
       "      <td>90.5</td>\n",
       "      <td>8.5</td>\n",
       "      <td>101.85</td>\n",
       "      <td>-7.55</td>\n",
       "      <td>-9.19</td>\n",
       "      <td>-6.80</td>\n",
       "      <td>89.5</td>\n",
       "      <td>84.5</td>\n",
       "      <td>82.0</td>\n",
       "      <td>12.0</td>\n",
       "      <td>10.5</td>\n",
       "      <td>18.0</td>\n",
       "      <td>102.47</td>\n",
       "      <td>103.14</td>\n",
       "      <td>102.03</td>\n",
       "      <td>-5.890000</td>\n",
       "      <td>-4.776429</td>\n",
       "      <td>NaN</td>\n",
       "      <td>85.142857</td>\n",
       "      <td>82.107143</td>\n",
       "      <td>NaN</td>\n",
       "      <td>13.714286</td>\n",
       "      <td>14.321429</td>\n",
       "      <td>NaN</td>\n",
       "      <td>102.422857</td>\n",
       "      <td>101.709286</td>\n",
       "      <td>NaN</td>\n",
       "    </tr>\n",
       "    <tr>\n",
       "      <th>15</th>\n",
       "      <td>1/16/2020</td>\n",
       "      <td>-9.50</td>\n",
       "      <td>82.0</td>\n",
       "      <td>22.5</td>\n",
       "      <td>102.35</td>\n",
       "      <td>-3.00</td>\n",
       "      <td>-7.55</td>\n",
       "      <td>-9.19</td>\n",
       "      <td>90.5</td>\n",
       "      <td>89.5</td>\n",
       "      <td>84.5</td>\n",
       "      <td>8.5</td>\n",
       "      <td>12.0</td>\n",
       "      <td>10.5</td>\n",
       "      <td>101.85</td>\n",
       "      <td>102.47</td>\n",
       "      <td>103.14</td>\n",
       "      <td>-5.190000</td>\n",
       "      <td>-5.448571</td>\n",
       "      <td>NaN</td>\n",
       "      <td>87.285714</td>\n",
       "      <td>82.321429</td>\n",
       "      <td>NaN</td>\n",
       "      <td>14.785714</td>\n",
       "      <td>14.928571</td>\n",
       "      <td>NaN</td>\n",
       "      <td>102.257143</td>\n",
       "      <td>101.843571</td>\n",
       "      <td>NaN</td>\n",
       "    </tr>\n",
       "    <tr>\n",
       "      <th>16</th>\n",
       "      <td>1/17/2020</td>\n",
       "      <td>-18.55</td>\n",
       "      <td>67.0</td>\n",
       "      <td>19.5</td>\n",
       "      <td>104.06</td>\n",
       "      <td>-9.50</td>\n",
       "      <td>-3.00</td>\n",
       "      <td>-7.55</td>\n",
       "      <td>82.0</td>\n",
       "      <td>90.5</td>\n",
       "      <td>89.5</td>\n",
       "      <td>22.5</td>\n",
       "      <td>8.5</td>\n",
       "      <td>12.0</td>\n",
       "      <td>102.35</td>\n",
       "      <td>101.85</td>\n",
       "      <td>102.47</td>\n",
       "      <td>-7.377143</td>\n",
       "      <td>-6.984286</td>\n",
       "      <td>NaN</td>\n",
       "      <td>84.500000</td>\n",
       "      <td>81.250000</td>\n",
       "      <td>NaN</td>\n",
       "      <td>15.428571</td>\n",
       "      <td>15.464286</td>\n",
       "      <td>NaN</td>\n",
       "      <td>102.497143</td>\n",
       "      <td>102.087857</td>\n",
       "      <td>NaN</td>\n",
       "    </tr>\n",
       "    <tr>\n",
       "      <th>17</th>\n",
       "      <td>1/18/2020</td>\n",
       "      <td>-16.55</td>\n",
       "      <td>76.5</td>\n",
       "      <td>19.5</td>\n",
       "      <td>102.18</td>\n",
       "      <td>-18.55</td>\n",
       "      <td>-9.50</td>\n",
       "      <td>-3.00</td>\n",
       "      <td>67.0</td>\n",
       "      <td>82.0</td>\n",
       "      <td>90.5</td>\n",
       "      <td>19.5</td>\n",
       "      <td>22.5</td>\n",
       "      <td>8.5</td>\n",
       "      <td>104.06</td>\n",
       "      <td>102.35</td>\n",
       "      <td>101.85</td>\n",
       "      <td>-10.162857</td>\n",
       "      <td>-8.109286</td>\n",
       "      <td>NaN</td>\n",
       "      <td>81.714286</td>\n",
       "      <td>80.571429</td>\n",
       "      <td>NaN</td>\n",
       "      <td>15.785714</td>\n",
       "      <td>15.785714</td>\n",
       "      <td>NaN</td>\n",
       "      <td>102.582857</td>\n",
       "      <td>102.190000</td>\n",
       "      <td>NaN</td>\n",
       "    </tr>\n",
       "    <tr>\n",
       "      <th>18</th>\n",
       "      <td>1/19/2020</td>\n",
       "      <td>-12.25</td>\n",
       "      <td>77.5</td>\n",
       "      <td>18.5</td>\n",
       "      <td>101.21</td>\n",
       "      <td>-16.55</td>\n",
       "      <td>-18.55</td>\n",
       "      <td>-9.50</td>\n",
       "      <td>76.5</td>\n",
       "      <td>67.0</td>\n",
       "      <td>82.0</td>\n",
       "      <td>19.5</td>\n",
       "      <td>19.5</td>\n",
       "      <td>22.5</td>\n",
       "      <td>102.18</td>\n",
       "      <td>104.06</td>\n",
       "      <td>102.35</td>\n",
       "      <td>-10.941429</td>\n",
       "      <td>-8.416429</td>\n",
       "      <td>NaN</td>\n",
       "      <td>81.071429</td>\n",
       "      <td>80.785714</td>\n",
       "      <td>NaN</td>\n",
       "      <td>15.857143</td>\n",
       "      <td>16.035714</td>\n",
       "      <td>NaN</td>\n",
       "      <td>102.465714</td>\n",
       "      <td>102.200714</td>\n",
       "      <td>NaN</td>\n",
       "    </tr>\n",
       "    <tr>\n",
       "      <th>19</th>\n",
       "      <td>1/20/2020</td>\n",
       "      <td>-14.90</td>\n",
       "      <td>67.0</td>\n",
       "      <td>18.0</td>\n",
       "      <td>102.70</td>\n",
       "      <td>-12.25</td>\n",
       "      <td>-16.55</td>\n",
       "      <td>-18.55</td>\n",
       "      <td>77.5</td>\n",
       "      <td>76.5</td>\n",
       "      <td>67.0</td>\n",
       "      <td>18.5</td>\n",
       "      <td>19.5</td>\n",
       "      <td>19.5</td>\n",
       "      <td>101.21</td>\n",
       "      <td>102.18</td>\n",
       "      <td>104.06</td>\n",
       "      <td>-11.757143</td>\n",
       "      <td>-8.916429</td>\n",
       "      <td>NaN</td>\n",
       "      <td>78.571429</td>\n",
       "      <td>79.857143</td>\n",
       "      <td>NaN</td>\n",
       "      <td>16.928571</td>\n",
       "      <td>16.357143</td>\n",
       "      <td>NaN</td>\n",
       "      <td>102.402857</td>\n",
       "      <td>102.322857</td>\n",
       "      <td>NaN</td>\n",
       "    </tr>\n",
       "    <tr>\n",
       "      <th>20</th>\n",
       "      <td>1/21/2020</td>\n",
       "      <td>-12.45</td>\n",
       "      <td>70.0</td>\n",
       "      <td>15.5</td>\n",
       "      <td>102.86</td>\n",
       "      <td>-14.90</td>\n",
       "      <td>-12.25</td>\n",
       "      <td>-16.55</td>\n",
       "      <td>67.0</td>\n",
       "      <td>77.5</td>\n",
       "      <td>76.5</td>\n",
       "      <td>18.0</td>\n",
       "      <td>18.5</td>\n",
       "      <td>19.5</td>\n",
       "      <td>102.70</td>\n",
       "      <td>101.21</td>\n",
       "      <td>102.18</td>\n",
       "      <td>-12.457143</td>\n",
       "      <td>-9.541429</td>\n",
       "      <td>-7.214762</td>\n",
       "      <td>75.785714</td>\n",
       "      <td>79.571429</td>\n",
       "      <td>79.785714</td>\n",
       "      <td>17.428571</td>\n",
       "      <td>16.714286</td>\n",
       "      <td>15.833333</td>\n",
       "      <td>102.458571</td>\n",
       "      <td>102.442143</td>\n",
       "      <td>101.878095</td>\n",
       "    </tr>\n",
       "  </tbody>\n",
       "</table>\n",
       "</div>"
      ],
      "text/plain": [
       "         DATE   Temp  relative_humidity  wind_speed  Pressure  Temp_lag_1  Temp_lag_2  Temp_lag_3  relative_humidity_lag_1  relative_humidity_lag_2  relative_humidity_lag_3  wind_speed_lag_1  wind_speed_lag_2  wind_speed_lag_3  Pressure_lag_1  Pressure_lag_2  Pressure_lag_3  Temp_rolling_mean_7  Temp_rolling_mean_14  Temp_rolling_mean_21  relative_humidity_rolling_mean_7  relative_humidity_rolling_mean_14  relative_humidity_rolling_mean_21  wind_speed_rolling_mean_7  wind_speed_rolling_mean_14  wind_speed_rolling_mean_21  Pressure_rolling_mean_7  Pressure_rolling_mean_14  Pressure_rolling_mean_21\n",
       "0    1/1/2020  -0.44               86.0        18.5    100.15         NaN         NaN         NaN                      NaN                      NaN                      NaN               NaN               NaN               NaN             NaN             NaN             NaN                  NaN                   NaN                   NaN                               NaN                                NaN                                NaN                        NaN                         NaN                         NaN                      NaN                       NaN                       NaN\n",
       "1    1/2/2020  -0.09               79.0        14.0    100.47       -0.44         NaN         NaN                     86.0                      NaN                      NaN              18.5               NaN               NaN          100.15             NaN             NaN                  NaN                   NaN                   NaN                               NaN                                NaN                                NaN                        NaN                         NaN                         NaN                      NaN                       NaN                       NaN\n",
       "2    1/3/2020   2.95               82.0        12.0    100.64       -0.09       -0.44         NaN                     79.0                     86.0                      NaN              14.0              18.5               NaN          100.47          100.15             NaN                  NaN                   NaN                   NaN                               NaN                                NaN                                NaN                        NaN                         NaN                         NaN                      NaN                       NaN                       NaN\n",
       "3    1/4/2020  -0.80               86.0        15.0    100.75        2.95       -0.09       -0.44                     82.0                     79.0                     86.0              12.0              14.0              18.5          100.64          100.47          100.15                  NaN                   NaN                   NaN                               NaN                                NaN                                NaN                        NaN                         NaN                         NaN                      NaN                       NaN                       NaN\n",
       "4    1/5/2020  -7.95               74.5        15.0    101.06       -0.80        2.95       -0.09                     86.0                     82.0                     79.0              15.0              12.0              14.0          100.75          100.64          100.47                  NaN                   NaN                   NaN                               NaN                                NaN                                NaN                        NaN                         NaN                         NaN                      NaN                       NaN                       NaN\n",
       "5    1/6/2020  -7.90               80.0        13.5    100.99       -7.95       -0.80        2.95                     74.5                     86.0                     82.0              15.0              15.0              12.0          101.06          100.75          100.64                  NaN                   NaN                   NaN                               NaN                                NaN                                NaN                        NaN                         NaN                         NaN                      NaN                       NaN                       NaN\n",
       "6    1/7/2020  -3.70               74.0        10.5    101.19       -7.90       -7.95       -0.80                     80.0                     74.5                     86.0              13.5              15.0              15.0          100.99          101.06          100.75            -2.561429                   NaN                   NaN                         80.214286                                NaN                                NaN                  14.071429                         NaN                         NaN               100.750000                       NaN                       NaN\n",
       "7    1/8/2020  -8.15               78.0        24.5    101.87       -3.70       -7.90       -7.95                     74.0                     80.0                     74.5              10.5              13.5              15.0          101.19          100.99          101.06            -3.662857                   NaN                   NaN                         79.071429                                NaN                                NaN                  14.928571                         NaN                         NaN               100.995714                       NaN                       NaN\n",
       "8    1/9/2020 -14.40               67.0        15.0    103.51       -8.15       -3.70       -7.90                     78.0                     74.0                     80.0              24.5              10.5              13.5          101.87          101.19          100.99            -5.707143                   NaN                   NaN                         77.357143                                NaN                                NaN                  15.071429                         NaN                         NaN               101.430000                       NaN                       NaN\n",
       "9   1/10/2020  -3.24               86.5        15.0    102.38      -14.40       -8.15       -3.70                     67.0                     78.0                     74.0              15.0              24.5              10.5          103.51          101.87          101.19            -6.591429                   NaN                   NaN                         78.000000                                NaN                                NaN                  15.500000                         NaN                         NaN               101.678571                       NaN                       NaN\n",
       "10  1/11/2020   2.95               96.0        17.0    101.58       -3.24      -14.40       -8.15                     86.5                     67.0                     78.0              15.0              15.0              24.5          102.38          103.51          101.87            -6.055714                   NaN                   NaN                         79.428571                                NaN                                NaN                  15.785714                         NaN                         NaN               101.797143                       NaN                       NaN\n",
       "11  1/12/2020  -6.80               82.0        18.0    102.03        2.95       -3.24      -14.40                     96.0                     86.5                     67.0              17.0              15.0              15.0          101.58          102.38          103.51            -5.891429                   NaN                   NaN                         80.500000                                NaN                                NaN                  16.214286                         NaN                         NaN               101.935714                       NaN                       NaN\n",
       "12  1/13/2020  -9.19               84.5        10.5    103.14       -6.80        2.95       -3.24                     82.0                     96.0                     86.5              18.0              17.0              15.0          102.03          101.58          102.38            -6.075714                   NaN                   NaN                         81.142857                                NaN                                NaN                  15.785714                         NaN                         NaN               102.242857                       NaN                       NaN\n",
       "13  1/14/2020  -7.55               89.5        12.0    102.47       -9.19       -6.80        2.95                     84.5                     82.0                     96.0              10.5              18.0              17.0          103.14          102.03          101.58            -6.625714             -4.593571                   NaN                         83.357143                          81.785714                                NaN                  16.000000                   15.035714                         NaN               102.425714                101.587857                       NaN\n",
       "14  1/15/2020  -3.00               90.5         8.5    101.85       -7.55       -9.19       -6.80                     89.5                     84.5                     82.0              12.0              10.5              18.0          102.47          103.14          102.03            -5.890000             -4.776429                   NaN                         85.142857                          82.107143                                NaN                  13.714286                   14.321429                         NaN               102.422857                101.709286                       NaN\n",
       "15  1/16/2020  -9.50               82.0        22.5    102.35       -3.00       -7.55       -9.19                     90.5                     89.5                     84.5               8.5              12.0              10.5          101.85          102.47          103.14            -5.190000             -5.448571                   NaN                         87.285714                          82.321429                                NaN                  14.785714                   14.928571                         NaN               102.257143                101.843571                       NaN\n",
       "16  1/17/2020 -18.55               67.0        19.5    104.06       -9.50       -3.00       -7.55                     82.0                     90.5                     89.5              22.5               8.5              12.0          102.35          101.85          102.47            -7.377143             -6.984286                   NaN                         84.500000                          81.250000                                NaN                  15.428571                   15.464286                         NaN               102.497143                102.087857                       NaN\n",
       "17  1/18/2020 -16.55               76.5        19.5    102.18      -18.55       -9.50       -3.00                     67.0                     82.0                     90.5              19.5              22.5               8.5          104.06          102.35          101.85           -10.162857             -8.109286                   NaN                         81.714286                          80.571429                                NaN                  15.785714                   15.785714                         NaN               102.582857                102.190000                       NaN\n",
       "18  1/19/2020 -12.25               77.5        18.5    101.21      -16.55      -18.55       -9.50                     76.5                     67.0                     82.0              19.5              19.5              22.5          102.18          104.06          102.35           -10.941429             -8.416429                   NaN                         81.071429                          80.785714                                NaN                  15.857143                   16.035714                         NaN               102.465714                102.200714                       NaN\n",
       "19  1/20/2020 -14.90               67.0        18.0    102.70      -12.25      -16.55      -18.55                     77.5                     76.5                     67.0              18.5              19.5              19.5          101.21          102.18          104.06           -11.757143             -8.916429                   NaN                         78.571429                          79.857143                                NaN                  16.928571                   16.357143                         NaN               102.402857                102.322857                       NaN\n",
       "20  1/21/2020 -12.45               70.0        15.5    102.86      -14.90      -12.25      -16.55                     67.0                     77.5                     76.5              18.0              18.5              19.5          102.70          101.21          102.18           -12.457143             -9.541429             -7.214762                         75.785714                          79.571429                          79.785714                  17.428571                   16.714286                   15.833333               102.458571                102.442143                101.878095"
      ]
     },
     "execution_count": 9,
     "metadata": {},
     "output_type": "execute_result"
    }
   ],
   "source": [
    "rolled_data.head(21)"
   ]
  },
  {
   "cell_type": "markdown",
   "metadata": {},
   "source": [
    "#### Fourier Transformation"
   ]
  },
  {
   "cell_type": "code",
   "execution_count": 10,
   "metadata": {},
   "outputs": [],
   "source": [
    "from scipy.fft import fft"
   ]
  },
  {
   "cell_type": "code",
   "execution_count": 11,
   "metadata": {},
   "outputs": [],
   "source": [
    "\n",
    "def apply_fourier_transform(data,column):\n",
    "    values = data[column].values\n",
    "    f = fft(values)\n",
    "    data[f\"{column}_fft\"] = np.abs(f)\n",
    "    return data"
   ]
  },
  {
   "cell_type": "code",
   "execution_count": 12,
   "metadata": {},
   "outputs": [],
   "source": [
    "for column in [\"Temp\", \"relative_humidity\", \"wind_speed\", \"Pressure\"]:\n",
    "    fourier_data = apply_fourier_transform(rolled_data,column)"
   ]
  },
  {
   "cell_type": "markdown",
   "metadata": {},
   "source": [
    "## Training"
   ]
  },
  {
   "cell_type": "code",
   "execution_count": 14,
   "metadata": {},
   "outputs": [],
   "source": [
    "train_size = int(len(fourier_data) * 0.8)\n",
    "train_data, test_data = fourier_data[21:train_size], fourier_data[train_size:]"
   ]
  },
  {
   "cell_type": "code",
   "execution_count": 22,
   "metadata": {},
   "outputs": [],
   "source": [
    "X_train = train_data.drop([\"Temp\"],axis = 1).set_index(\"DATE\")\n",
    "y_train = train_data[[\"DATE\",\"Temp\"]].set_index(\"DATE\")"
   ]
  },
  {
   "cell_type": "code",
   "execution_count": 27,
   "metadata": {},
   "outputs": [],
   "source": [
    "X_test = test_data.drop([\"Temp\"],axis = 1).set_index(\"DATE\")\n",
    "y_test = test_data[[\"DATE\",\"Temp\"]].set_index(\"DATE\")"
   ]
  },
  {
   "cell_type": "code",
   "execution_count": 15,
   "metadata": {},
   "outputs": [
    {
     "data": {
      "text/html": [
       "<div>\n",
       "<style scoped>\n",
       "    .dataframe tbody tr th:only-of-type {\n",
       "        vertical-align: middle;\n",
       "    }\n",
       "\n",
       "    .dataframe tbody tr th {\n",
       "        vertical-align: top;\n",
       "    }\n",
       "\n",
       "    .dataframe thead th {\n",
       "        text-align: right;\n",
       "    }\n",
       "</style>\n",
       "<table border=\"1\" class=\"dataframe\">\n",
       "  <thead>\n",
       "    <tr style=\"text-align: right;\">\n",
       "      <th></th>\n",
       "      <th>DATE</th>\n",
       "      <th>Temp</th>\n",
       "      <th>relative_humidity</th>\n",
       "      <th>wind_speed</th>\n",
       "      <th>Pressure</th>\n",
       "      <th>Temp_lag_1</th>\n",
       "      <th>Temp_lag_2</th>\n",
       "      <th>Temp_lag_3</th>\n",
       "      <th>relative_humidity_lag_1</th>\n",
       "      <th>relative_humidity_lag_2</th>\n",
       "      <th>relative_humidity_lag_3</th>\n",
       "      <th>wind_speed_lag_1</th>\n",
       "      <th>wind_speed_lag_2</th>\n",
       "      <th>wind_speed_lag_3</th>\n",
       "      <th>Pressure_lag_1</th>\n",
       "      <th>Pressure_lag_2</th>\n",
       "      <th>Pressure_lag_3</th>\n",
       "      <th>Temp_rolling_mean_7</th>\n",
       "      <th>Temp_rolling_mean_14</th>\n",
       "      <th>Temp_rolling_mean_21</th>\n",
       "      <th>relative_humidity_rolling_mean_7</th>\n",
       "      <th>relative_humidity_rolling_mean_14</th>\n",
       "      <th>relative_humidity_rolling_mean_21</th>\n",
       "      <th>wind_speed_rolling_mean_7</th>\n",
       "      <th>wind_speed_rolling_mean_14</th>\n",
       "      <th>wind_speed_rolling_mean_21</th>\n",
       "      <th>Pressure_rolling_mean_7</th>\n",
       "      <th>Pressure_rolling_mean_14</th>\n",
       "      <th>Pressure_rolling_mean_21</th>\n",
       "      <th>Temp_fft</th>\n",
       "      <th>relative_humidity_fft</th>\n",
       "      <th>wind_speed_fft</th>\n",
       "      <th>Pressure_fft</th>\n",
       "    </tr>\n",
       "  </thead>\n",
       "  <tbody>\n",
       "    <tr>\n",
       "      <th>21</th>\n",
       "      <td>1/22/2020</td>\n",
       "      <td>-3.30</td>\n",
       "      <td>71.0</td>\n",
       "      <td>21.5</td>\n",
       "      <td>102.48</td>\n",
       "      <td>-12.45</td>\n",
       "      <td>-14.90</td>\n",
       "      <td>-12.25</td>\n",
       "      <td>70.0</td>\n",
       "      <td>67.0</td>\n",
       "      <td>77.5</td>\n",
       "      <td>15.5</td>\n",
       "      <td>18.0</td>\n",
       "      <td>18.5</td>\n",
       "      <td>102.86</td>\n",
       "      <td>102.70</td>\n",
       "      <td>101.21</td>\n",
       "      <td>-12.500000</td>\n",
       "      <td>-9.195000</td>\n",
       "      <td>-7.350952</td>\n",
       "      <td>73.000000</td>\n",
       "      <td>79.071429</td>\n",
       "      <td>79.071429</td>\n",
       "      <td>19.285714</td>\n",
       "      <td>16.500000</td>\n",
       "      <td>15.976190</td>\n",
       "      <td>102.548571</td>\n",
       "      <td>102.485714</td>\n",
       "      <td>101.989048</td>\n",
       "      <td>309.288579</td>\n",
       "      <td>243.252570</td>\n",
       "      <td>159.706275</td>\n",
       "      <td>30.861174</td>\n",
       "    </tr>\n",
       "    <tr>\n",
       "      <th>22</th>\n",
       "      <td>1/23/2020</td>\n",
       "      <td>-1.65</td>\n",
       "      <td>74.0</td>\n",
       "      <td>9.5</td>\n",
       "      <td>102.60</td>\n",
       "      <td>-3.30</td>\n",
       "      <td>-12.45</td>\n",
       "      <td>-14.90</td>\n",
       "      <td>71.0</td>\n",
       "      <td>70.0</td>\n",
       "      <td>67.0</td>\n",
       "      <td>21.5</td>\n",
       "      <td>15.5</td>\n",
       "      <td>18.0</td>\n",
       "      <td>102.48</td>\n",
       "      <td>102.86</td>\n",
       "      <td>102.70</td>\n",
       "      <td>-11.378571</td>\n",
       "      <td>-8.284286</td>\n",
       "      <td>-7.425238</td>\n",
       "      <td>71.857143</td>\n",
       "      <td>79.571429</td>\n",
       "      <td>78.833333</td>\n",
       "      <td>17.428571</td>\n",
       "      <td>16.107143</td>\n",
       "      <td>15.761905</td>\n",
       "      <td>102.584286</td>\n",
       "      <td>102.420714</td>\n",
       "      <td>102.090476</td>\n",
       "      <td>226.561650</td>\n",
       "      <td>306.223998</td>\n",
       "      <td>55.700913</td>\n",
       "      <td>19.780606</td>\n",
       "    </tr>\n",
       "    <tr>\n",
       "      <th>23</th>\n",
       "      <td>1/24/2020</td>\n",
       "      <td>-1.40</td>\n",
       "      <td>76.0</td>\n",
       "      <td>17.0</td>\n",
       "      <td>102.69</td>\n",
       "      <td>-1.65</td>\n",
       "      <td>-3.30</td>\n",
       "      <td>-12.45</td>\n",
       "      <td>74.0</td>\n",
       "      <td>71.0</td>\n",
       "      <td>70.0</td>\n",
       "      <td>9.5</td>\n",
       "      <td>21.5</td>\n",
       "      <td>15.5</td>\n",
       "      <td>102.60</td>\n",
       "      <td>102.48</td>\n",
       "      <td>102.86</td>\n",
       "      <td>-8.928571</td>\n",
       "      <td>-8.152857</td>\n",
       "      <td>-7.632381</td>\n",
       "      <td>73.142857</td>\n",
       "      <td>78.821429</td>\n",
       "      <td>78.547619</td>\n",
       "      <td>17.071429</td>\n",
       "      <td>16.250000</td>\n",
       "      <td>16.000000</td>\n",
       "      <td>102.388571</td>\n",
       "      <td>102.442857</td>\n",
       "      <td>102.188095</td>\n",
       "      <td>48.433586</td>\n",
       "      <td>708.088214</td>\n",
       "      <td>39.087506</td>\n",
       "      <td>54.892608</td>\n",
       "    </tr>\n",
       "    <tr>\n",
       "      <th>24</th>\n",
       "      <td>1/25/2020</td>\n",
       "      <td>-1.10</td>\n",
       "      <td>85.5</td>\n",
       "      <td>22.5</td>\n",
       "      <td>101.49</td>\n",
       "      <td>-1.40</td>\n",
       "      <td>-1.65</td>\n",
       "      <td>-3.30</td>\n",
       "      <td>76.0</td>\n",
       "      <td>74.0</td>\n",
       "      <td>71.0</td>\n",
       "      <td>17.0</td>\n",
       "      <td>9.5</td>\n",
       "      <td>21.5</td>\n",
       "      <td>102.69</td>\n",
       "      <td>102.60</td>\n",
       "      <td>102.48</td>\n",
       "      <td>-6.721429</td>\n",
       "      <td>-8.442143</td>\n",
       "      <td>-7.646667</td>\n",
       "      <td>74.428571</td>\n",
       "      <td>78.071429</td>\n",
       "      <td>78.523810</td>\n",
       "      <td>17.500000</td>\n",
       "      <td>16.642857</td>\n",
       "      <td>16.357143</td>\n",
       "      <td>102.290000</td>\n",
       "      <td>102.436429</td>\n",
       "      <td>102.223333</td>\n",
       "      <td>382.734213</td>\n",
       "      <td>212.914487</td>\n",
       "      <td>116.181539</td>\n",
       "      <td>23.940134</td>\n",
       "    </tr>\n",
       "    <tr>\n",
       "      <th>25</th>\n",
       "      <td>1/26/2020</td>\n",
       "      <td>0.64</td>\n",
       "      <td>95.5</td>\n",
       "      <td>13.0</td>\n",
       "      <td>100.33</td>\n",
       "      <td>-1.10</td>\n",
       "      <td>-1.40</td>\n",
       "      <td>-1.65</td>\n",
       "      <td>85.5</td>\n",
       "      <td>76.0</td>\n",
       "      <td>74.0</td>\n",
       "      <td>22.5</td>\n",
       "      <td>17.0</td>\n",
       "      <td>9.5</td>\n",
       "      <td>101.49</td>\n",
       "      <td>102.69</td>\n",
       "      <td>102.60</td>\n",
       "      <td>-4.880000</td>\n",
       "      <td>-7.910714</td>\n",
       "      <td>-7.237619</td>\n",
       "      <td>77.000000</td>\n",
       "      <td>79.035714</td>\n",
       "      <td>79.523810</td>\n",
       "      <td>16.714286</td>\n",
       "      <td>16.285714</td>\n",
       "      <td>16.261905</td>\n",
       "      <td>102.164286</td>\n",
       "      <td>102.315000</td>\n",
       "      <td>102.188571</td>\n",
       "      <td>321.694799</td>\n",
       "      <td>397.196824</td>\n",
       "      <td>91.449985</td>\n",
       "      <td>41.356523</td>\n",
       "    </tr>\n",
       "  </tbody>\n",
       "</table>\n",
       "</div>"
      ],
      "text/plain": [
       "         DATE  Temp  relative_humidity  wind_speed  Pressure  Temp_lag_1  Temp_lag_2  Temp_lag_3  relative_humidity_lag_1  relative_humidity_lag_2  relative_humidity_lag_3  wind_speed_lag_1  wind_speed_lag_2  wind_speed_lag_3  Pressure_lag_1  Pressure_lag_2  Pressure_lag_3  Temp_rolling_mean_7  Temp_rolling_mean_14  Temp_rolling_mean_21  relative_humidity_rolling_mean_7  relative_humidity_rolling_mean_14  relative_humidity_rolling_mean_21  wind_speed_rolling_mean_7  wind_speed_rolling_mean_14  wind_speed_rolling_mean_21  Pressure_rolling_mean_7  Pressure_rolling_mean_14  Pressure_rolling_mean_21    Temp_fft  relative_humidity_fft  wind_speed_fft  Pressure_fft\n",
       "21  1/22/2020 -3.30               71.0        21.5    102.48      -12.45      -14.90      -12.25                     70.0                     67.0                     77.5              15.5              18.0              18.5          102.86          102.70          101.21           -12.500000             -9.195000             -7.350952                         73.000000                          79.071429                          79.071429                  19.285714                   16.500000                   15.976190               102.548571                102.485714                101.989048  309.288579             243.252570      159.706275     30.861174\n",
       "22  1/23/2020 -1.65               74.0         9.5    102.60       -3.30      -12.45      -14.90                     71.0                     70.0                     67.0              21.5              15.5              18.0          102.48          102.86          102.70           -11.378571             -8.284286             -7.425238                         71.857143                          79.571429                          78.833333                  17.428571                   16.107143                   15.761905               102.584286                102.420714                102.090476  226.561650             306.223998       55.700913     19.780606\n",
       "23  1/24/2020 -1.40               76.0        17.0    102.69       -1.65       -3.30      -12.45                     74.0                     71.0                     70.0               9.5              21.5              15.5          102.60          102.48          102.86            -8.928571             -8.152857             -7.632381                         73.142857                          78.821429                          78.547619                  17.071429                   16.250000                   16.000000               102.388571                102.442857                102.188095   48.433586             708.088214       39.087506     54.892608\n",
       "24  1/25/2020 -1.10               85.5        22.5    101.49       -1.40       -1.65       -3.30                     76.0                     74.0                     71.0              17.0               9.5              21.5          102.69          102.60          102.48            -6.721429             -8.442143             -7.646667                         74.428571                          78.071429                          78.523810                  17.500000                   16.642857                   16.357143               102.290000                102.436429                102.223333  382.734213             212.914487      116.181539     23.940134\n",
       "25  1/26/2020  0.64               95.5        13.0    100.33       -1.10       -1.40       -1.65                     85.5                     76.0                     74.0              22.5              17.0               9.5          101.49          102.69          102.60            -4.880000             -7.910714             -7.237619                         77.000000                          79.035714                          79.523810                  16.714286                   16.285714                   16.261905               102.164286                102.315000                102.188571  321.694799             397.196824       91.449985     41.356523"
      ]
     },
     "execution_count": 15,
     "metadata": {},
     "output_type": "execute_result"
    }
   ],
   "source": [
    "train_data.head()"
   ]
  },
  {
   "cell_type": "code",
   "execution_count": 21,
   "metadata": {},
   "outputs": [
    {
     "data": {
      "application/vnd.plotly.v1+json": {
       "config": {
        "plotlyServerURL": "https://plot.ly"
       },
       "data": [
        {
         "coloraxis": "coloraxis",
         "hovertemplate": "x: %{x}<br>y: %{y}<br>color: %{z}<extra></extra>",
         "name": "0",
         "texttemplate": "%{z}",
         "type": "heatmap",
         "x": [
          "Temp",
          "relative_humidity",
          "wind_speed",
          "Pressure",
          "Temp_lag_1",
          "Temp_lag_2",
          "Temp_lag_3",
          "relative_humidity_lag_1",
          "relative_humidity_lag_2",
          "relative_humidity_lag_3",
          "wind_speed_lag_1",
          "wind_speed_lag_2",
          "wind_speed_lag_3",
          "Pressure_lag_1",
          "Pressure_lag_2",
          "Pressure_lag_3",
          "Temp_rolling_mean_7",
          "Temp_rolling_mean_14",
          "Temp_rolling_mean_21",
          "relative_humidity_rolling_mean_7",
          "relative_humidity_rolling_mean_14",
          "relative_humidity_rolling_mean_21",
          "wind_speed_rolling_mean_7",
          "wind_speed_rolling_mean_14",
          "wind_speed_rolling_mean_21",
          "Pressure_rolling_mean_7",
          "Pressure_rolling_mean_14",
          "Pressure_rolling_mean_21",
          "Temp_fft",
          "relative_humidity_fft",
          "wind_speed_fft",
          "Pressure_fft"
         ],
         "xaxis": "x",
         "y": [
          "Temp",
          "relative_humidity",
          "wind_speed",
          "Pressure",
          "Temp_lag_1",
          "Temp_lag_2",
          "Temp_lag_3",
          "relative_humidity_lag_1",
          "relative_humidity_lag_2",
          "relative_humidity_lag_3",
          "wind_speed_lag_1",
          "wind_speed_lag_2",
          "wind_speed_lag_3",
          "Pressure_lag_1",
          "Pressure_lag_2",
          "Pressure_lag_3",
          "Temp_rolling_mean_7",
          "Temp_rolling_mean_14",
          "Temp_rolling_mean_21",
          "relative_humidity_rolling_mean_7",
          "relative_humidity_rolling_mean_14",
          "relative_humidity_rolling_mean_21",
          "wind_speed_rolling_mean_7",
          "wind_speed_rolling_mean_14",
          "wind_speed_rolling_mean_21",
          "Pressure_rolling_mean_7",
          "Pressure_rolling_mean_14",
          "Pressure_rolling_mean_21",
          "Temp_fft",
          "relative_humidity_fft",
          "wind_speed_fft",
          "Pressure_fft"
         ],
         "yaxis": "y",
         "z": [
          [
           1,
           -0.13,
           -0.1,
           -0.33,
           0.95,
           0.89,
           0.87,
           -0.18,
           -0.23,
           -0.25,
           -0.23,
           -0.24,
           -0.17,
           -0.19,
           -0.11,
           -0.12,
           0.93,
           0.92,
           0.91,
           -0.31,
           -0.39,
           -0.46,
           -0.33,
           -0.37,
           -0.36,
           -0.25,
           -0.32,
           -0.41,
           -0.36,
           -0.26,
           -0.21,
           -0.35
          ],
          [
           -0.13,
           1,
           -0.08,
           -0.3,
           -0.15,
           -0.17,
           -0.17,
           0.63,
           0.48,
           0.43,
           -0.26,
           -0.23,
           -0.14,
           -0.05,
           0.06,
           0.07,
           -0.16,
           -0.15,
           -0.13,
           0.7,
           0.62,
           0.58,
           -0.29,
           -0.36,
           -0.36,
           0,
           0.17,
           0.29,
           -0.05,
           -0.01,
           0.03,
           -0.02
          ],
          [
           -0.1,
           -0.08,
           1,
           -0.34,
           -0.06,
           -0.06,
           -0.09,
           -0.01,
           -0.06,
           -0.03,
           0.28,
           0.06,
           0.02,
           -0.26,
           -0.1,
           -0.09,
           -0.11,
           -0.13,
           -0.14,
           -0.1,
           -0.08,
           -0.07,
           0.41,
           0.36,
           0.31,
           -0.17,
           -0.13,
           -0.13,
           0.09,
           0.06,
           0.03,
           0.16
          ],
          [
           -0.33,
           -0.3,
           -0.34,
           1,
           -0.3,
           -0.24,
           -0.23,
           -0.17,
           -0.02,
           0.01,
           0.04,
           0.19,
           0.13,
           0.63,
           0.27,
           0.2,
           -0.26,
           -0.23,
           -0.21,
           -0.07,
           0.03,
           0.09,
           0.07,
           0.1,
           0.1,
           0.55,
           0.32,
           0.22,
           0.05,
           0.02,
           0.05,
           -0.01
          ],
          [
           0.95,
           -0.15,
           -0.06,
           -0.3,
           1,
           0.95,
           0.89,
           -0.13,
           -0.17,
           -0.23,
           -0.1,
           -0.23,
           -0.24,
           -0.33,
           -0.19,
           -0.11,
           0.95,
           0.93,
           0.92,
           -0.29,
           -0.38,
           -0.45,
           -0.32,
           -0.36,
           -0.36,
           -0.29,
           -0.34,
           -0.43,
           -0.36,
           -0.24,
           -0.23,
           -0.35
          ],
          [
           0.89,
           -0.17,
           -0.06,
           -0.24,
           0.95,
           1,
           0.95,
           -0.15,
           -0.13,
           -0.18,
           -0.06,
           -0.1,
           -0.24,
           -0.31,
           -0.33,
           -0.19,
           0.96,
           0.93,
           0.92,
           -0.26,
           -0.36,
           -0.44,
           -0.31,
           -0.35,
           -0.36,
           -0.32,
           -0.36,
           -0.43,
           -0.38,
           -0.25,
           -0.23,
           -0.38
          ],
          [
           0.87,
           -0.17,
           -0.09,
           -0.23,
           0.89,
           0.95,
           1,
           -0.17,
           -0.15,
           -0.13,
           -0.06,
           -0.07,
           -0.11,
           -0.24,
           -0.31,
           -0.33,
           0.96,
           0.94,
           0.93,
           -0.24,
           -0.35,
           -0.42,
           -0.3,
           -0.35,
           -0.37,
           -0.34,
           -0.37,
           -0.44,
           -0.41,
           -0.25,
           -0.24,
           -0.41
          ],
          [
           -0.18,
           0.63,
           -0.01,
           -0.17,
           -0.13,
           -0.15,
           -0.17,
           1,
           0.63,
           0.48,
           -0.08,
           -0.25,
           -0.23,
           -0.3,
           -0.05,
           0.06,
           -0.16,
           -0.15,
           -0.13,
           0.75,
           0.66,
           0.61,
           -0.28,
           -0.34,
           -0.36,
           -0.05,
           0.11,
           0.26,
           -0.04,
           0.03,
           -0.03,
           -0.04
          ],
          [
           -0.23,
           0.48,
           -0.06,
           -0.02,
           -0.17,
           -0.13,
           -0.15,
           0.63,
           1,
           0.63,
           -0.01,
           -0.08,
           -0.25,
           -0.17,
           -0.3,
           -0.05,
           -0.17,
           -0.16,
           -0.14,
           0.77,
           0.67,
           0.62,
           -0.27,
           -0.32,
           -0.35,
           -0.08,
           0.08,
           0.24,
           -0.07,
           0.03,
           -0.09,
           -0.1
          ],
          [
           -0.25,
           0.43,
           -0.03,
           0.01,
           -0.23,
           -0.18,
           -0.13,
           0.48,
           0.63,
           1,
           -0.06,
           -0.01,
           -0.08,
           -0.01,
           -0.17,
           -0.3,
           -0.19,
           -0.17,
           -0.15,
           0.78,
           0.68,
           0.64,
           -0.24,
           -0.3,
           -0.34,
           -0.09,
           0.06,
           0.22,
           -0.06,
           0.01,
           -0.07,
           -0.05
          ],
          [
           -0.23,
           -0.26,
           0.28,
           0.04,
           -0.1,
           -0.06,
           -0.06,
           -0.08,
           -0.01,
           -0.06,
           1,
           0.28,
           0.06,
           -0.34,
           -0.26,
           -0.1,
           -0.13,
           -0.14,
           -0.15,
           -0.12,
           -0.1,
           -0.09,
           0.48,
           0.39,
           0.33,
           -0.16,
           -0.11,
           -0.12,
           0.05,
           0.11,
           -0.01,
           0.1
          ],
          [
           -0.24,
           -0.23,
           0.06,
           0.19,
           -0.23,
           -0.1,
           -0.07,
           -0.25,
           -0.08,
           -0.01,
           0.28,
           1,
           0.28,
           0.04,
           -0.34,
           -0.26,
           -0.14,
           -0.15,
           -0.15,
           -0.14,
           -0.12,
           -0.1,
           0.5,
           0.4,
           0.34,
           -0.12,
           -0.08,
           -0.09,
           0.01,
           0.05,
           0.02,
           0.03
          ],
          [
           -0.17,
           -0.14,
           0.02,
           0.13,
           -0.24,
           -0.24,
           -0.11,
           -0.23,
           -0.25,
           -0.08,
           0.06,
           0.28,
           1,
           0.19,
           0.05,
           -0.34,
           -0.15,
           -0.16,
           -0.16,
           -0.15,
           -0.14,
           -0.11,
           0.52,
           0.4,
           0.34,
           -0.09,
           -0.05,
           -0.07,
           0.11,
           0.04,
           0.08,
           0.03
          ],
          [
           -0.19,
           -0.05,
           -0.26,
           0.63,
           -0.33,
           -0.31,
           -0.24,
           -0.3,
           -0.17,
           -0.01,
           -0.34,
           0.04,
           0.19,
           1,
           0.64,
           0.27,
           -0.26,
           -0.24,
           -0.22,
           -0.08,
           0.01,
           0.08,
           -0.02,
           0.05,
           0.06,
           0.67,
           0.43,
           0.3,
           0.1,
           -0.04,
           0.07,
           0.03
          ],
          [
           -0.11,
           0.06,
           -0.1,
           0.27,
           -0.19,
           -0.33,
           -0.31,
           -0.05,
           -0.3,
           -0.17,
           -0.26,
           -0.34,
           0.05,
           0.64,
           1,
           0.63,
           -0.25,
           -0.24,
           -0.21,
           -0.08,
           0.01,
           0.08,
           -0.06,
           0.03,
           0.06,
           0.7,
           0.48,
           0.34,
           0.13,
           0.01,
           0.05,
           0.08
          ],
          [
           -0.12,
           0.07,
           -0.09,
           0.2,
           -0.11,
           -0.19,
           -0.33,
           0.06,
           -0.05,
           -0.3,
           -0.1,
           -0.26,
           -0.34,
           0.27,
           0.63,
           1,
           -0.23,
           -0.23,
           -0.21,
           -0.08,
           0,
           0.07,
           -0.12,
           0.01,
           0.04,
           0.7,
           0.51,
           0.37,
           0.08,
           0.03,
           0.02,
           0.04
          ],
          [
           0.93,
           -0.16,
           -0.11,
           -0.26,
           0.95,
           0.96,
           0.96,
           -0.16,
           -0.17,
           -0.19,
           -0.13,
           -0.14,
           -0.15,
           -0.26,
           -0.25,
           -0.23,
           1,
           0.98,
           0.97,
           -0.26,
           -0.37,
           -0.45,
           -0.31,
           -0.38,
           -0.4,
           -0.35,
           -0.38,
           -0.46,
           -0.41,
           -0.26,
           -0.24,
           -0.42
          ],
          [
           0.92,
           -0.15,
           -0.13,
           -0.23,
           0.93,
           0.93,
           0.94,
           -0.15,
           -0.16,
           -0.17,
           -0.14,
           -0.15,
           -0.16,
           -0.24,
           -0.24,
           -0.23,
           0.98,
           1,
           0.99,
           -0.23,
           -0.32,
           -0.41,
           -0.32,
           -0.41,
           -0.44,
           -0.35,
           -0.43,
           -0.49,
           -0.43,
           -0.29,
           -0.23,
           -0.44
          ],
          [
           0.91,
           -0.13,
           -0.14,
           -0.21,
           0.92,
           0.92,
           0.93,
           -0.13,
           -0.14,
           -0.15,
           -0.15,
           -0.15,
           -0.16,
           -0.22,
           -0.21,
           -0.21,
           0.97,
           0.99,
           1,
           -0.2,
           -0.28,
           -0.36,
           -0.33,
           -0.42,
           -0.47,
           -0.33,
           -0.42,
           -0.5,
           -0.44,
           -0.3,
           -0.24,
           -0.46
          ],
          [
           -0.31,
           0.7,
           -0.1,
           -0.07,
           -0.29,
           -0.26,
           -0.24,
           0.75,
           0.77,
           0.78,
           -0.12,
           -0.14,
           -0.15,
           -0.08,
           -0.08,
           -0.08,
           -0.26,
           -0.23,
           -0.2,
           1,
           0.9,
           0.84,
           -0.31,
           -0.41,
           -0.47,
           -0.09,
           0.09,
           0.3,
           -0.05,
           0.02,
           -0.08,
           -0.08
          ],
          [
           -0.39,
           0.62,
           -0.08,
           0.03,
           -0.38,
           -0.36,
           -0.35,
           0.66,
           0.67,
           0.68,
           -0.1,
           -0.12,
           -0.14,
           0.01,
           0.01,
           0,
           -0.37,
           -0.32,
           -0.28,
           0.9,
           1,
           0.95,
           -0.26,
           -0.4,
           -0.47,
           0.02,
           0.07,
           0.25,
           0.02,
           0.04,
           -0.05,
           -0.03
          ],
          [
           -0.46,
           0.58,
           -0.07,
           0.09,
           -0.45,
           -0.44,
           -0.42,
           0.61,
           0.62,
           0.64,
           -0.09,
           -0.1,
           -0.11,
           0.08,
           0.08,
           0.07,
           -0.45,
           -0.41,
           -0.36,
           0.84,
           0.95,
           1,
           -0.21,
           -0.34,
           -0.43,
           0.11,
           0.16,
           0.26,
           0.05,
           0.06,
           -0.02,
           -0.01
          ],
          [
           -0.33,
           -0.29,
           0.41,
           0.07,
           -0.32,
           -0.31,
           -0.3,
           -0.28,
           -0.27,
           -0.24,
           0.48,
           0.5,
           0.52,
           -0.02,
           -0.06,
           -0.12,
           -0.31,
           -0.32,
           -0.33,
           -0.31,
           -0.26,
           -0.21,
           1,
           0.78,
           0.7,
           -0.15,
           -0.12,
           -0.15,
           0.17,
           0.11,
           0.12,
           0.23
          ],
          [
           -0.37,
           -0.36,
           0.36,
           0.1,
           -0.36,
           -0.35,
           -0.35,
           -0.34,
           -0.32,
           -0.3,
           0.39,
           0.4,
           0.4,
           0.05,
           0.03,
           0.01,
           -0.38,
           -0.41,
           -0.42,
           -0.41,
           -0.4,
           -0.34,
           0.78,
           1,
           0.89,
           0.05,
           -0.03,
           -0.06,
           0.22,
           0.13,
           0.17,
           0.28
          ],
          [
           -0.36,
           -0.36,
           0.31,
           0.1,
           -0.36,
           -0.36,
           -0.37,
           -0.36,
           -0.35,
           -0.34,
           0.33,
           0.34,
           0.34,
           0.06,
           0.06,
           0.04,
           -0.4,
           -0.44,
           -0.47,
           -0.47,
           -0.47,
           -0.43,
           0.7,
           0.89,
           1,
           0.08,
           0.08,
           0.02,
           0.23,
           0.15,
           0.15,
           0.32
          ],
          [
           -0.25,
           0,
           -0.17,
           0.55,
           -0.29,
           -0.32,
           -0.34,
           -0.05,
           -0.08,
           -0.09,
           -0.16,
           -0.12,
           -0.09,
           0.67,
           0.7,
           0.7,
           -0.35,
           -0.35,
           -0.33,
           -0.09,
           0.02,
           0.11,
           -0.15,
           0.05,
           0.08,
           1,
           0.76,
           0.56,
           0.12,
           0.04,
           0.09,
           0.06
          ],
          [
           -0.32,
           0.17,
           -0.13,
           0.32,
           -0.34,
           -0.36,
           -0.37,
           0.11,
           0.08,
           0.06,
           -0.11,
           -0.08,
           -0.05,
           0.43,
           0.48,
           0.51,
           -0.38,
           -0.43,
           -0.42,
           0.09,
           0.07,
           0.16,
           -0.12,
           -0.03,
           0.08,
           0.76,
           1,
           0.84,
           0.15,
           0.11,
           0.02,
           0.1
          ],
          [
           -0.41,
           0.29,
           -0.13,
           0.22,
           -0.43,
           -0.43,
           -0.44,
           0.26,
           0.24,
           0.22,
           -0.12,
           -0.09,
           -0.07,
           0.3,
           0.34,
           0.37,
           -0.46,
           -0.49,
           -0.5,
           0.3,
           0.25,
           0.26,
           -0.15,
           -0.06,
           0.02,
           0.56,
           0.84,
           1,
           0.22,
           0.16,
           0.03,
           0.19
          ],
          [
           -0.36,
           -0.05,
           0.09,
           0.05,
           -0.36,
           -0.38,
           -0.41,
           -0.04,
           -0.07,
           -0.06,
           0.05,
           0.01,
           0.11,
           0.1,
           0.13,
           0.08,
           -0.41,
           -0.43,
           -0.44,
           -0.05,
           0.02,
           0.05,
           0.17,
           0.22,
           0.23,
           0.12,
           0.15,
           0.22,
           1,
           0.32,
           0.34,
           0.55
          ],
          [
           -0.26,
           -0.01,
           0.06,
           0.02,
           -0.24,
           -0.25,
           -0.25,
           0.03,
           0.03,
           0.01,
           0.11,
           0.05,
           0.04,
           -0.04,
           0.01,
           0.03,
           -0.26,
           -0.29,
           -0.3,
           0.02,
           0.04,
           0.06,
           0.11,
           0.13,
           0.15,
           0.04,
           0.11,
           0.16,
           0.32,
           1,
           0.15,
           0.44
          ],
          [
           -0.21,
           0.03,
           0.03,
           0.05,
           -0.23,
           -0.23,
           -0.24,
           -0.03,
           -0.09,
           -0.07,
           -0.01,
           0.02,
           0.08,
           0.07,
           0.05,
           0.02,
           -0.24,
           -0.23,
           -0.24,
           -0.08,
           -0.05,
           -0.02,
           0.12,
           0.17,
           0.15,
           0.09,
           0.02,
           0.03,
           0.34,
           0.15,
           1,
           0.43
          ],
          [
           -0.35,
           -0.02,
           0.16,
           -0.01,
           -0.35,
           -0.38,
           -0.41,
           -0.04,
           -0.1,
           -0.05,
           0.1,
           0.03,
           0.03,
           0.03,
           0.08,
           0.04,
           -0.42,
           -0.44,
           -0.46,
           -0.08,
           -0.03,
           -0.01,
           0.23,
           0.28,
           0.32,
           0.06,
           0.1,
           0.19,
           0.55,
           0.44,
           0.43,
           1
          ]
         ]
        }
       ],
       "layout": {
        "coloraxis": {
         "cmax": 1,
         "cmin": -1,
         "colorscale": [
          [
           0,
           "rgb(5,48,97)"
          ],
          [
           0.1,
           "rgb(33,102,172)"
          ],
          [
           0.2,
           "rgb(67,147,195)"
          ],
          [
           0.3,
           "rgb(146,197,222)"
          ],
          [
           0.4,
           "rgb(209,229,240)"
          ],
          [
           0.5,
           "rgb(247,247,247)"
          ],
          [
           0.6,
           "rgb(253,219,199)"
          ],
          [
           0.7,
           "rgb(244,165,130)"
          ],
          [
           0.8,
           "rgb(214,96,77)"
          ],
          [
           0.9,
           "rgb(178,24,43)"
          ],
          [
           1,
           "rgb(103,0,31)"
          ]
         ]
        },
        "height": 850,
        "margin": {
         "t": 60
        },
        "template": {
         "data": {
          "bar": [
           {
            "error_x": {
             "color": "#2a3f5f"
            },
            "error_y": {
             "color": "#2a3f5f"
            },
            "marker": {
             "line": {
              "color": "#E5ECF6",
              "width": 0.5
             },
             "pattern": {
              "fillmode": "overlay",
              "size": 10,
              "solidity": 0.2
             }
            },
            "type": "bar"
           }
          ],
          "barpolar": [
           {
            "marker": {
             "line": {
              "color": "#E5ECF6",
              "width": 0.5
             },
             "pattern": {
              "fillmode": "overlay",
              "size": 10,
              "solidity": 0.2
             }
            },
            "type": "barpolar"
           }
          ],
          "carpet": [
           {
            "aaxis": {
             "endlinecolor": "#2a3f5f",
             "gridcolor": "white",
             "linecolor": "white",
             "minorgridcolor": "white",
             "startlinecolor": "#2a3f5f"
            },
            "baxis": {
             "endlinecolor": "#2a3f5f",
             "gridcolor": "white",
             "linecolor": "white",
             "minorgridcolor": "white",
             "startlinecolor": "#2a3f5f"
            },
            "type": "carpet"
           }
          ],
          "choropleth": [
           {
            "colorbar": {
             "outlinewidth": 0,
             "ticks": ""
            },
            "type": "choropleth"
           }
          ],
          "contour": [
           {
            "colorbar": {
             "outlinewidth": 0,
             "ticks": ""
            },
            "colorscale": [
             [
              0,
              "#0d0887"
             ],
             [
              0.1111111111111111,
              "#46039f"
             ],
             [
              0.2222222222222222,
              "#7201a8"
             ],
             [
              0.3333333333333333,
              "#9c179e"
             ],
             [
              0.4444444444444444,
              "#bd3786"
             ],
             [
              0.5555555555555556,
              "#d8576b"
             ],
             [
              0.6666666666666666,
              "#ed7953"
             ],
             [
              0.7777777777777778,
              "#fb9f3a"
             ],
             [
              0.8888888888888888,
              "#fdca26"
             ],
             [
              1,
              "#f0f921"
             ]
            ],
            "type": "contour"
           }
          ],
          "contourcarpet": [
           {
            "colorbar": {
             "outlinewidth": 0,
             "ticks": ""
            },
            "type": "contourcarpet"
           }
          ],
          "heatmap": [
           {
            "colorbar": {
             "outlinewidth": 0,
             "ticks": ""
            },
            "colorscale": [
             [
              0,
              "#0d0887"
             ],
             [
              0.1111111111111111,
              "#46039f"
             ],
             [
              0.2222222222222222,
              "#7201a8"
             ],
             [
              0.3333333333333333,
              "#9c179e"
             ],
             [
              0.4444444444444444,
              "#bd3786"
             ],
             [
              0.5555555555555556,
              "#d8576b"
             ],
             [
              0.6666666666666666,
              "#ed7953"
             ],
             [
              0.7777777777777778,
              "#fb9f3a"
             ],
             [
              0.8888888888888888,
              "#fdca26"
             ],
             [
              1,
              "#f0f921"
             ]
            ],
            "type": "heatmap"
           }
          ],
          "heatmapgl": [
           {
            "colorbar": {
             "outlinewidth": 0,
             "ticks": ""
            },
            "colorscale": [
             [
              0,
              "#0d0887"
             ],
             [
              0.1111111111111111,
              "#46039f"
             ],
             [
              0.2222222222222222,
              "#7201a8"
             ],
             [
              0.3333333333333333,
              "#9c179e"
             ],
             [
              0.4444444444444444,
              "#bd3786"
             ],
             [
              0.5555555555555556,
              "#d8576b"
             ],
             [
              0.6666666666666666,
              "#ed7953"
             ],
             [
              0.7777777777777778,
              "#fb9f3a"
             ],
             [
              0.8888888888888888,
              "#fdca26"
             ],
             [
              1,
              "#f0f921"
             ]
            ],
            "type": "heatmapgl"
           }
          ],
          "histogram": [
           {
            "marker": {
             "pattern": {
              "fillmode": "overlay",
              "size": 10,
              "solidity": 0.2
             }
            },
            "type": "histogram"
           }
          ],
          "histogram2d": [
           {
            "colorbar": {
             "outlinewidth": 0,
             "ticks": ""
            },
            "colorscale": [
             [
              0,
              "#0d0887"
             ],
             [
              0.1111111111111111,
              "#46039f"
             ],
             [
              0.2222222222222222,
              "#7201a8"
             ],
             [
              0.3333333333333333,
              "#9c179e"
             ],
             [
              0.4444444444444444,
              "#bd3786"
             ],
             [
              0.5555555555555556,
              "#d8576b"
             ],
             [
              0.6666666666666666,
              "#ed7953"
             ],
             [
              0.7777777777777778,
              "#fb9f3a"
             ],
             [
              0.8888888888888888,
              "#fdca26"
             ],
             [
              1,
              "#f0f921"
             ]
            ],
            "type": "histogram2d"
           }
          ],
          "histogram2dcontour": [
           {
            "colorbar": {
             "outlinewidth": 0,
             "ticks": ""
            },
            "colorscale": [
             [
              0,
              "#0d0887"
             ],
             [
              0.1111111111111111,
              "#46039f"
             ],
             [
              0.2222222222222222,
              "#7201a8"
             ],
             [
              0.3333333333333333,
              "#9c179e"
             ],
             [
              0.4444444444444444,
              "#bd3786"
             ],
             [
              0.5555555555555556,
              "#d8576b"
             ],
             [
              0.6666666666666666,
              "#ed7953"
             ],
             [
              0.7777777777777778,
              "#fb9f3a"
             ],
             [
              0.8888888888888888,
              "#fdca26"
             ],
             [
              1,
              "#f0f921"
             ]
            ],
            "type": "histogram2dcontour"
           }
          ],
          "mesh3d": [
           {
            "colorbar": {
             "outlinewidth": 0,
             "ticks": ""
            },
            "type": "mesh3d"
           }
          ],
          "parcoords": [
           {
            "line": {
             "colorbar": {
              "outlinewidth": 0,
              "ticks": ""
             }
            },
            "type": "parcoords"
           }
          ],
          "pie": [
           {
            "automargin": true,
            "type": "pie"
           }
          ],
          "scatter": [
           {
            "fillpattern": {
             "fillmode": "overlay",
             "size": 10,
             "solidity": 0.2
            },
            "type": "scatter"
           }
          ],
          "scatter3d": [
           {
            "line": {
             "colorbar": {
              "outlinewidth": 0,
              "ticks": ""
             }
            },
            "marker": {
             "colorbar": {
              "outlinewidth": 0,
              "ticks": ""
             }
            },
            "type": "scatter3d"
           }
          ],
          "scattercarpet": [
           {
            "marker": {
             "colorbar": {
              "outlinewidth": 0,
              "ticks": ""
             }
            },
            "type": "scattercarpet"
           }
          ],
          "scattergeo": [
           {
            "marker": {
             "colorbar": {
              "outlinewidth": 0,
              "ticks": ""
             }
            },
            "type": "scattergeo"
           }
          ],
          "scattergl": [
           {
            "marker": {
             "colorbar": {
              "outlinewidth": 0,
              "ticks": ""
             }
            },
            "type": "scattergl"
           }
          ],
          "scattermapbox": [
           {
            "marker": {
             "colorbar": {
              "outlinewidth": 0,
              "ticks": ""
             }
            },
            "type": "scattermapbox"
           }
          ],
          "scatterpolar": [
           {
            "marker": {
             "colorbar": {
              "outlinewidth": 0,
              "ticks": ""
             }
            },
            "type": "scatterpolar"
           }
          ],
          "scatterpolargl": [
           {
            "marker": {
             "colorbar": {
              "outlinewidth": 0,
              "ticks": ""
             }
            },
            "type": "scatterpolargl"
           }
          ],
          "scatterternary": [
           {
            "marker": {
             "colorbar": {
              "outlinewidth": 0,
              "ticks": ""
             }
            },
            "type": "scatterternary"
           }
          ],
          "surface": [
           {
            "colorbar": {
             "outlinewidth": 0,
             "ticks": ""
            },
            "colorscale": [
             [
              0,
              "#0d0887"
             ],
             [
              0.1111111111111111,
              "#46039f"
             ],
             [
              0.2222222222222222,
              "#7201a8"
             ],
             [
              0.3333333333333333,
              "#9c179e"
             ],
             [
              0.4444444444444444,
              "#bd3786"
             ],
             [
              0.5555555555555556,
              "#d8576b"
             ],
             [
              0.6666666666666666,
              "#ed7953"
             ],
             [
              0.7777777777777778,
              "#fb9f3a"
             ],
             [
              0.8888888888888888,
              "#fdca26"
             ],
             [
              1,
              "#f0f921"
             ]
            ],
            "type": "surface"
           }
          ],
          "table": [
           {
            "cells": {
             "fill": {
              "color": "#EBF0F8"
             },
             "line": {
              "color": "white"
             }
            },
            "header": {
             "fill": {
              "color": "#C8D4E3"
             },
             "line": {
              "color": "white"
             }
            },
            "type": "table"
           }
          ]
         },
         "layout": {
          "annotationdefaults": {
           "arrowcolor": "#2a3f5f",
           "arrowhead": 0,
           "arrowwidth": 1
          },
          "autotypenumbers": "strict",
          "coloraxis": {
           "colorbar": {
            "outlinewidth": 0,
            "ticks": ""
           }
          },
          "colorscale": {
           "diverging": [
            [
             0,
             "#8e0152"
            ],
            [
             0.1,
             "#c51b7d"
            ],
            [
             0.2,
             "#de77ae"
            ],
            [
             0.3,
             "#f1b6da"
            ],
            [
             0.4,
             "#fde0ef"
            ],
            [
             0.5,
             "#f7f7f7"
            ],
            [
             0.6,
             "#e6f5d0"
            ],
            [
             0.7,
             "#b8e186"
            ],
            [
             0.8,
             "#7fbc41"
            ],
            [
             0.9,
             "#4d9221"
            ],
            [
             1,
             "#276419"
            ]
           ],
           "sequential": [
            [
             0,
             "#0d0887"
            ],
            [
             0.1111111111111111,
             "#46039f"
            ],
            [
             0.2222222222222222,
             "#7201a8"
            ],
            [
             0.3333333333333333,
             "#9c179e"
            ],
            [
             0.4444444444444444,
             "#bd3786"
            ],
            [
             0.5555555555555556,
             "#d8576b"
            ],
            [
             0.6666666666666666,
             "#ed7953"
            ],
            [
             0.7777777777777778,
             "#fb9f3a"
            ],
            [
             0.8888888888888888,
             "#fdca26"
            ],
            [
             1,
             "#f0f921"
            ]
           ],
           "sequentialminus": [
            [
             0,
             "#0d0887"
            ],
            [
             0.1111111111111111,
             "#46039f"
            ],
            [
             0.2222222222222222,
             "#7201a8"
            ],
            [
             0.3333333333333333,
             "#9c179e"
            ],
            [
             0.4444444444444444,
             "#bd3786"
            ],
            [
             0.5555555555555556,
             "#d8576b"
            ],
            [
             0.6666666666666666,
             "#ed7953"
            ],
            [
             0.7777777777777778,
             "#fb9f3a"
            ],
            [
             0.8888888888888888,
             "#fdca26"
            ],
            [
             1,
             "#f0f921"
            ]
           ]
          },
          "colorway": [
           "#636efa",
           "#EF553B",
           "#00cc96",
           "#ab63fa",
           "#FFA15A",
           "#19d3f3",
           "#FF6692",
           "#B6E880",
           "#FF97FF",
           "#FECB52"
          ],
          "font": {
           "color": "#2a3f5f"
          },
          "geo": {
           "bgcolor": "white",
           "lakecolor": "white",
           "landcolor": "#E5ECF6",
           "showlakes": true,
           "showland": true,
           "subunitcolor": "white"
          },
          "hoverlabel": {
           "align": "left"
          },
          "hovermode": "closest",
          "mapbox": {
           "style": "light"
          },
          "paper_bgcolor": "white",
          "plot_bgcolor": "#E5ECF6",
          "polar": {
           "angularaxis": {
            "gridcolor": "white",
            "linecolor": "white",
            "ticks": ""
           },
           "bgcolor": "#E5ECF6",
           "radialaxis": {
            "gridcolor": "white",
            "linecolor": "white",
            "ticks": ""
           }
          },
          "scene": {
           "xaxis": {
            "backgroundcolor": "#E5ECF6",
            "gridcolor": "white",
            "gridwidth": 2,
            "linecolor": "white",
            "showbackground": true,
            "ticks": "",
            "zerolinecolor": "white"
           },
           "yaxis": {
            "backgroundcolor": "#E5ECF6",
            "gridcolor": "white",
            "gridwidth": 2,
            "linecolor": "white",
            "showbackground": true,
            "ticks": "",
            "zerolinecolor": "white"
           },
           "zaxis": {
            "backgroundcolor": "#E5ECF6",
            "gridcolor": "white",
            "gridwidth": 2,
            "linecolor": "white",
            "showbackground": true,
            "ticks": "",
            "zerolinecolor": "white"
           }
          },
          "shapedefaults": {
           "line": {
            "color": "#2a3f5f"
           }
          },
          "ternary": {
           "aaxis": {
            "gridcolor": "white",
            "linecolor": "white",
            "ticks": ""
           },
           "baxis": {
            "gridcolor": "white",
            "linecolor": "white",
            "ticks": ""
           },
           "bgcolor": "#E5ECF6",
           "caxis": {
            "gridcolor": "white",
            "linecolor": "white",
            "ticks": ""
           }
          },
          "title": {
           "x": 0.05
          },
          "xaxis": {
           "automargin": true,
           "gridcolor": "white",
           "linecolor": "white",
           "ticks": "",
           "title": {
            "standoff": 15
           },
           "zerolinecolor": "white",
           "zerolinewidth": 2
          },
          "yaxis": {
           "automargin": true,
           "gridcolor": "white",
           "linecolor": "white",
           "ticks": "",
           "title": {
            "standoff": 15
           },
           "zerolinecolor": "white",
           "zerolinewidth": 2
          }
         }
        },
        "width": 900,
        "xaxis": {
         "anchor": "y",
         "domain": [
          0,
          1
         ],
         "showgrid": false
        },
        "yaxis": {
         "anchor": "x",
         "autorange": "reversed",
         "domain": [
          0,
          1
         ],
         "showgrid": false
        }
       }
      },
      "text/html": [
       "<div>                            <div id=\"6e1fd105-a9af-470a-bb6a-3b962d68ae70\" class=\"plotly-graph-div\" style=\"height:850px; width:900px;\"></div>            <script type=\"text/javascript\">                require([\"plotly\"], function(Plotly) {                    window.PLOTLYENV=window.PLOTLYENV || {};                                    if (document.getElementById(\"6e1fd105-a9af-470a-bb6a-3b962d68ae70\")) {                    Plotly.newPlot(                        \"6e1fd105-a9af-470a-bb6a-3b962d68ae70\",                        [{\"coloraxis\":\"coloraxis\",\"name\":\"0\",\"texttemplate\":\"%{z}\",\"x\":[\"Temp\",\"relative_humidity\",\"wind_speed\",\"Pressure\",\"Temp_lag_1\",\"Temp_lag_2\",\"Temp_lag_3\",\"relative_humidity_lag_1\",\"relative_humidity_lag_2\",\"relative_humidity_lag_3\",\"wind_speed_lag_1\",\"wind_speed_lag_2\",\"wind_speed_lag_3\",\"Pressure_lag_1\",\"Pressure_lag_2\",\"Pressure_lag_3\",\"Temp_rolling_mean_7\",\"Temp_rolling_mean_14\",\"Temp_rolling_mean_21\",\"relative_humidity_rolling_mean_7\",\"relative_humidity_rolling_mean_14\",\"relative_humidity_rolling_mean_21\",\"wind_speed_rolling_mean_7\",\"wind_speed_rolling_mean_14\",\"wind_speed_rolling_mean_21\",\"Pressure_rolling_mean_7\",\"Pressure_rolling_mean_14\",\"Pressure_rolling_mean_21\",\"Temp_fft\",\"relative_humidity_fft\",\"wind_speed_fft\",\"Pressure_fft\"],\"y\":[\"Temp\",\"relative_humidity\",\"wind_speed\",\"Pressure\",\"Temp_lag_1\",\"Temp_lag_2\",\"Temp_lag_3\",\"relative_humidity_lag_1\",\"relative_humidity_lag_2\",\"relative_humidity_lag_3\",\"wind_speed_lag_1\",\"wind_speed_lag_2\",\"wind_speed_lag_3\",\"Pressure_lag_1\",\"Pressure_lag_2\",\"Pressure_lag_3\",\"Temp_rolling_mean_7\",\"Temp_rolling_mean_14\",\"Temp_rolling_mean_21\",\"relative_humidity_rolling_mean_7\",\"relative_humidity_rolling_mean_14\",\"relative_humidity_rolling_mean_21\",\"wind_speed_rolling_mean_7\",\"wind_speed_rolling_mean_14\",\"wind_speed_rolling_mean_21\",\"Pressure_rolling_mean_7\",\"Pressure_rolling_mean_14\",\"Pressure_rolling_mean_21\",\"Temp_fft\",\"relative_humidity_fft\",\"wind_speed_fft\",\"Pressure_fft\"],\"z\":[[1.0,-0.13,-0.1,-0.33,0.95,0.89,0.87,-0.18,-0.23,-0.25,-0.23,-0.24,-0.17,-0.19,-0.11,-0.12,0.93,0.92,0.91,-0.31,-0.39,-0.46,-0.33,-0.37,-0.36,-0.25,-0.32,-0.41,-0.36,-0.26,-0.21,-0.35],[-0.13,1.0,-0.08,-0.3,-0.15,-0.17,-0.17,0.63,0.48,0.43,-0.26,-0.23,-0.14,-0.05,0.06,0.07,-0.16,-0.15,-0.13,0.7,0.62,0.58,-0.29,-0.36,-0.36,0.0,0.17,0.29,-0.05,-0.01,0.03,-0.02],[-0.1,-0.08,1.0,-0.34,-0.06,-0.06,-0.09,-0.01,-0.06,-0.03,0.28,0.06,0.02,-0.26,-0.1,-0.09,-0.11,-0.13,-0.14,-0.1,-0.08,-0.07,0.41,0.36,0.31,-0.17,-0.13,-0.13,0.09,0.06,0.03,0.16],[-0.33,-0.3,-0.34,1.0,-0.3,-0.24,-0.23,-0.17,-0.02,0.01,0.04,0.19,0.13,0.63,0.27,0.2,-0.26,-0.23,-0.21,-0.07,0.03,0.09,0.07,0.1,0.1,0.55,0.32,0.22,0.05,0.02,0.05,-0.01],[0.95,-0.15,-0.06,-0.3,1.0,0.95,0.89,-0.13,-0.17,-0.23,-0.1,-0.23,-0.24,-0.33,-0.19,-0.11,0.95,0.93,0.92,-0.29,-0.38,-0.45,-0.32,-0.36,-0.36,-0.29,-0.34,-0.43,-0.36,-0.24,-0.23,-0.35],[0.89,-0.17,-0.06,-0.24,0.95,1.0,0.95,-0.15,-0.13,-0.18,-0.06,-0.1,-0.24,-0.31,-0.33,-0.19,0.96,0.93,0.92,-0.26,-0.36,-0.44,-0.31,-0.35,-0.36,-0.32,-0.36,-0.43,-0.38,-0.25,-0.23,-0.38],[0.87,-0.17,-0.09,-0.23,0.89,0.95,1.0,-0.17,-0.15,-0.13,-0.06,-0.07,-0.11,-0.24,-0.31,-0.33,0.96,0.94,0.93,-0.24,-0.35,-0.42,-0.3,-0.35,-0.37,-0.34,-0.37,-0.44,-0.41,-0.25,-0.24,-0.41],[-0.18,0.63,-0.01,-0.17,-0.13,-0.15,-0.17,1.0,0.63,0.48,-0.08,-0.25,-0.23,-0.3,-0.05,0.06,-0.16,-0.15,-0.13,0.75,0.66,0.61,-0.28,-0.34,-0.36,-0.05,0.11,0.26,-0.04,0.03,-0.03,-0.04],[-0.23,0.48,-0.06,-0.02,-0.17,-0.13,-0.15,0.63,1.0,0.63,-0.01,-0.08,-0.25,-0.17,-0.3,-0.05,-0.17,-0.16,-0.14,0.77,0.67,0.62,-0.27,-0.32,-0.35,-0.08,0.08,0.24,-0.07,0.03,-0.09,-0.1],[-0.25,0.43,-0.03,0.01,-0.23,-0.18,-0.13,0.48,0.63,1.0,-0.06,-0.01,-0.08,-0.01,-0.17,-0.3,-0.19,-0.17,-0.15,0.78,0.68,0.64,-0.24,-0.3,-0.34,-0.09,0.06,0.22,-0.06,0.01,-0.07,-0.05],[-0.23,-0.26,0.28,0.04,-0.1,-0.06,-0.06,-0.08,-0.01,-0.06,1.0,0.28,0.06,-0.34,-0.26,-0.1,-0.13,-0.14,-0.15,-0.12,-0.1,-0.09,0.48,0.39,0.33,-0.16,-0.11,-0.12,0.05,0.11,-0.01,0.1],[-0.24,-0.23,0.06,0.19,-0.23,-0.1,-0.07,-0.25,-0.08,-0.01,0.28,1.0,0.28,0.04,-0.34,-0.26,-0.14,-0.15,-0.15,-0.14,-0.12,-0.1,0.5,0.4,0.34,-0.12,-0.08,-0.09,0.01,0.05,0.02,0.03],[-0.17,-0.14,0.02,0.13,-0.24,-0.24,-0.11,-0.23,-0.25,-0.08,0.06,0.28,1.0,0.19,0.05,-0.34,-0.15,-0.16,-0.16,-0.15,-0.14,-0.11,0.52,0.4,0.34,-0.09,-0.05,-0.07,0.11,0.04,0.08,0.03],[-0.19,-0.05,-0.26,0.63,-0.33,-0.31,-0.24,-0.3,-0.17,-0.01,-0.34,0.04,0.19,1.0,0.64,0.27,-0.26,-0.24,-0.22,-0.08,0.01,0.08,-0.02,0.05,0.06,0.67,0.43,0.3,0.1,-0.04,0.07,0.03],[-0.11,0.06,-0.1,0.27,-0.19,-0.33,-0.31,-0.05,-0.3,-0.17,-0.26,-0.34,0.05,0.64,1.0,0.63,-0.25,-0.24,-0.21,-0.08,0.01,0.08,-0.06,0.03,0.06,0.7,0.48,0.34,0.13,0.01,0.05,0.08],[-0.12,0.07,-0.09,0.2,-0.11,-0.19,-0.33,0.06,-0.05,-0.3,-0.1,-0.26,-0.34,0.27,0.63,1.0,-0.23,-0.23,-0.21,-0.08,0.0,0.07,-0.12,0.01,0.04,0.7,0.51,0.37,0.08,0.03,0.02,0.04],[0.93,-0.16,-0.11,-0.26,0.95,0.96,0.96,-0.16,-0.17,-0.19,-0.13,-0.14,-0.15,-0.26,-0.25,-0.23,1.0,0.98,0.97,-0.26,-0.37,-0.45,-0.31,-0.38,-0.4,-0.35,-0.38,-0.46,-0.41,-0.26,-0.24,-0.42],[0.92,-0.15,-0.13,-0.23,0.93,0.93,0.94,-0.15,-0.16,-0.17,-0.14,-0.15,-0.16,-0.24,-0.24,-0.23,0.98,1.0,0.99,-0.23,-0.32,-0.41,-0.32,-0.41,-0.44,-0.35,-0.43,-0.49,-0.43,-0.29,-0.23,-0.44],[0.91,-0.13,-0.14,-0.21,0.92,0.92,0.93,-0.13,-0.14,-0.15,-0.15,-0.15,-0.16,-0.22,-0.21,-0.21,0.97,0.99,1.0,-0.2,-0.28,-0.36,-0.33,-0.42,-0.47,-0.33,-0.42,-0.5,-0.44,-0.3,-0.24,-0.46],[-0.31,0.7,-0.1,-0.07,-0.29,-0.26,-0.24,0.75,0.77,0.78,-0.12,-0.14,-0.15,-0.08,-0.08,-0.08,-0.26,-0.23,-0.2,1.0,0.9,0.84,-0.31,-0.41,-0.47,-0.09,0.09,0.3,-0.05,0.02,-0.08,-0.08],[-0.39,0.62,-0.08,0.03,-0.38,-0.36,-0.35,0.66,0.67,0.68,-0.1,-0.12,-0.14,0.01,0.01,0.0,-0.37,-0.32,-0.28,0.9,1.0,0.95,-0.26,-0.4,-0.47,0.02,0.07,0.25,0.02,0.04,-0.05,-0.03],[-0.46,0.58,-0.07,0.09,-0.45,-0.44,-0.42,0.61,0.62,0.64,-0.09,-0.1,-0.11,0.08,0.08,0.07,-0.45,-0.41,-0.36,0.84,0.95,1.0,-0.21,-0.34,-0.43,0.11,0.16,0.26,0.05,0.06,-0.02,-0.01],[-0.33,-0.29,0.41,0.07,-0.32,-0.31,-0.3,-0.28,-0.27,-0.24,0.48,0.5,0.52,-0.02,-0.06,-0.12,-0.31,-0.32,-0.33,-0.31,-0.26,-0.21,1.0,0.78,0.7,-0.15,-0.12,-0.15,0.17,0.11,0.12,0.23],[-0.37,-0.36,0.36,0.1,-0.36,-0.35,-0.35,-0.34,-0.32,-0.3,0.39,0.4,0.4,0.05,0.03,0.01,-0.38,-0.41,-0.42,-0.41,-0.4,-0.34,0.78,1.0,0.89,0.05,-0.03,-0.06,0.22,0.13,0.17,0.28],[-0.36,-0.36,0.31,0.1,-0.36,-0.36,-0.37,-0.36,-0.35,-0.34,0.33,0.34,0.34,0.06,0.06,0.04,-0.4,-0.44,-0.47,-0.47,-0.47,-0.43,0.7,0.89,1.0,0.08,0.08,0.02,0.23,0.15,0.15,0.32],[-0.25,0.0,-0.17,0.55,-0.29,-0.32,-0.34,-0.05,-0.08,-0.09,-0.16,-0.12,-0.09,0.67,0.7,0.7,-0.35,-0.35,-0.33,-0.09,0.02,0.11,-0.15,0.05,0.08,1.0,0.76,0.56,0.12,0.04,0.09,0.06],[-0.32,0.17,-0.13,0.32,-0.34,-0.36,-0.37,0.11,0.08,0.06,-0.11,-0.08,-0.05,0.43,0.48,0.51,-0.38,-0.43,-0.42,0.09,0.07,0.16,-0.12,-0.03,0.08,0.76,1.0,0.84,0.15,0.11,0.02,0.1],[-0.41,0.29,-0.13,0.22,-0.43,-0.43,-0.44,0.26,0.24,0.22,-0.12,-0.09,-0.07,0.3,0.34,0.37,-0.46,-0.49,-0.5,0.3,0.25,0.26,-0.15,-0.06,0.02,0.56,0.84,1.0,0.22,0.16,0.03,0.19],[-0.36,-0.05,0.09,0.05,-0.36,-0.38,-0.41,-0.04,-0.07,-0.06,0.05,0.01,0.11,0.1,0.13,0.08,-0.41,-0.43,-0.44,-0.05,0.02,0.05,0.17,0.22,0.23,0.12,0.15,0.22,1.0,0.32,0.34,0.55],[-0.26,-0.01,0.06,0.02,-0.24,-0.25,-0.25,0.03,0.03,0.01,0.11,0.05,0.04,-0.04,0.01,0.03,-0.26,-0.29,-0.3,0.02,0.04,0.06,0.11,0.13,0.15,0.04,0.11,0.16,0.32,1.0,0.15,0.44],[-0.21,0.03,0.03,0.05,-0.23,-0.23,-0.24,-0.03,-0.09,-0.07,-0.01,0.02,0.08,0.07,0.05,0.02,-0.24,-0.23,-0.24,-0.08,-0.05,-0.02,0.12,0.17,0.15,0.09,0.02,0.03,0.34,0.15,1.0,0.43],[-0.35,-0.02,0.16,-0.01,-0.35,-0.38,-0.41,-0.04,-0.1,-0.05,0.1,0.03,0.03,0.03,0.08,0.04,-0.42,-0.44,-0.46,-0.08,-0.03,-0.01,0.23,0.28,0.32,0.06,0.1,0.19,0.55,0.44,0.43,1.0]],\"type\":\"heatmap\",\"xaxis\":\"x\",\"yaxis\":\"y\",\"hovertemplate\":\"x: %{x}\\u003cbr\\u003ey: %{y}\\u003cbr\\u003ecolor: %{z}\\u003cextra\\u003e\\u003c\\u002fextra\\u003e\"}],                        {\"template\":{\"data\":{\"histogram2dcontour\":[{\"type\":\"histogram2dcontour\",\"colorbar\":{\"outlinewidth\":0,\"ticks\":\"\"},\"colorscale\":[[0.0,\"#0d0887\"],[0.1111111111111111,\"#46039f\"],[0.2222222222222222,\"#7201a8\"],[0.3333333333333333,\"#9c179e\"],[0.4444444444444444,\"#bd3786\"],[0.5555555555555556,\"#d8576b\"],[0.6666666666666666,\"#ed7953\"],[0.7777777777777778,\"#fb9f3a\"],[0.8888888888888888,\"#fdca26\"],[1.0,\"#f0f921\"]]}],\"choropleth\":[{\"type\":\"choropleth\",\"colorbar\":{\"outlinewidth\":0,\"ticks\":\"\"}}],\"histogram2d\":[{\"type\":\"histogram2d\",\"colorbar\":{\"outlinewidth\":0,\"ticks\":\"\"},\"colorscale\":[[0.0,\"#0d0887\"],[0.1111111111111111,\"#46039f\"],[0.2222222222222222,\"#7201a8\"],[0.3333333333333333,\"#9c179e\"],[0.4444444444444444,\"#bd3786\"],[0.5555555555555556,\"#d8576b\"],[0.6666666666666666,\"#ed7953\"],[0.7777777777777778,\"#fb9f3a\"],[0.8888888888888888,\"#fdca26\"],[1.0,\"#f0f921\"]]}],\"heatmap\":[{\"type\":\"heatmap\",\"colorbar\":{\"outlinewidth\":0,\"ticks\":\"\"},\"colorscale\":[[0.0,\"#0d0887\"],[0.1111111111111111,\"#46039f\"],[0.2222222222222222,\"#7201a8\"],[0.3333333333333333,\"#9c179e\"],[0.4444444444444444,\"#bd3786\"],[0.5555555555555556,\"#d8576b\"],[0.6666666666666666,\"#ed7953\"],[0.7777777777777778,\"#fb9f3a\"],[0.8888888888888888,\"#fdca26\"],[1.0,\"#f0f921\"]]}],\"heatmapgl\":[{\"type\":\"heatmapgl\",\"colorbar\":{\"outlinewidth\":0,\"ticks\":\"\"},\"colorscale\":[[0.0,\"#0d0887\"],[0.1111111111111111,\"#46039f\"],[0.2222222222222222,\"#7201a8\"],[0.3333333333333333,\"#9c179e\"],[0.4444444444444444,\"#bd3786\"],[0.5555555555555556,\"#d8576b\"],[0.6666666666666666,\"#ed7953\"],[0.7777777777777778,\"#fb9f3a\"],[0.8888888888888888,\"#fdca26\"],[1.0,\"#f0f921\"]]}],\"contourcarpet\":[{\"type\":\"contourcarpet\",\"colorbar\":{\"outlinewidth\":0,\"ticks\":\"\"}}],\"contour\":[{\"type\":\"contour\",\"colorbar\":{\"outlinewidth\":0,\"ticks\":\"\"},\"colorscale\":[[0.0,\"#0d0887\"],[0.1111111111111111,\"#46039f\"],[0.2222222222222222,\"#7201a8\"],[0.3333333333333333,\"#9c179e\"],[0.4444444444444444,\"#bd3786\"],[0.5555555555555556,\"#d8576b\"],[0.6666666666666666,\"#ed7953\"],[0.7777777777777778,\"#fb9f3a\"],[0.8888888888888888,\"#fdca26\"],[1.0,\"#f0f921\"]]}],\"surface\":[{\"type\":\"surface\",\"colorbar\":{\"outlinewidth\":0,\"ticks\":\"\"},\"colorscale\":[[0.0,\"#0d0887\"],[0.1111111111111111,\"#46039f\"],[0.2222222222222222,\"#7201a8\"],[0.3333333333333333,\"#9c179e\"],[0.4444444444444444,\"#bd3786\"],[0.5555555555555556,\"#d8576b\"],[0.6666666666666666,\"#ed7953\"],[0.7777777777777778,\"#fb9f3a\"],[0.8888888888888888,\"#fdca26\"],[1.0,\"#f0f921\"]]}],\"mesh3d\":[{\"type\":\"mesh3d\",\"colorbar\":{\"outlinewidth\":0,\"ticks\":\"\"}}],\"scatter\":[{\"fillpattern\":{\"fillmode\":\"overlay\",\"size\":10,\"solidity\":0.2},\"type\":\"scatter\"}],\"parcoords\":[{\"type\":\"parcoords\",\"line\":{\"colorbar\":{\"outlinewidth\":0,\"ticks\":\"\"}}}],\"scatterpolargl\":[{\"type\":\"scatterpolargl\",\"marker\":{\"colorbar\":{\"outlinewidth\":0,\"ticks\":\"\"}}}],\"bar\":[{\"error_x\":{\"color\":\"#2a3f5f\"},\"error_y\":{\"color\":\"#2a3f5f\"},\"marker\":{\"line\":{\"color\":\"#E5ECF6\",\"width\":0.5},\"pattern\":{\"fillmode\":\"overlay\",\"size\":10,\"solidity\":0.2}},\"type\":\"bar\"}],\"scattergeo\":[{\"type\":\"scattergeo\",\"marker\":{\"colorbar\":{\"outlinewidth\":0,\"ticks\":\"\"}}}],\"scatterpolar\":[{\"type\":\"scatterpolar\",\"marker\":{\"colorbar\":{\"outlinewidth\":0,\"ticks\":\"\"}}}],\"histogram\":[{\"marker\":{\"pattern\":{\"fillmode\":\"overlay\",\"size\":10,\"solidity\":0.2}},\"type\":\"histogram\"}],\"scattergl\":[{\"type\":\"scattergl\",\"marker\":{\"colorbar\":{\"outlinewidth\":0,\"ticks\":\"\"}}}],\"scatter3d\":[{\"type\":\"scatter3d\",\"line\":{\"colorbar\":{\"outlinewidth\":0,\"ticks\":\"\"}},\"marker\":{\"colorbar\":{\"outlinewidth\":0,\"ticks\":\"\"}}}],\"scattermapbox\":[{\"type\":\"scattermapbox\",\"marker\":{\"colorbar\":{\"outlinewidth\":0,\"ticks\":\"\"}}}],\"scatterternary\":[{\"type\":\"scatterternary\",\"marker\":{\"colorbar\":{\"outlinewidth\":0,\"ticks\":\"\"}}}],\"scattercarpet\":[{\"type\":\"scattercarpet\",\"marker\":{\"colorbar\":{\"outlinewidth\":0,\"ticks\":\"\"}}}],\"carpet\":[{\"aaxis\":{\"endlinecolor\":\"#2a3f5f\",\"gridcolor\":\"white\",\"linecolor\":\"white\",\"minorgridcolor\":\"white\",\"startlinecolor\":\"#2a3f5f\"},\"baxis\":{\"endlinecolor\":\"#2a3f5f\",\"gridcolor\":\"white\",\"linecolor\":\"white\",\"minorgridcolor\":\"white\",\"startlinecolor\":\"#2a3f5f\"},\"type\":\"carpet\"}],\"table\":[{\"cells\":{\"fill\":{\"color\":\"#EBF0F8\"},\"line\":{\"color\":\"white\"}},\"header\":{\"fill\":{\"color\":\"#C8D4E3\"},\"line\":{\"color\":\"white\"}},\"type\":\"table\"}],\"barpolar\":[{\"marker\":{\"line\":{\"color\":\"#E5ECF6\",\"width\":0.5},\"pattern\":{\"fillmode\":\"overlay\",\"size\":10,\"solidity\":0.2}},\"type\":\"barpolar\"}],\"pie\":[{\"automargin\":true,\"type\":\"pie\"}]},\"layout\":{\"autotypenumbers\":\"strict\",\"colorway\":[\"#636efa\",\"#EF553B\",\"#00cc96\",\"#ab63fa\",\"#FFA15A\",\"#19d3f3\",\"#FF6692\",\"#B6E880\",\"#FF97FF\",\"#FECB52\"],\"font\":{\"color\":\"#2a3f5f\"},\"hovermode\":\"closest\",\"hoverlabel\":{\"align\":\"left\"},\"paper_bgcolor\":\"white\",\"plot_bgcolor\":\"#E5ECF6\",\"polar\":{\"bgcolor\":\"#E5ECF6\",\"angularaxis\":{\"gridcolor\":\"white\",\"linecolor\":\"white\",\"ticks\":\"\"},\"radialaxis\":{\"gridcolor\":\"white\",\"linecolor\":\"white\",\"ticks\":\"\"}},\"ternary\":{\"bgcolor\":\"#E5ECF6\",\"aaxis\":{\"gridcolor\":\"white\",\"linecolor\":\"white\",\"ticks\":\"\"},\"baxis\":{\"gridcolor\":\"white\",\"linecolor\":\"white\",\"ticks\":\"\"},\"caxis\":{\"gridcolor\":\"white\",\"linecolor\":\"white\",\"ticks\":\"\"}},\"coloraxis\":{\"colorbar\":{\"outlinewidth\":0,\"ticks\":\"\"}},\"colorscale\":{\"sequential\":[[0.0,\"#0d0887\"],[0.1111111111111111,\"#46039f\"],[0.2222222222222222,\"#7201a8\"],[0.3333333333333333,\"#9c179e\"],[0.4444444444444444,\"#bd3786\"],[0.5555555555555556,\"#d8576b\"],[0.6666666666666666,\"#ed7953\"],[0.7777777777777778,\"#fb9f3a\"],[0.8888888888888888,\"#fdca26\"],[1.0,\"#f0f921\"]],\"sequentialminus\":[[0.0,\"#0d0887\"],[0.1111111111111111,\"#46039f\"],[0.2222222222222222,\"#7201a8\"],[0.3333333333333333,\"#9c179e\"],[0.4444444444444444,\"#bd3786\"],[0.5555555555555556,\"#d8576b\"],[0.6666666666666666,\"#ed7953\"],[0.7777777777777778,\"#fb9f3a\"],[0.8888888888888888,\"#fdca26\"],[1.0,\"#f0f921\"]],\"diverging\":[[0,\"#8e0152\"],[0.1,\"#c51b7d\"],[0.2,\"#de77ae\"],[0.3,\"#f1b6da\"],[0.4,\"#fde0ef\"],[0.5,\"#f7f7f7\"],[0.6,\"#e6f5d0\"],[0.7,\"#b8e186\"],[0.8,\"#7fbc41\"],[0.9,\"#4d9221\"],[1,\"#276419\"]]},\"xaxis\":{\"gridcolor\":\"white\",\"linecolor\":\"white\",\"ticks\":\"\",\"title\":{\"standoff\":15},\"zerolinecolor\":\"white\",\"automargin\":true,\"zerolinewidth\":2},\"yaxis\":{\"gridcolor\":\"white\",\"linecolor\":\"white\",\"ticks\":\"\",\"title\":{\"standoff\":15},\"zerolinecolor\":\"white\",\"automargin\":true,\"zerolinewidth\":2},\"scene\":{\"xaxis\":{\"backgroundcolor\":\"#E5ECF6\",\"gridcolor\":\"white\",\"linecolor\":\"white\",\"showbackground\":true,\"ticks\":\"\",\"zerolinecolor\":\"white\",\"gridwidth\":2},\"yaxis\":{\"backgroundcolor\":\"#E5ECF6\",\"gridcolor\":\"white\",\"linecolor\":\"white\",\"showbackground\":true,\"ticks\":\"\",\"zerolinecolor\":\"white\",\"gridwidth\":2},\"zaxis\":{\"backgroundcolor\":\"#E5ECF6\",\"gridcolor\":\"white\",\"linecolor\":\"white\",\"showbackground\":true,\"ticks\":\"\",\"zerolinecolor\":\"white\",\"gridwidth\":2}},\"shapedefaults\":{\"line\":{\"color\":\"#2a3f5f\"}},\"annotationdefaults\":{\"arrowcolor\":\"#2a3f5f\",\"arrowhead\":0,\"arrowwidth\":1},\"geo\":{\"bgcolor\":\"white\",\"landcolor\":\"#E5ECF6\",\"subunitcolor\":\"white\",\"showland\":true,\"showlakes\":true,\"lakecolor\":\"white\"},\"title\":{\"x\":0.05},\"mapbox\":{\"style\":\"light\"}}},\"xaxis\":{\"anchor\":\"y\",\"domain\":[0.0,1.0],\"showgrid\":false},\"yaxis\":{\"anchor\":\"x\",\"domain\":[0.0,1.0],\"autorange\":\"reversed\",\"showgrid\":false},\"coloraxis\":{\"colorscale\":[[0.0,\"rgb(5,48,97)\"],[0.1,\"rgb(33,102,172)\"],[0.2,\"rgb(67,147,195)\"],[0.3,\"rgb(146,197,222)\"],[0.4,\"rgb(209,229,240)\"],[0.5,\"rgb(247,247,247)\"],[0.6,\"rgb(253,219,199)\"],[0.7,\"rgb(244,165,130)\"],[0.8,\"rgb(214,96,77)\"],[0.9,\"rgb(178,24,43)\"],[1.0,\"rgb(103,0,31)\"]],\"cmin\":-1,\"cmax\":1},\"margin\":{\"t\":60},\"height\":850,\"width\":900},                        {\"responsive\": true}                    ).then(function(){\n",
       "                            \n",
       "var gd = document.getElementById('6e1fd105-a9af-470a-bb6a-3b962d68ae70');\n",
       "var x = new MutationObserver(function (mutations, observer) {{\n",
       "        var display = window.getComputedStyle(gd).display;\n",
       "        if (!display || display === 'none') {{\n",
       "            console.log([gd, 'removed!']);\n",
       "            Plotly.purge(gd);\n",
       "            observer.disconnect();\n",
       "        }}\n",
       "}});\n",
       "\n",
       "// Listen for the removal of the full notebook cells\n",
       "var notebookContainer = gd.closest('#notebook-container');\n",
       "if (notebookContainer) {{\n",
       "    x.observe(notebookContainer, {childList: true});\n",
       "}}\n",
       "\n",
       "// Listen for the clearing of the current output cell\n",
       "var outputEl = gd.closest('.output');\n",
       "if (outputEl) {{\n",
       "    x.observe(outputEl, {childList: true});\n",
       "}}\n",
       "\n",
       "                        })                };                });            </script>        </div>"
      ]
     },
     "metadata": {},
     "output_type": "display_data"
    }
   ],
   "source": [
    "fig = px.imshow(train_data.drop([\"DATE\"], axis=1).corr().round(2), color_continuous_scale='RdBu_r', text_auto=True, aspect=\"auto\",\n",
    "                                width= 900,\n",
    "                                height = 850,\n",
    "                                range_color=[-1,1])\n",
    "fig.update_xaxes(showgrid=False).update_yaxes(showgrid=False)\n",
    "fig.show()"
   ]
  },
  {
   "cell_type": "code",
   "execution_count": 17,
   "metadata": {},
   "outputs": [],
   "source": [
    "from sklearn.model_selection import GridSearchCV"
   ]
  },
  {
   "cell_type": "code",
   "execution_count": 18,
   "metadata": {},
   "outputs": [],
   "source": [
    "param_grid = {\n",
    "    'learning_rate':[0.01,0.1,0.2],\n",
    "    'max_depth':[3,5,7,10],\n",
    "    'subsample':[0.8,0.9,1.0]\n",
    "}"
   ]
  },
  {
   "cell_type": "code",
   "execution_count": 19,
   "metadata": {},
   "outputs": [],
   "source": [
    "from xgboost import XGBRegressor"
   ]
  },
  {
   "cell_type": "code",
   "execution_count": 28,
   "metadata": {},
   "outputs": [],
   "source": [
    "grid_search = GridSearchCV(XGBRegressor(), param_grid, cv=3)\n",
    "grid_search.fit(X_train, y_train)\n",
    "best_params = grid_search.best_params_"
   ]
  },
  {
   "cell_type": "code",
   "execution_count": 29,
   "metadata": {},
   "outputs": [
    {
     "data": {
      "text/html": [
       "<style>#sk-container-id-1 {\n",
       "  /* Definition of color scheme common for light and dark mode */\n",
       "  --sklearn-color-text: black;\n",
       "  --sklearn-color-line: gray;\n",
       "  /* Definition of color scheme for unfitted estimators */\n",
       "  --sklearn-color-unfitted-level-0: #fff5e6;\n",
       "  --sklearn-color-unfitted-level-1: #f6e4d2;\n",
       "  --sklearn-color-unfitted-level-2: #ffe0b3;\n",
       "  --sklearn-color-unfitted-level-3: chocolate;\n",
       "  /* Definition of color scheme for fitted estimators */\n",
       "  --sklearn-color-fitted-level-0: #f0f8ff;\n",
       "  --sklearn-color-fitted-level-1: #d4ebff;\n",
       "  --sklearn-color-fitted-level-2: #b3dbfd;\n",
       "  --sklearn-color-fitted-level-3: cornflowerblue;\n",
       "\n",
       "  /* Specific color for light theme */\n",
       "  --sklearn-color-text-on-default-background: var(--sg-text-color, var(--theme-code-foreground, var(--jp-content-font-color1, black)));\n",
       "  --sklearn-color-background: var(--sg-background-color, var(--theme-background, var(--jp-layout-color0, white)));\n",
       "  --sklearn-color-border-box: var(--sg-text-color, var(--theme-code-foreground, var(--jp-content-font-color1, black)));\n",
       "  --sklearn-color-icon: #696969;\n",
       "\n",
       "  @media (prefers-color-scheme: dark) {\n",
       "    /* Redefinition of color scheme for dark theme */\n",
       "    --sklearn-color-text-on-default-background: var(--sg-text-color, var(--theme-code-foreground, var(--jp-content-font-color1, white)));\n",
       "    --sklearn-color-background: var(--sg-background-color, var(--theme-background, var(--jp-layout-color0, #111)));\n",
       "    --sklearn-color-border-box: var(--sg-text-color, var(--theme-code-foreground, var(--jp-content-font-color1, white)));\n",
       "    --sklearn-color-icon: #878787;\n",
       "  }\n",
       "}\n",
       "\n",
       "#sk-container-id-1 {\n",
       "  color: var(--sklearn-color-text);\n",
       "}\n",
       "\n",
       "#sk-container-id-1 pre {\n",
       "  padding: 0;\n",
       "}\n",
       "\n",
       "#sk-container-id-1 input.sk-hidden--visually {\n",
       "  border: 0;\n",
       "  clip: rect(1px 1px 1px 1px);\n",
       "  clip: rect(1px, 1px, 1px, 1px);\n",
       "  height: 1px;\n",
       "  margin: -1px;\n",
       "  overflow: hidden;\n",
       "  padding: 0;\n",
       "  position: absolute;\n",
       "  width: 1px;\n",
       "}\n",
       "\n",
       "#sk-container-id-1 div.sk-dashed-wrapped {\n",
       "  border: 1px dashed var(--sklearn-color-line);\n",
       "  margin: 0 0.4em 0.5em 0.4em;\n",
       "  box-sizing: border-box;\n",
       "  padding-bottom: 0.4em;\n",
       "  background-color: var(--sklearn-color-background);\n",
       "}\n",
       "\n",
       "#sk-container-id-1 div.sk-container {\n",
       "  /* jupyter's `normalize.less` sets `[hidden] { display: none; }`\n",
       "     but bootstrap.min.css set `[hidden] { display: none !important; }`\n",
       "     so we also need the `!important` here to be able to override the\n",
       "     default hidden behavior on the sphinx rendered scikit-learn.org.\n",
       "     See: https://github.com/scikit-learn/scikit-learn/issues/21755 */\n",
       "  display: inline-block !important;\n",
       "  position: relative;\n",
       "}\n",
       "\n",
       "#sk-container-id-1 div.sk-text-repr-fallback {\n",
       "  display: none;\n",
       "}\n",
       "\n",
       "div.sk-parallel-item,\n",
       "div.sk-serial,\n",
       "div.sk-item {\n",
       "  /* draw centered vertical line to link estimators */\n",
       "  background-image: linear-gradient(var(--sklearn-color-text-on-default-background), var(--sklearn-color-text-on-default-background));\n",
       "  background-size: 2px 100%;\n",
       "  background-repeat: no-repeat;\n",
       "  background-position: center center;\n",
       "}\n",
       "\n",
       "/* Parallel-specific style estimator block */\n",
       "\n",
       "#sk-container-id-1 div.sk-parallel-item::after {\n",
       "  content: \"\";\n",
       "  width: 100%;\n",
       "  border-bottom: 2px solid var(--sklearn-color-text-on-default-background);\n",
       "  flex-grow: 1;\n",
       "}\n",
       "\n",
       "#sk-container-id-1 div.sk-parallel {\n",
       "  display: flex;\n",
       "  align-items: stretch;\n",
       "  justify-content: center;\n",
       "  background-color: var(--sklearn-color-background);\n",
       "  position: relative;\n",
       "}\n",
       "\n",
       "#sk-container-id-1 div.sk-parallel-item {\n",
       "  display: flex;\n",
       "  flex-direction: column;\n",
       "}\n",
       "\n",
       "#sk-container-id-1 div.sk-parallel-item:first-child::after {\n",
       "  align-self: flex-end;\n",
       "  width: 50%;\n",
       "}\n",
       "\n",
       "#sk-container-id-1 div.sk-parallel-item:last-child::after {\n",
       "  align-self: flex-start;\n",
       "  width: 50%;\n",
       "}\n",
       "\n",
       "#sk-container-id-1 div.sk-parallel-item:only-child::after {\n",
       "  width: 0;\n",
       "}\n",
       "\n",
       "/* Serial-specific style estimator block */\n",
       "\n",
       "#sk-container-id-1 div.sk-serial {\n",
       "  display: flex;\n",
       "  flex-direction: column;\n",
       "  align-items: center;\n",
       "  background-color: var(--sklearn-color-background);\n",
       "  padding-right: 1em;\n",
       "  padding-left: 1em;\n",
       "}\n",
       "\n",
       "\n",
       "/* Toggleable style: style used for estimator/Pipeline/ColumnTransformer box that is\n",
       "clickable and can be expanded/collapsed.\n",
       "- Pipeline and ColumnTransformer use this feature and define the default style\n",
       "- Estimators will overwrite some part of the style using the `sk-estimator` class\n",
       "*/\n",
       "\n",
       "/* Pipeline and ColumnTransformer style (default) */\n",
       "\n",
       "#sk-container-id-1 div.sk-toggleable {\n",
       "  /* Default theme specific background. It is overwritten whether we have a\n",
       "  specific estimator or a Pipeline/ColumnTransformer */\n",
       "  background-color: var(--sklearn-color-background);\n",
       "}\n",
       "\n",
       "/* Toggleable label */\n",
       "#sk-container-id-1 label.sk-toggleable__label {\n",
       "  cursor: pointer;\n",
       "  display: block;\n",
       "  width: 100%;\n",
       "  margin-bottom: 0;\n",
       "  padding: 0.5em;\n",
       "  box-sizing: border-box;\n",
       "  text-align: center;\n",
       "}\n",
       "\n",
       "#sk-container-id-1 label.sk-toggleable__label-arrow:before {\n",
       "  /* Arrow on the left of the label */\n",
       "  content: \"▸\";\n",
       "  float: left;\n",
       "  margin-right: 0.25em;\n",
       "  color: var(--sklearn-color-icon);\n",
       "}\n",
       "\n",
       "#sk-container-id-1 label.sk-toggleable__label-arrow:hover:before {\n",
       "  color: var(--sklearn-color-text);\n",
       "}\n",
       "\n",
       "/* Toggleable content - dropdown */\n",
       "\n",
       "#sk-container-id-1 div.sk-toggleable__content {\n",
       "  max-height: 0;\n",
       "  max-width: 0;\n",
       "  overflow: hidden;\n",
       "  text-align: left;\n",
       "  /* unfitted */\n",
       "  background-color: var(--sklearn-color-unfitted-level-0);\n",
       "}\n",
       "\n",
       "#sk-container-id-1 div.sk-toggleable__content.fitted {\n",
       "  /* fitted */\n",
       "  background-color: var(--sklearn-color-fitted-level-0);\n",
       "}\n",
       "\n",
       "#sk-container-id-1 div.sk-toggleable__content pre {\n",
       "  margin: 0.2em;\n",
       "  border-radius: 0.25em;\n",
       "  color: var(--sklearn-color-text);\n",
       "  /* unfitted */\n",
       "  background-color: var(--sklearn-color-unfitted-level-0);\n",
       "}\n",
       "\n",
       "#sk-container-id-1 div.sk-toggleable__content.fitted pre {\n",
       "  /* unfitted */\n",
       "  background-color: var(--sklearn-color-fitted-level-0);\n",
       "}\n",
       "\n",
       "#sk-container-id-1 input.sk-toggleable__control:checked~div.sk-toggleable__content {\n",
       "  /* Expand drop-down */\n",
       "  max-height: 200px;\n",
       "  max-width: 100%;\n",
       "  overflow: auto;\n",
       "}\n",
       "\n",
       "#sk-container-id-1 input.sk-toggleable__control:checked~label.sk-toggleable__label-arrow:before {\n",
       "  content: \"▾\";\n",
       "}\n",
       "\n",
       "/* Pipeline/ColumnTransformer-specific style */\n",
       "\n",
       "#sk-container-id-1 div.sk-label input.sk-toggleable__control:checked~label.sk-toggleable__label {\n",
       "  color: var(--sklearn-color-text);\n",
       "  background-color: var(--sklearn-color-unfitted-level-2);\n",
       "}\n",
       "\n",
       "#sk-container-id-1 div.sk-label.fitted input.sk-toggleable__control:checked~label.sk-toggleable__label {\n",
       "  background-color: var(--sklearn-color-fitted-level-2);\n",
       "}\n",
       "\n",
       "/* Estimator-specific style */\n",
       "\n",
       "/* Colorize estimator box */\n",
       "#sk-container-id-1 div.sk-estimator input.sk-toggleable__control:checked~label.sk-toggleable__label {\n",
       "  /* unfitted */\n",
       "  background-color: var(--sklearn-color-unfitted-level-2);\n",
       "}\n",
       "\n",
       "#sk-container-id-1 div.sk-estimator.fitted input.sk-toggleable__control:checked~label.sk-toggleable__label {\n",
       "  /* fitted */\n",
       "  background-color: var(--sklearn-color-fitted-level-2);\n",
       "}\n",
       "\n",
       "#sk-container-id-1 div.sk-label label.sk-toggleable__label,\n",
       "#sk-container-id-1 div.sk-label label {\n",
       "  /* The background is the default theme color */\n",
       "  color: var(--sklearn-color-text-on-default-background);\n",
       "}\n",
       "\n",
       "/* On hover, darken the color of the background */\n",
       "#sk-container-id-1 div.sk-label:hover label.sk-toggleable__label {\n",
       "  color: var(--sklearn-color-text);\n",
       "  background-color: var(--sklearn-color-unfitted-level-2);\n",
       "}\n",
       "\n",
       "/* Label box, darken color on hover, fitted */\n",
       "#sk-container-id-1 div.sk-label.fitted:hover label.sk-toggleable__label.fitted {\n",
       "  color: var(--sklearn-color-text);\n",
       "  background-color: var(--sklearn-color-fitted-level-2);\n",
       "}\n",
       "\n",
       "/* Estimator label */\n",
       "\n",
       "#sk-container-id-1 div.sk-label label {\n",
       "  font-family: monospace;\n",
       "  font-weight: bold;\n",
       "  display: inline-block;\n",
       "  line-height: 1.2em;\n",
       "}\n",
       "\n",
       "#sk-container-id-1 div.sk-label-container {\n",
       "  text-align: center;\n",
       "}\n",
       "\n",
       "/* Estimator-specific */\n",
       "#sk-container-id-1 div.sk-estimator {\n",
       "  font-family: monospace;\n",
       "  border: 1px dotted var(--sklearn-color-border-box);\n",
       "  border-radius: 0.25em;\n",
       "  box-sizing: border-box;\n",
       "  margin-bottom: 0.5em;\n",
       "  /* unfitted */\n",
       "  background-color: var(--sklearn-color-unfitted-level-0);\n",
       "}\n",
       "\n",
       "#sk-container-id-1 div.sk-estimator.fitted {\n",
       "  /* fitted */\n",
       "  background-color: var(--sklearn-color-fitted-level-0);\n",
       "}\n",
       "\n",
       "/* on hover */\n",
       "#sk-container-id-1 div.sk-estimator:hover {\n",
       "  /* unfitted */\n",
       "  background-color: var(--sklearn-color-unfitted-level-2);\n",
       "}\n",
       "\n",
       "#sk-container-id-1 div.sk-estimator.fitted:hover {\n",
       "  /* fitted */\n",
       "  background-color: var(--sklearn-color-fitted-level-2);\n",
       "}\n",
       "\n",
       "/* Specification for estimator info (e.g. \"i\" and \"?\") */\n",
       "\n",
       "/* Common style for \"i\" and \"?\" */\n",
       "\n",
       ".sk-estimator-doc-link,\n",
       "a:link.sk-estimator-doc-link,\n",
       "a:visited.sk-estimator-doc-link {\n",
       "  float: right;\n",
       "  font-size: smaller;\n",
       "  line-height: 1em;\n",
       "  font-family: monospace;\n",
       "  background-color: var(--sklearn-color-background);\n",
       "  border-radius: 1em;\n",
       "  height: 1em;\n",
       "  width: 1em;\n",
       "  text-decoration: none !important;\n",
       "  margin-left: 1ex;\n",
       "  /* unfitted */\n",
       "  border: var(--sklearn-color-unfitted-level-1) 1pt solid;\n",
       "  color: var(--sklearn-color-unfitted-level-1);\n",
       "}\n",
       "\n",
       ".sk-estimator-doc-link.fitted,\n",
       "a:link.sk-estimator-doc-link.fitted,\n",
       "a:visited.sk-estimator-doc-link.fitted {\n",
       "  /* fitted */\n",
       "  border: var(--sklearn-color-fitted-level-1) 1pt solid;\n",
       "  color: var(--sklearn-color-fitted-level-1);\n",
       "}\n",
       "\n",
       "/* On hover */\n",
       "div.sk-estimator:hover .sk-estimator-doc-link:hover,\n",
       ".sk-estimator-doc-link:hover,\n",
       "div.sk-label-container:hover .sk-estimator-doc-link:hover,\n",
       ".sk-estimator-doc-link:hover {\n",
       "  /* unfitted */\n",
       "  background-color: var(--sklearn-color-unfitted-level-3);\n",
       "  color: var(--sklearn-color-background);\n",
       "  text-decoration: none;\n",
       "}\n",
       "\n",
       "div.sk-estimator.fitted:hover .sk-estimator-doc-link.fitted:hover,\n",
       ".sk-estimator-doc-link.fitted:hover,\n",
       "div.sk-label-container:hover .sk-estimator-doc-link.fitted:hover,\n",
       ".sk-estimator-doc-link.fitted:hover {\n",
       "  /* fitted */\n",
       "  background-color: var(--sklearn-color-fitted-level-3);\n",
       "  color: var(--sklearn-color-background);\n",
       "  text-decoration: none;\n",
       "}\n",
       "\n",
       "/* Span, style for the box shown on hovering the info icon */\n",
       ".sk-estimator-doc-link span {\n",
       "  display: none;\n",
       "  z-index: 9999;\n",
       "  position: relative;\n",
       "  font-weight: normal;\n",
       "  right: .2ex;\n",
       "  padding: .5ex;\n",
       "  margin: .5ex;\n",
       "  width: min-content;\n",
       "  min-width: 20ex;\n",
       "  max-width: 50ex;\n",
       "  color: var(--sklearn-color-text);\n",
       "  box-shadow: 2pt 2pt 4pt #999;\n",
       "  /* unfitted */\n",
       "  background: var(--sklearn-color-unfitted-level-0);\n",
       "  border: .5pt solid var(--sklearn-color-unfitted-level-3);\n",
       "}\n",
       "\n",
       ".sk-estimator-doc-link.fitted span {\n",
       "  /* fitted */\n",
       "  background: var(--sklearn-color-fitted-level-0);\n",
       "  border: var(--sklearn-color-fitted-level-3);\n",
       "}\n",
       "\n",
       ".sk-estimator-doc-link:hover span {\n",
       "  display: block;\n",
       "}\n",
       "\n",
       "/* \"?\"-specific style due to the `<a>` HTML tag */\n",
       "\n",
       "#sk-container-id-1 a.estimator_doc_link {\n",
       "  float: right;\n",
       "  font-size: 1rem;\n",
       "  line-height: 1em;\n",
       "  font-family: monospace;\n",
       "  background-color: var(--sklearn-color-background);\n",
       "  border-radius: 1rem;\n",
       "  height: 1rem;\n",
       "  width: 1rem;\n",
       "  text-decoration: none;\n",
       "  /* unfitted */\n",
       "  color: var(--sklearn-color-unfitted-level-1);\n",
       "  border: var(--sklearn-color-unfitted-level-1) 1pt solid;\n",
       "}\n",
       "\n",
       "#sk-container-id-1 a.estimator_doc_link.fitted {\n",
       "  /* fitted */\n",
       "  border: var(--sklearn-color-fitted-level-1) 1pt solid;\n",
       "  color: var(--sklearn-color-fitted-level-1);\n",
       "}\n",
       "\n",
       "/* On hover */\n",
       "#sk-container-id-1 a.estimator_doc_link:hover {\n",
       "  /* unfitted */\n",
       "  background-color: var(--sklearn-color-unfitted-level-3);\n",
       "  color: var(--sklearn-color-background);\n",
       "  text-decoration: none;\n",
       "}\n",
       "\n",
       "#sk-container-id-1 a.estimator_doc_link.fitted:hover {\n",
       "  /* fitted */\n",
       "  background-color: var(--sklearn-color-fitted-level-3);\n",
       "}\n",
       "</style><div id=\"sk-container-id-1\" class=\"sk-top-container\"><div class=\"sk-text-repr-fallback\"><pre>XGBRegressor(base_score=None, booster=None, callbacks=None,\n",
       "             colsample_bylevel=None, colsample_bynode=None,\n",
       "             colsample_bytree=None, device=None, early_stopping_rounds=None,\n",
       "             enable_categorical=False, eval_metric=None, feature_types=None,\n",
       "             gamma=None, grow_policy=None, importance_type=None,\n",
       "             interaction_constraints=None, learning_rate=0.2, max_bin=None,\n",
       "             max_cat_threshold=None, max_cat_to_onehot=None,\n",
       "             max_delta_step=None, max_depth=7, max_leaves=None,\n",
       "             min_child_weight=None, missing=nan, monotone_constraints=None,\n",
       "             multi_strategy=None, n_estimators=None, n_jobs=None,\n",
       "             num_parallel_tree=None, random_state=None, ...)</pre><b>In a Jupyter environment, please rerun this cell to show the HTML representation or trust the notebook. <br />On GitHub, the HTML representation is unable to render, please try loading this page with nbviewer.org.</b></div><div class=\"sk-container\" hidden><div class=\"sk-item\"><div class=\"sk-estimator fitted sk-toggleable\"><input class=\"sk-toggleable__control sk-hidden--visually\" id=\"sk-estimator-id-1\" type=\"checkbox\" checked><label for=\"sk-estimator-id-1\" class=\"sk-toggleable__label fitted sk-toggleable__label-arrow fitted\">&nbsp;XGBRegressor<span class=\"sk-estimator-doc-link fitted\">i<span>Fitted</span></span></label><div class=\"sk-toggleable__content fitted\"><pre>XGBRegressor(base_score=None, booster=None, callbacks=None,\n",
       "             colsample_bylevel=None, colsample_bynode=None,\n",
       "             colsample_bytree=None, device=None, early_stopping_rounds=None,\n",
       "             enable_categorical=False, eval_metric=None, feature_types=None,\n",
       "             gamma=None, grow_policy=None, importance_type=None,\n",
       "             interaction_constraints=None, learning_rate=0.2, max_bin=None,\n",
       "             max_cat_threshold=None, max_cat_to_onehot=None,\n",
       "             max_delta_step=None, max_depth=7, max_leaves=None,\n",
       "             min_child_weight=None, missing=nan, monotone_constraints=None,\n",
       "             multi_strategy=None, n_estimators=None, n_jobs=None,\n",
       "             num_parallel_tree=None, random_state=None, ...)</pre></div> </div></div></div></div>"
      ],
      "text/plain": [
       "XGBRegressor(base_score=None, booster=None, callbacks=None,\n",
       "             colsample_bylevel=None, colsample_bynode=None,\n",
       "             colsample_bytree=None, device=None, early_stopping_rounds=None,\n",
       "             enable_categorical=False, eval_metric=None, feature_types=None,\n",
       "             gamma=None, grow_policy=None, importance_type=None,\n",
       "             interaction_constraints=None, learning_rate=0.2, max_bin=None,\n",
       "             max_cat_threshold=None, max_cat_to_onehot=None,\n",
       "             max_delta_step=None, max_depth=7, max_leaves=None,\n",
       "             min_child_weight=None, missing=nan, monotone_constraints=None,\n",
       "             multi_strategy=None, n_estimators=None, n_jobs=None,\n",
       "             num_parallel_tree=None, random_state=None, ...)"
      ]
     },
     "execution_count": 29,
     "metadata": {},
     "output_type": "execute_result"
    }
   ],
   "source": [
    "xgb_model = XGBRegressor(**best_params)\n",
    "xgb_model.fit(X_train, y_train)"
   ]
  },
  {
   "cell_type": "code",
   "execution_count": 30,
   "metadata": {},
   "outputs": [],
   "source": [
    "from sklearn.metrics import mean_absolute_error, mean_squared_error\n",
    "\n",
    "predictions = xgb_model.predict(X_test)\n",
    "\n",
    "mae = mean_absolute_error(y_test, predictions)\n",
    "\n",
    "rmse = np.sqrt(mean_squared_error(y_test, predictions))"
   ]
  },
  {
   "cell_type": "code",
   "execution_count": 31,
   "metadata": {},
   "outputs": [
    {
     "data": {
      "text/plain": [
       "3.803062939881526"
      ]
     },
     "execution_count": 31,
     "metadata": {},
     "output_type": "execute_result"
    }
   ],
   "source": [
    "rmse"
   ]
  },
  {
   "cell_type": "code",
   "execution_count": 37,
   "metadata": {},
   "outputs": [],
   "source": [
    "y_test[\"prediction\"] = predictions"
   ]
  },
  {
   "cell_type": "code",
   "execution_count": 38,
   "metadata": {},
   "outputs": [
    {
     "data": {
      "text/html": [
       "<div>\n",
       "<style scoped>\n",
       "    .dataframe tbody tr th:only-of-type {\n",
       "        vertical-align: middle;\n",
       "    }\n",
       "\n",
       "    .dataframe tbody tr th {\n",
       "        vertical-align: top;\n",
       "    }\n",
       "\n",
       "    .dataframe thead th {\n",
       "        text-align: right;\n",
       "    }\n",
       "</style>\n",
       "<table border=\"1\" class=\"dataframe\">\n",
       "  <thead>\n",
       "    <tr style=\"text-align: right;\">\n",
       "      <th></th>\n",
       "      <th>Temp</th>\n",
       "      <th>prediction</th>\n",
       "    </tr>\n",
       "    <tr>\n",
       "      <th>DATE</th>\n",
       "      <th></th>\n",
       "      <th></th>\n",
       "    </tr>\n",
       "  </thead>\n",
       "  <tbody>\n",
       "    <tr>\n",
       "      <th>2/23/2021</th>\n",
       "      <td>0.95</td>\n",
       "      <td>-2.195663</td>\n",
       "    </tr>\n",
       "    <tr>\n",
       "      <th>2/24/2021</th>\n",
       "      <td>-0.70</td>\n",
       "      <td>0.089377</td>\n",
       "    </tr>\n",
       "    <tr>\n",
       "      <th>2/25/2021</th>\n",
       "      <td>-7.60</td>\n",
       "      <td>-4.492254</td>\n",
       "    </tr>\n",
       "    <tr>\n",
       "      <th>2/26/2021</th>\n",
       "      <td>-7.40</td>\n",
       "      <td>-12.859139</td>\n",
       "    </tr>\n",
       "    <tr>\n",
       "      <th>2/27/2021</th>\n",
       "      <td>-4.69</td>\n",
       "      <td>-4.600336</td>\n",
       "    </tr>\n",
       "  </tbody>\n",
       "</table>\n",
       "</div>"
      ],
      "text/plain": [
       "           Temp  prediction\n",
       "DATE                       \n",
       "2/23/2021  0.95   -2.195663\n",
       "2/24/2021 -0.70    0.089377\n",
       "2/25/2021 -7.60   -4.492254\n",
       "2/26/2021 -7.40  -12.859139\n",
       "2/27/2021 -4.69   -4.600336"
      ]
     },
     "execution_count": 38,
     "metadata": {},
     "output_type": "execute_result"
    }
   ],
   "source": [
    "y_test.head()"
   ]
  },
  {
   "cell_type": "code",
   "execution_count": 45,
   "metadata": {},
   "outputs": [
    {
     "data": {
      "text/plain": [
       "Index(['Temp', 'prediction'], dtype='object')"
      ]
     },
     "execution_count": 45,
     "metadata": {},
     "output_type": "execute_result"
    }
   ],
   "source": [
    "y_test.keys()"
   ]
  },
  {
   "cell_type": "code",
   "execution_count": 57,
   "metadata": {},
   "outputs": [],
   "source": [
    "df = pd.melt(y_test.reset_index(), id_vars=\"DATE\",value_vars=list(y_test.keys()), value_name=\"Temperature\")"
   ]
  },
  {
   "cell_type": "code",
   "execution_count": 59,
   "metadata": {},
   "outputs": [
    {
     "data": {
      "text/html": [
       "<div>\n",
       "<style scoped>\n",
       "    .dataframe tbody tr th:only-of-type {\n",
       "        vertical-align: middle;\n",
       "    }\n",
       "\n",
       "    .dataframe tbody tr th {\n",
       "        vertical-align: top;\n",
       "    }\n",
       "\n",
       "    .dataframe thead th {\n",
       "        text-align: right;\n",
       "    }\n",
       "</style>\n",
       "<table border=\"1\" class=\"dataframe\">\n",
       "  <thead>\n",
       "    <tr style=\"text-align: right;\">\n",
       "      <th></th>\n",
       "      <th>DATE</th>\n",
       "      <th>variable</th>\n",
       "      <th>Temperature</th>\n",
       "    </tr>\n",
       "  </thead>\n",
       "  <tbody>\n",
       "    <tr>\n",
       "      <th>0</th>\n",
       "      <td>2/23/2021</td>\n",
       "      <td>Temp</td>\n",
       "      <td>0.95</td>\n",
       "    </tr>\n",
       "    <tr>\n",
       "      <th>1</th>\n",
       "      <td>2/24/2021</td>\n",
       "      <td>Temp</td>\n",
       "      <td>-0.70</td>\n",
       "    </tr>\n",
       "    <tr>\n",
       "      <th>2</th>\n",
       "      <td>2/25/2021</td>\n",
       "      <td>Temp</td>\n",
       "      <td>-7.60</td>\n",
       "    </tr>\n",
       "    <tr>\n",
       "      <th>3</th>\n",
       "      <td>2/26/2021</td>\n",
       "      <td>Temp</td>\n",
       "      <td>-7.40</td>\n",
       "    </tr>\n",
       "    <tr>\n",
       "      <th>4</th>\n",
       "      <td>2/27/2021</td>\n",
       "      <td>Temp</td>\n",
       "      <td>-4.69</td>\n",
       "    </tr>\n",
       "  </tbody>\n",
       "</table>\n",
       "</div>"
      ],
      "text/plain": [
       "        DATE variable  Temperature\n",
       "0  2/23/2021     Temp         0.95\n",
       "1  2/24/2021     Temp        -0.70\n",
       "2  2/25/2021     Temp        -7.60\n",
       "3  2/26/2021     Temp        -7.40\n",
       "4  2/27/2021     Temp        -4.69"
      ]
     },
     "execution_count": 59,
     "metadata": {},
     "output_type": "execute_result"
    }
   ],
   "source": [
    "df.head()"
   ]
  },
  {
   "cell_type": "code",
   "execution_count": 60,
   "metadata": {},
   "outputs": [
    {
     "data": {
      "application/vnd.plotly.v1+json": {
       "config": {
        "plotlyServerURL": "https://plot.ly"
       },
       "data": [
        {
         "hovertemplate": "variable=Temp<br>DATE=%{x}<br>Temperature=%{y}<extra></extra>",
         "legendgroup": "Temp",
         "line": {
          "color": "#636efa",
          "dash": "solid"
         },
         "marker": {
          "symbol": "circle"
         },
         "mode": "lines",
         "name": "Temp",
         "orientation": "v",
         "showlegend": true,
         "type": "scatter",
         "x": [
          "2/23/2021",
          "2/24/2021",
          "2/25/2021",
          "2/26/2021",
          "2/27/2021",
          "2/28/2021",
          "3/1/2021",
          "3/2/2021",
          "3/3/2021",
          "3/4/2021",
          "3/5/2021",
          "3/6/2021",
          "3/7/2021",
          "3/8/2021",
          "3/9/2021",
          "3/10/2021",
          "3/11/2021",
          "3/12/2021",
          "3/13/2021",
          "3/14/2021",
          "3/15/2021",
          "3/16/2021",
          "3/17/2021",
          "3/18/2021",
          "3/19/2021",
          "3/20/2021",
          "3/21/2021",
          "3/22/2021",
          "3/23/2021",
          "3/24/2021",
          "3/25/2021",
          "3/26/2021",
          "3/27/2021",
          "3/28/2021",
          "3/29/2021",
          "3/30/2021",
          "3/31/2021",
          "4/1/2021",
          "4/2/2021",
          "4/3/2021",
          "4/4/2021",
          "4/5/2021",
          "4/6/2021",
          "4/7/2021",
          "4/8/2021",
          "4/9/2021",
          "4/10/2021",
          "4/11/2021",
          "4/12/2021",
          "4/13/2021",
          "4/14/2021",
          "4/15/2021",
          "4/16/2021",
          "4/17/2021",
          "4/18/2021",
          "4/19/2021",
          "4/20/2021",
          "4/21/2021",
          "4/22/2021",
          "4/23/2021",
          "4/24/2021",
          "4/25/2021",
          "4/26/2021",
          "4/27/2021",
          "4/28/2021",
          "4/29/2021",
          "4/30/2021",
          "5/1/2021",
          "5/2/2021",
          "5/3/2021",
          "5/4/2021",
          "5/5/2021",
          "5/6/2021",
          "5/7/2021",
          "5/8/2021",
          "5/9/2021",
          "5/10/2021",
          "5/11/2021",
          "5/12/2021",
          "5/13/2021",
          "5/14/2021",
          "5/15/2021",
          "5/16/2021",
          "5/17/2021",
          "5/18/2021",
          "5/19/2021",
          "5/20/2021",
          "5/21/2021",
          "5/22/2021",
          "5/23/2021",
          "5/24/2021",
          "5/25/2021",
          "5/26/2021",
          "5/27/2021",
          "5/28/2021",
          "5/29/2021",
          "5/30/2021",
          "5/31/2021",
          "6/1/2021",
          "6/2/2021",
          "6/3/2021",
          "6/4/2021",
          "6/5/2021",
          "6/6/2021",
          "6/7/2021"
         ],
         "xaxis": "x",
         "y": [
          0.95,
          -0.7,
          -7.6,
          -7.4,
          -4.69,
          -1.89,
          -6.79,
          -12.95,
          -3.4,
          -8.8,
          -10.6,
          -9.39,
          -11.55,
          -10.45,
          -1.69,
          1.2,
          9.94,
          -0.14,
          -4.75,
          -6.6,
          -10.1,
          -4.09,
          0.89,
          -0.5,
          -3.95,
          4.19,
          5.94,
          6.95,
          9.45,
          7.1,
          13.6,
          4.5,
          1.79,
          5.75,
          -0.2,
          7.75,
          7.6,
          -1.45,
          -1.75,
          1.35,
          6.6,
          7.5,
          7.05,
          9.65,
          13.95,
          15.25,
          15.9,
          13.65,
          13.55,
          13.5,
          11.89,
          7.9,
          5.55,
          8.05,
          9.69,
          10.55,
          6.4,
          -0.25,
          1.6,
          8.1,
          12.2,
          6.6,
          4.8,
          7.7,
          11.25,
          11.9,
          5.55,
          5.3,
          7.65,
          7.15,
          10.5,
          8.85,
          8.4,
          7.6,
          7.5,
          10,
          10.1,
          6.75,
          10.7,
          12.3,
          15.25,
          15.89,
          16.39,
          16,
          19.1,
          20.05,
          22.45,
          24.65,
          22.8,
          14.35,
          13.55,
          19.14,
          21.95,
          8.44,
          7.65,
          10.9,
          11.85,
          14.45,
          18.2,
          18.3,
          18.55,
          20.8,
          22.75,
          24.6,
          26.1
         ],
         "yaxis": "y"
        },
        {
         "hovertemplate": "variable=prediction<br>DATE=%{x}<br>Temperature=%{y}<extra></extra>",
         "legendgroup": "prediction",
         "line": {
          "color": "#EF553B",
          "dash": "solid"
         },
         "marker": {
          "symbol": "circle"
         },
         "mode": "lines",
         "name": "prediction",
         "orientation": "v",
         "showlegend": true,
         "type": "scatter",
         "x": [
          "2/23/2021",
          "2/24/2021",
          "2/25/2021",
          "2/26/2021",
          "2/27/2021",
          "2/28/2021",
          "3/1/2021",
          "3/2/2021",
          "3/3/2021",
          "3/4/2021",
          "3/5/2021",
          "3/6/2021",
          "3/7/2021",
          "3/8/2021",
          "3/9/2021",
          "3/10/2021",
          "3/11/2021",
          "3/12/2021",
          "3/13/2021",
          "3/14/2021",
          "3/15/2021",
          "3/16/2021",
          "3/17/2021",
          "3/18/2021",
          "3/19/2021",
          "3/20/2021",
          "3/21/2021",
          "3/22/2021",
          "3/23/2021",
          "3/24/2021",
          "3/25/2021",
          "3/26/2021",
          "3/27/2021",
          "3/28/2021",
          "3/29/2021",
          "3/30/2021",
          "3/31/2021",
          "4/1/2021",
          "4/2/2021",
          "4/3/2021",
          "4/4/2021",
          "4/5/2021",
          "4/6/2021",
          "4/7/2021",
          "4/8/2021",
          "4/9/2021",
          "4/10/2021",
          "4/11/2021",
          "4/12/2021",
          "4/13/2021",
          "4/14/2021",
          "4/15/2021",
          "4/16/2021",
          "4/17/2021",
          "4/18/2021",
          "4/19/2021",
          "4/20/2021",
          "4/21/2021",
          "4/22/2021",
          "4/23/2021",
          "4/24/2021",
          "4/25/2021",
          "4/26/2021",
          "4/27/2021",
          "4/28/2021",
          "4/29/2021",
          "4/30/2021",
          "5/1/2021",
          "5/2/2021",
          "5/3/2021",
          "5/4/2021",
          "5/5/2021",
          "5/6/2021",
          "5/7/2021",
          "5/8/2021",
          "5/9/2021",
          "5/10/2021",
          "5/11/2021",
          "5/12/2021",
          "5/13/2021",
          "5/14/2021",
          "5/15/2021",
          "5/16/2021",
          "5/17/2021",
          "5/18/2021",
          "5/19/2021",
          "5/20/2021",
          "5/21/2021",
          "5/22/2021",
          "5/23/2021",
          "5/24/2021",
          "5/25/2021",
          "5/26/2021",
          "5/27/2021",
          "5/28/2021",
          "5/29/2021",
          "5/30/2021",
          "5/31/2021",
          "6/1/2021",
          "6/2/2021",
          "6/3/2021",
          "6/4/2021",
          "6/5/2021",
          "6/6/2021",
          "6/7/2021"
         ],
         "xaxis": "x",
         "y": [
          -2.1956627368927,
          0.08937665820121765,
          -4.49225378036499,
          -12.859139442443848,
          -4.600335597991943,
          -2.9043076038360596,
          -2.6586949825286865,
          -8.630290985107422,
          -10.19707202911377,
          -3.785705327987671,
          -6.57645845413208,
          -5.486121654510498,
          -12.804974555969238,
          -12.001686096191406,
          -12.341493606567383,
          -1.7754826545715332,
          0.7180867791175842,
          4.332891464233398,
          -5.26113224029541,
          -5.9984517097473145,
          -8.452317237854004,
          -5.560163974761963,
          -1.604941487312317,
          1.903997540473938,
          -5.124492168426514,
          -4.357179641723633,
          0.9340513348579407,
          7.231507778167725,
          7.956400394439697,
          7.361956596374512,
          8.12690544128418,
          8.983016014099121,
          2.8245885372161865,
          2.9290614128112793,
          5.252302646636963,
          2.892407178878784,
          9.166648864746094,
          8.095789909362793,
          2.178271532058716,
          4.3474040031433105,
          3.9994804859161377,
          9.23308277130127,
          8.958239555358887,
          8.702966690063477,
          8.346945762634277,
          12.5885591506958,
          14.756129264831543,
          11.990497589111328,
          10.05838394165039,
          10.57139778137207,
          14.733713150024414,
          14.379222869873047,
          10.285290718078613,
          7.370175361633301,
          12.225946426391602,
          12.395173072814941,
          10.325239181518555,
          5.780182361602783,
          1.2507109642028809,
          1.4129180908203125,
          6.791897296905518,
          8.751382827758789,
          6.385170936584473,
          5.431934356689453,
          10.953145980834961,
          11.609047889709473,
          9.976468086242676,
          4.455402374267578,
          4.046151161193848,
          8.168675422668457,
          9.068572044372559,
          8.594645500183105,
          5.094764709472656,
          8.468209266662598,
          10.172459602355957,
          9.293330192565918,
          11.044925689697266,
          9.607606887817383,
          5.951260566711426,
          10.26604175567627,
          12.943187713623047,
          15.658028602600098,
          16.580862045288086,
          17.014049530029297,
          17.415163040161133,
          20.977022171020508,
          21.56890869140625,
          24.171401977539062,
          25.48969078063965,
          23.444116592407227,
          12.607073783874512,
          15.923107147216797,
          18.242761611938477,
          20.608070373535156,
          8.15683364868164,
          9.972944259643555,
          11.805081367492676,
          12.882110595703125,
          16.604537963867188,
          17.651893615722656,
          18.887842178344727,
          18.692142486572266,
          16.905208587646484,
          20.940128326416016,
          21.09906005859375
         ],
         "yaxis": "y"
        }
       ],
       "layout": {
        "legend": {
         "title": {
          "text": "variable"
         },
         "tracegroupgap": 0
        },
        "margin": {
         "t": 60
        },
        "template": {
         "data": {
          "bar": [
           {
            "error_x": {
             "color": "#2a3f5f"
            },
            "error_y": {
             "color": "#2a3f5f"
            },
            "marker": {
             "line": {
              "color": "#E5ECF6",
              "width": 0.5
             },
             "pattern": {
              "fillmode": "overlay",
              "size": 10,
              "solidity": 0.2
             }
            },
            "type": "bar"
           }
          ],
          "barpolar": [
           {
            "marker": {
             "line": {
              "color": "#E5ECF6",
              "width": 0.5
             },
             "pattern": {
              "fillmode": "overlay",
              "size": 10,
              "solidity": 0.2
             }
            },
            "type": "barpolar"
           }
          ],
          "carpet": [
           {
            "aaxis": {
             "endlinecolor": "#2a3f5f",
             "gridcolor": "white",
             "linecolor": "white",
             "minorgridcolor": "white",
             "startlinecolor": "#2a3f5f"
            },
            "baxis": {
             "endlinecolor": "#2a3f5f",
             "gridcolor": "white",
             "linecolor": "white",
             "minorgridcolor": "white",
             "startlinecolor": "#2a3f5f"
            },
            "type": "carpet"
           }
          ],
          "choropleth": [
           {
            "colorbar": {
             "outlinewidth": 0,
             "ticks": ""
            },
            "type": "choropleth"
           }
          ],
          "contour": [
           {
            "colorbar": {
             "outlinewidth": 0,
             "ticks": ""
            },
            "colorscale": [
             [
              0,
              "#0d0887"
             ],
             [
              0.1111111111111111,
              "#46039f"
             ],
             [
              0.2222222222222222,
              "#7201a8"
             ],
             [
              0.3333333333333333,
              "#9c179e"
             ],
             [
              0.4444444444444444,
              "#bd3786"
             ],
             [
              0.5555555555555556,
              "#d8576b"
             ],
             [
              0.6666666666666666,
              "#ed7953"
             ],
             [
              0.7777777777777778,
              "#fb9f3a"
             ],
             [
              0.8888888888888888,
              "#fdca26"
             ],
             [
              1,
              "#f0f921"
             ]
            ],
            "type": "contour"
           }
          ],
          "contourcarpet": [
           {
            "colorbar": {
             "outlinewidth": 0,
             "ticks": ""
            },
            "type": "contourcarpet"
           }
          ],
          "heatmap": [
           {
            "colorbar": {
             "outlinewidth": 0,
             "ticks": ""
            },
            "colorscale": [
             [
              0,
              "#0d0887"
             ],
             [
              0.1111111111111111,
              "#46039f"
             ],
             [
              0.2222222222222222,
              "#7201a8"
             ],
             [
              0.3333333333333333,
              "#9c179e"
             ],
             [
              0.4444444444444444,
              "#bd3786"
             ],
             [
              0.5555555555555556,
              "#d8576b"
             ],
             [
              0.6666666666666666,
              "#ed7953"
             ],
             [
              0.7777777777777778,
              "#fb9f3a"
             ],
             [
              0.8888888888888888,
              "#fdca26"
             ],
             [
              1,
              "#f0f921"
             ]
            ],
            "type": "heatmap"
           }
          ],
          "heatmapgl": [
           {
            "colorbar": {
             "outlinewidth": 0,
             "ticks": ""
            },
            "colorscale": [
             [
              0,
              "#0d0887"
             ],
             [
              0.1111111111111111,
              "#46039f"
             ],
             [
              0.2222222222222222,
              "#7201a8"
             ],
             [
              0.3333333333333333,
              "#9c179e"
             ],
             [
              0.4444444444444444,
              "#bd3786"
             ],
             [
              0.5555555555555556,
              "#d8576b"
             ],
             [
              0.6666666666666666,
              "#ed7953"
             ],
             [
              0.7777777777777778,
              "#fb9f3a"
             ],
             [
              0.8888888888888888,
              "#fdca26"
             ],
             [
              1,
              "#f0f921"
             ]
            ],
            "type": "heatmapgl"
           }
          ],
          "histogram": [
           {
            "marker": {
             "pattern": {
              "fillmode": "overlay",
              "size": 10,
              "solidity": 0.2
             }
            },
            "type": "histogram"
           }
          ],
          "histogram2d": [
           {
            "colorbar": {
             "outlinewidth": 0,
             "ticks": ""
            },
            "colorscale": [
             [
              0,
              "#0d0887"
             ],
             [
              0.1111111111111111,
              "#46039f"
             ],
             [
              0.2222222222222222,
              "#7201a8"
             ],
             [
              0.3333333333333333,
              "#9c179e"
             ],
             [
              0.4444444444444444,
              "#bd3786"
             ],
             [
              0.5555555555555556,
              "#d8576b"
             ],
             [
              0.6666666666666666,
              "#ed7953"
             ],
             [
              0.7777777777777778,
              "#fb9f3a"
             ],
             [
              0.8888888888888888,
              "#fdca26"
             ],
             [
              1,
              "#f0f921"
             ]
            ],
            "type": "histogram2d"
           }
          ],
          "histogram2dcontour": [
           {
            "colorbar": {
             "outlinewidth": 0,
             "ticks": ""
            },
            "colorscale": [
             [
              0,
              "#0d0887"
             ],
             [
              0.1111111111111111,
              "#46039f"
             ],
             [
              0.2222222222222222,
              "#7201a8"
             ],
             [
              0.3333333333333333,
              "#9c179e"
             ],
             [
              0.4444444444444444,
              "#bd3786"
             ],
             [
              0.5555555555555556,
              "#d8576b"
             ],
             [
              0.6666666666666666,
              "#ed7953"
             ],
             [
              0.7777777777777778,
              "#fb9f3a"
             ],
             [
              0.8888888888888888,
              "#fdca26"
             ],
             [
              1,
              "#f0f921"
             ]
            ],
            "type": "histogram2dcontour"
           }
          ],
          "mesh3d": [
           {
            "colorbar": {
             "outlinewidth": 0,
             "ticks": ""
            },
            "type": "mesh3d"
           }
          ],
          "parcoords": [
           {
            "line": {
             "colorbar": {
              "outlinewidth": 0,
              "ticks": ""
             }
            },
            "type": "parcoords"
           }
          ],
          "pie": [
           {
            "automargin": true,
            "type": "pie"
           }
          ],
          "scatter": [
           {
            "fillpattern": {
             "fillmode": "overlay",
             "size": 10,
             "solidity": 0.2
            },
            "type": "scatter"
           }
          ],
          "scatter3d": [
           {
            "line": {
             "colorbar": {
              "outlinewidth": 0,
              "ticks": ""
             }
            },
            "marker": {
             "colorbar": {
              "outlinewidth": 0,
              "ticks": ""
             }
            },
            "type": "scatter3d"
           }
          ],
          "scattercarpet": [
           {
            "marker": {
             "colorbar": {
              "outlinewidth": 0,
              "ticks": ""
             }
            },
            "type": "scattercarpet"
           }
          ],
          "scattergeo": [
           {
            "marker": {
             "colorbar": {
              "outlinewidth": 0,
              "ticks": ""
             }
            },
            "type": "scattergeo"
           }
          ],
          "scattergl": [
           {
            "marker": {
             "colorbar": {
              "outlinewidth": 0,
              "ticks": ""
             }
            },
            "type": "scattergl"
           }
          ],
          "scattermapbox": [
           {
            "marker": {
             "colorbar": {
              "outlinewidth": 0,
              "ticks": ""
             }
            },
            "type": "scattermapbox"
           }
          ],
          "scatterpolar": [
           {
            "marker": {
             "colorbar": {
              "outlinewidth": 0,
              "ticks": ""
             }
            },
            "type": "scatterpolar"
           }
          ],
          "scatterpolargl": [
           {
            "marker": {
             "colorbar": {
              "outlinewidth": 0,
              "ticks": ""
             }
            },
            "type": "scatterpolargl"
           }
          ],
          "scatterternary": [
           {
            "marker": {
             "colorbar": {
              "outlinewidth": 0,
              "ticks": ""
             }
            },
            "type": "scatterternary"
           }
          ],
          "surface": [
           {
            "colorbar": {
             "outlinewidth": 0,
             "ticks": ""
            },
            "colorscale": [
             [
              0,
              "#0d0887"
             ],
             [
              0.1111111111111111,
              "#46039f"
             ],
             [
              0.2222222222222222,
              "#7201a8"
             ],
             [
              0.3333333333333333,
              "#9c179e"
             ],
             [
              0.4444444444444444,
              "#bd3786"
             ],
             [
              0.5555555555555556,
              "#d8576b"
             ],
             [
              0.6666666666666666,
              "#ed7953"
             ],
             [
              0.7777777777777778,
              "#fb9f3a"
             ],
             [
              0.8888888888888888,
              "#fdca26"
             ],
             [
              1,
              "#f0f921"
             ]
            ],
            "type": "surface"
           }
          ],
          "table": [
           {
            "cells": {
             "fill": {
              "color": "#EBF0F8"
             },
             "line": {
              "color": "white"
             }
            },
            "header": {
             "fill": {
              "color": "#C8D4E3"
             },
             "line": {
              "color": "white"
             }
            },
            "type": "table"
           }
          ]
         },
         "layout": {
          "annotationdefaults": {
           "arrowcolor": "#2a3f5f",
           "arrowhead": 0,
           "arrowwidth": 1
          },
          "autotypenumbers": "strict",
          "coloraxis": {
           "colorbar": {
            "outlinewidth": 0,
            "ticks": ""
           }
          },
          "colorscale": {
           "diverging": [
            [
             0,
             "#8e0152"
            ],
            [
             0.1,
             "#c51b7d"
            ],
            [
             0.2,
             "#de77ae"
            ],
            [
             0.3,
             "#f1b6da"
            ],
            [
             0.4,
             "#fde0ef"
            ],
            [
             0.5,
             "#f7f7f7"
            ],
            [
             0.6,
             "#e6f5d0"
            ],
            [
             0.7,
             "#b8e186"
            ],
            [
             0.8,
             "#7fbc41"
            ],
            [
             0.9,
             "#4d9221"
            ],
            [
             1,
             "#276419"
            ]
           ],
           "sequential": [
            [
             0,
             "#0d0887"
            ],
            [
             0.1111111111111111,
             "#46039f"
            ],
            [
             0.2222222222222222,
             "#7201a8"
            ],
            [
             0.3333333333333333,
             "#9c179e"
            ],
            [
             0.4444444444444444,
             "#bd3786"
            ],
            [
             0.5555555555555556,
             "#d8576b"
            ],
            [
             0.6666666666666666,
             "#ed7953"
            ],
            [
             0.7777777777777778,
             "#fb9f3a"
            ],
            [
             0.8888888888888888,
             "#fdca26"
            ],
            [
             1,
             "#f0f921"
            ]
           ],
           "sequentialminus": [
            [
             0,
             "#0d0887"
            ],
            [
             0.1111111111111111,
             "#46039f"
            ],
            [
             0.2222222222222222,
             "#7201a8"
            ],
            [
             0.3333333333333333,
             "#9c179e"
            ],
            [
             0.4444444444444444,
             "#bd3786"
            ],
            [
             0.5555555555555556,
             "#d8576b"
            ],
            [
             0.6666666666666666,
             "#ed7953"
            ],
            [
             0.7777777777777778,
             "#fb9f3a"
            ],
            [
             0.8888888888888888,
             "#fdca26"
            ],
            [
             1,
             "#f0f921"
            ]
           ]
          },
          "colorway": [
           "#636efa",
           "#EF553B",
           "#00cc96",
           "#ab63fa",
           "#FFA15A",
           "#19d3f3",
           "#FF6692",
           "#B6E880",
           "#FF97FF",
           "#FECB52"
          ],
          "font": {
           "color": "#2a3f5f"
          },
          "geo": {
           "bgcolor": "white",
           "lakecolor": "white",
           "landcolor": "#E5ECF6",
           "showlakes": true,
           "showland": true,
           "subunitcolor": "white"
          },
          "hoverlabel": {
           "align": "left"
          },
          "hovermode": "closest",
          "mapbox": {
           "style": "light"
          },
          "paper_bgcolor": "white",
          "plot_bgcolor": "#E5ECF6",
          "polar": {
           "angularaxis": {
            "gridcolor": "white",
            "linecolor": "white",
            "ticks": ""
           },
           "bgcolor": "#E5ECF6",
           "radialaxis": {
            "gridcolor": "white",
            "linecolor": "white",
            "ticks": ""
           }
          },
          "scene": {
           "xaxis": {
            "backgroundcolor": "#E5ECF6",
            "gridcolor": "white",
            "gridwidth": 2,
            "linecolor": "white",
            "showbackground": true,
            "ticks": "",
            "zerolinecolor": "white"
           },
           "yaxis": {
            "backgroundcolor": "#E5ECF6",
            "gridcolor": "white",
            "gridwidth": 2,
            "linecolor": "white",
            "showbackground": true,
            "ticks": "",
            "zerolinecolor": "white"
           },
           "zaxis": {
            "backgroundcolor": "#E5ECF6",
            "gridcolor": "white",
            "gridwidth": 2,
            "linecolor": "white",
            "showbackground": true,
            "ticks": "",
            "zerolinecolor": "white"
           }
          },
          "shapedefaults": {
           "line": {
            "color": "#2a3f5f"
           }
          },
          "ternary": {
           "aaxis": {
            "gridcolor": "white",
            "linecolor": "white",
            "ticks": ""
           },
           "baxis": {
            "gridcolor": "white",
            "linecolor": "white",
            "ticks": ""
           },
           "bgcolor": "#E5ECF6",
           "caxis": {
            "gridcolor": "white",
            "linecolor": "white",
            "ticks": ""
           }
          },
          "title": {
           "x": 0.05
          },
          "xaxis": {
           "automargin": true,
           "gridcolor": "white",
           "linecolor": "white",
           "ticks": "",
           "title": {
            "standoff": 15
           },
           "zerolinecolor": "white",
           "zerolinewidth": 2
          },
          "yaxis": {
           "automargin": true,
           "gridcolor": "white",
           "linecolor": "white",
           "ticks": "",
           "title": {
            "standoff": 15
           },
           "zerolinecolor": "white",
           "zerolinewidth": 2
          }
         }
        },
        "xaxis": {
         "anchor": "y",
         "domain": [
          0,
          1
         ],
         "title": {
          "text": "DATE"
         }
        },
        "yaxis": {
         "anchor": "x",
         "domain": [
          0,
          1
         ],
         "title": {
          "text": "Temperature"
         }
        }
       }
      },
      "text/html": [
       "<div>                            <div id=\"7d67aa75-de37-4f86-9a2d-525312f4a280\" class=\"plotly-graph-div\" style=\"height:525px; width:100%;\"></div>            <script type=\"text/javascript\">                require([\"plotly\"], function(Plotly) {                    window.PLOTLYENV=window.PLOTLYENV || {};                                    if (document.getElementById(\"7d67aa75-de37-4f86-9a2d-525312f4a280\")) {                    Plotly.newPlot(                        \"7d67aa75-de37-4f86-9a2d-525312f4a280\",                        [{\"hovertemplate\":\"variable=Temp\\u003cbr\\u003eDATE=%{x}\\u003cbr\\u003eTemperature=%{y}\\u003cextra\\u003e\\u003c\\u002fextra\\u003e\",\"legendgroup\":\"Temp\",\"line\":{\"color\":\"#636efa\",\"dash\":\"solid\"},\"marker\":{\"symbol\":\"circle\"},\"mode\":\"lines\",\"name\":\"Temp\",\"orientation\":\"v\",\"showlegend\":true,\"x\":[\"2\\u002f23\\u002f2021\",\"2\\u002f24\\u002f2021\",\"2\\u002f25\\u002f2021\",\"2\\u002f26\\u002f2021\",\"2\\u002f27\\u002f2021\",\"2\\u002f28\\u002f2021\",\"3\\u002f1\\u002f2021\",\"3\\u002f2\\u002f2021\",\"3\\u002f3\\u002f2021\",\"3\\u002f4\\u002f2021\",\"3\\u002f5\\u002f2021\",\"3\\u002f6\\u002f2021\",\"3\\u002f7\\u002f2021\",\"3\\u002f8\\u002f2021\",\"3\\u002f9\\u002f2021\",\"3\\u002f10\\u002f2021\",\"3\\u002f11\\u002f2021\",\"3\\u002f12\\u002f2021\",\"3\\u002f13\\u002f2021\",\"3\\u002f14\\u002f2021\",\"3\\u002f15\\u002f2021\",\"3\\u002f16\\u002f2021\",\"3\\u002f17\\u002f2021\",\"3\\u002f18\\u002f2021\",\"3\\u002f19\\u002f2021\",\"3\\u002f20\\u002f2021\",\"3\\u002f21\\u002f2021\",\"3\\u002f22\\u002f2021\",\"3\\u002f23\\u002f2021\",\"3\\u002f24\\u002f2021\",\"3\\u002f25\\u002f2021\",\"3\\u002f26\\u002f2021\",\"3\\u002f27\\u002f2021\",\"3\\u002f28\\u002f2021\",\"3\\u002f29\\u002f2021\",\"3\\u002f30\\u002f2021\",\"3\\u002f31\\u002f2021\",\"4\\u002f1\\u002f2021\",\"4\\u002f2\\u002f2021\",\"4\\u002f3\\u002f2021\",\"4\\u002f4\\u002f2021\",\"4\\u002f5\\u002f2021\",\"4\\u002f6\\u002f2021\",\"4\\u002f7\\u002f2021\",\"4\\u002f8\\u002f2021\",\"4\\u002f9\\u002f2021\",\"4\\u002f10\\u002f2021\",\"4\\u002f11\\u002f2021\",\"4\\u002f12\\u002f2021\",\"4\\u002f13\\u002f2021\",\"4\\u002f14\\u002f2021\",\"4\\u002f15\\u002f2021\",\"4\\u002f16\\u002f2021\",\"4\\u002f17\\u002f2021\",\"4\\u002f18\\u002f2021\",\"4\\u002f19\\u002f2021\",\"4\\u002f20\\u002f2021\",\"4\\u002f21\\u002f2021\",\"4\\u002f22\\u002f2021\",\"4\\u002f23\\u002f2021\",\"4\\u002f24\\u002f2021\",\"4\\u002f25\\u002f2021\",\"4\\u002f26\\u002f2021\",\"4\\u002f27\\u002f2021\",\"4\\u002f28\\u002f2021\",\"4\\u002f29\\u002f2021\",\"4\\u002f30\\u002f2021\",\"5\\u002f1\\u002f2021\",\"5\\u002f2\\u002f2021\",\"5\\u002f3\\u002f2021\",\"5\\u002f4\\u002f2021\",\"5\\u002f5\\u002f2021\",\"5\\u002f6\\u002f2021\",\"5\\u002f7\\u002f2021\",\"5\\u002f8\\u002f2021\",\"5\\u002f9\\u002f2021\",\"5\\u002f10\\u002f2021\",\"5\\u002f11\\u002f2021\",\"5\\u002f12\\u002f2021\",\"5\\u002f13\\u002f2021\",\"5\\u002f14\\u002f2021\",\"5\\u002f15\\u002f2021\",\"5\\u002f16\\u002f2021\",\"5\\u002f17\\u002f2021\",\"5\\u002f18\\u002f2021\",\"5\\u002f19\\u002f2021\",\"5\\u002f20\\u002f2021\",\"5\\u002f21\\u002f2021\",\"5\\u002f22\\u002f2021\",\"5\\u002f23\\u002f2021\",\"5\\u002f24\\u002f2021\",\"5\\u002f25\\u002f2021\",\"5\\u002f26\\u002f2021\",\"5\\u002f27\\u002f2021\",\"5\\u002f28\\u002f2021\",\"5\\u002f29\\u002f2021\",\"5\\u002f30\\u002f2021\",\"5\\u002f31\\u002f2021\",\"6\\u002f1\\u002f2021\",\"6\\u002f2\\u002f2021\",\"6\\u002f3\\u002f2021\",\"6\\u002f4\\u002f2021\",\"6\\u002f5\\u002f2021\",\"6\\u002f6\\u002f2021\",\"6\\u002f7\\u002f2021\"],\"xaxis\":\"x\",\"y\":[0.95,-0.7,-7.6,-7.4,-4.69,-1.89,-6.79,-12.95,-3.4,-8.8,-10.6,-9.39,-11.55,-10.45,-1.69,1.2,9.94,-0.14,-4.75,-6.6,-10.1,-4.09,0.89,-0.5,-3.95,4.19,5.94,6.95,9.45,7.1,13.6,4.5,1.79,5.75,-0.2,7.75,7.6,-1.45,-1.75,1.35,6.6,7.5,7.05,9.65,13.95,15.25,15.9,13.65,13.55,13.5,11.89,7.9,5.55,8.05,9.69,10.55,6.4,-0.25,1.6,8.1,12.2,6.6,4.8,7.7,11.25,11.9,5.55,5.3,7.65,7.15,10.5,8.85,8.4,7.6,7.5,10.0,10.1,6.75,10.7,12.3,15.25,15.89,16.39,16.0,19.1,20.05,22.45,24.65,22.8,14.35,13.55,19.14,21.95,8.44,7.65,10.9,11.85,14.45,18.2,18.3,18.55,20.8,22.75,24.6,26.1],\"yaxis\":\"y\",\"type\":\"scatter\"},{\"hovertemplate\":\"variable=prediction\\u003cbr\\u003eDATE=%{x}\\u003cbr\\u003eTemperature=%{y}\\u003cextra\\u003e\\u003c\\u002fextra\\u003e\",\"legendgroup\":\"prediction\",\"line\":{\"color\":\"#EF553B\",\"dash\":\"solid\"},\"marker\":{\"symbol\":\"circle\"},\"mode\":\"lines\",\"name\":\"prediction\",\"orientation\":\"v\",\"showlegend\":true,\"x\":[\"2\\u002f23\\u002f2021\",\"2\\u002f24\\u002f2021\",\"2\\u002f25\\u002f2021\",\"2\\u002f26\\u002f2021\",\"2\\u002f27\\u002f2021\",\"2\\u002f28\\u002f2021\",\"3\\u002f1\\u002f2021\",\"3\\u002f2\\u002f2021\",\"3\\u002f3\\u002f2021\",\"3\\u002f4\\u002f2021\",\"3\\u002f5\\u002f2021\",\"3\\u002f6\\u002f2021\",\"3\\u002f7\\u002f2021\",\"3\\u002f8\\u002f2021\",\"3\\u002f9\\u002f2021\",\"3\\u002f10\\u002f2021\",\"3\\u002f11\\u002f2021\",\"3\\u002f12\\u002f2021\",\"3\\u002f13\\u002f2021\",\"3\\u002f14\\u002f2021\",\"3\\u002f15\\u002f2021\",\"3\\u002f16\\u002f2021\",\"3\\u002f17\\u002f2021\",\"3\\u002f18\\u002f2021\",\"3\\u002f19\\u002f2021\",\"3\\u002f20\\u002f2021\",\"3\\u002f21\\u002f2021\",\"3\\u002f22\\u002f2021\",\"3\\u002f23\\u002f2021\",\"3\\u002f24\\u002f2021\",\"3\\u002f25\\u002f2021\",\"3\\u002f26\\u002f2021\",\"3\\u002f27\\u002f2021\",\"3\\u002f28\\u002f2021\",\"3\\u002f29\\u002f2021\",\"3\\u002f30\\u002f2021\",\"3\\u002f31\\u002f2021\",\"4\\u002f1\\u002f2021\",\"4\\u002f2\\u002f2021\",\"4\\u002f3\\u002f2021\",\"4\\u002f4\\u002f2021\",\"4\\u002f5\\u002f2021\",\"4\\u002f6\\u002f2021\",\"4\\u002f7\\u002f2021\",\"4\\u002f8\\u002f2021\",\"4\\u002f9\\u002f2021\",\"4\\u002f10\\u002f2021\",\"4\\u002f11\\u002f2021\",\"4\\u002f12\\u002f2021\",\"4\\u002f13\\u002f2021\",\"4\\u002f14\\u002f2021\",\"4\\u002f15\\u002f2021\",\"4\\u002f16\\u002f2021\",\"4\\u002f17\\u002f2021\",\"4\\u002f18\\u002f2021\",\"4\\u002f19\\u002f2021\",\"4\\u002f20\\u002f2021\",\"4\\u002f21\\u002f2021\",\"4\\u002f22\\u002f2021\",\"4\\u002f23\\u002f2021\",\"4\\u002f24\\u002f2021\",\"4\\u002f25\\u002f2021\",\"4\\u002f26\\u002f2021\",\"4\\u002f27\\u002f2021\",\"4\\u002f28\\u002f2021\",\"4\\u002f29\\u002f2021\",\"4\\u002f30\\u002f2021\",\"5\\u002f1\\u002f2021\",\"5\\u002f2\\u002f2021\",\"5\\u002f3\\u002f2021\",\"5\\u002f4\\u002f2021\",\"5\\u002f5\\u002f2021\",\"5\\u002f6\\u002f2021\",\"5\\u002f7\\u002f2021\",\"5\\u002f8\\u002f2021\",\"5\\u002f9\\u002f2021\",\"5\\u002f10\\u002f2021\",\"5\\u002f11\\u002f2021\",\"5\\u002f12\\u002f2021\",\"5\\u002f13\\u002f2021\",\"5\\u002f14\\u002f2021\",\"5\\u002f15\\u002f2021\",\"5\\u002f16\\u002f2021\",\"5\\u002f17\\u002f2021\",\"5\\u002f18\\u002f2021\",\"5\\u002f19\\u002f2021\",\"5\\u002f20\\u002f2021\",\"5\\u002f21\\u002f2021\",\"5\\u002f22\\u002f2021\",\"5\\u002f23\\u002f2021\",\"5\\u002f24\\u002f2021\",\"5\\u002f25\\u002f2021\",\"5\\u002f26\\u002f2021\",\"5\\u002f27\\u002f2021\",\"5\\u002f28\\u002f2021\",\"5\\u002f29\\u002f2021\",\"5\\u002f30\\u002f2021\",\"5\\u002f31\\u002f2021\",\"6\\u002f1\\u002f2021\",\"6\\u002f2\\u002f2021\",\"6\\u002f3\\u002f2021\",\"6\\u002f4\\u002f2021\",\"6\\u002f5\\u002f2021\",\"6\\u002f6\\u002f2021\",\"6\\u002f7\\u002f2021\"],\"xaxis\":\"x\",\"y\":[-2.1956627368927,0.08937665820121765,-4.49225378036499,-12.859139442443848,-4.600335597991943,-2.9043076038360596,-2.6586949825286865,-8.630290985107422,-10.19707202911377,-3.785705327987671,-6.57645845413208,-5.486121654510498,-12.804974555969238,-12.001686096191406,-12.341493606567383,-1.7754826545715332,0.7180867791175842,4.332891464233398,-5.26113224029541,-5.9984517097473145,-8.452317237854004,-5.560163974761963,-1.604941487312317,1.903997540473938,-5.124492168426514,-4.357179641723633,0.9340513348579407,7.231507778167725,7.956400394439697,7.361956596374512,8.12690544128418,8.983016014099121,2.8245885372161865,2.9290614128112793,5.252302646636963,2.892407178878784,9.166648864746094,8.095789909362793,2.178271532058716,4.3474040031433105,3.9994804859161377,9.23308277130127,8.958239555358887,8.702966690063477,8.346945762634277,12.5885591506958,14.756129264831543,11.990497589111328,10.05838394165039,10.57139778137207,14.733713150024414,14.379222869873047,10.285290718078613,7.370175361633301,12.225946426391602,12.395173072814941,10.325239181518555,5.780182361602783,1.2507109642028809,1.4129180908203125,6.791897296905518,8.751382827758789,6.385170936584473,5.431934356689453,10.953145980834961,11.609047889709473,9.976468086242676,4.455402374267578,4.046151161193848,8.168675422668457,9.068572044372559,8.594645500183105,5.094764709472656,8.468209266662598,10.172459602355957,9.293330192565918,11.044925689697266,9.607606887817383,5.951260566711426,10.26604175567627,12.943187713623047,15.658028602600098,16.580862045288086,17.014049530029297,17.415163040161133,20.977022171020508,21.56890869140625,24.171401977539062,25.48969078063965,23.444116592407227,12.607073783874512,15.923107147216797,18.242761611938477,20.608070373535156,8.15683364868164,9.972944259643555,11.805081367492676,12.882110595703125,16.604537963867188,17.651893615722656,18.887842178344727,18.692142486572266,16.905208587646484,20.940128326416016,21.09906005859375],\"yaxis\":\"y\",\"type\":\"scatter\"}],                        {\"template\":{\"data\":{\"histogram2dcontour\":[{\"type\":\"histogram2dcontour\",\"colorbar\":{\"outlinewidth\":0,\"ticks\":\"\"},\"colorscale\":[[0.0,\"#0d0887\"],[0.1111111111111111,\"#46039f\"],[0.2222222222222222,\"#7201a8\"],[0.3333333333333333,\"#9c179e\"],[0.4444444444444444,\"#bd3786\"],[0.5555555555555556,\"#d8576b\"],[0.6666666666666666,\"#ed7953\"],[0.7777777777777778,\"#fb9f3a\"],[0.8888888888888888,\"#fdca26\"],[1.0,\"#f0f921\"]]}],\"choropleth\":[{\"type\":\"choropleth\",\"colorbar\":{\"outlinewidth\":0,\"ticks\":\"\"}}],\"histogram2d\":[{\"type\":\"histogram2d\",\"colorbar\":{\"outlinewidth\":0,\"ticks\":\"\"},\"colorscale\":[[0.0,\"#0d0887\"],[0.1111111111111111,\"#46039f\"],[0.2222222222222222,\"#7201a8\"],[0.3333333333333333,\"#9c179e\"],[0.4444444444444444,\"#bd3786\"],[0.5555555555555556,\"#d8576b\"],[0.6666666666666666,\"#ed7953\"],[0.7777777777777778,\"#fb9f3a\"],[0.8888888888888888,\"#fdca26\"],[1.0,\"#f0f921\"]]}],\"heatmap\":[{\"type\":\"heatmap\",\"colorbar\":{\"outlinewidth\":0,\"ticks\":\"\"},\"colorscale\":[[0.0,\"#0d0887\"],[0.1111111111111111,\"#46039f\"],[0.2222222222222222,\"#7201a8\"],[0.3333333333333333,\"#9c179e\"],[0.4444444444444444,\"#bd3786\"],[0.5555555555555556,\"#d8576b\"],[0.6666666666666666,\"#ed7953\"],[0.7777777777777778,\"#fb9f3a\"],[0.8888888888888888,\"#fdca26\"],[1.0,\"#f0f921\"]]}],\"heatmapgl\":[{\"type\":\"heatmapgl\",\"colorbar\":{\"outlinewidth\":0,\"ticks\":\"\"},\"colorscale\":[[0.0,\"#0d0887\"],[0.1111111111111111,\"#46039f\"],[0.2222222222222222,\"#7201a8\"],[0.3333333333333333,\"#9c179e\"],[0.4444444444444444,\"#bd3786\"],[0.5555555555555556,\"#d8576b\"],[0.6666666666666666,\"#ed7953\"],[0.7777777777777778,\"#fb9f3a\"],[0.8888888888888888,\"#fdca26\"],[1.0,\"#f0f921\"]]}],\"contourcarpet\":[{\"type\":\"contourcarpet\",\"colorbar\":{\"outlinewidth\":0,\"ticks\":\"\"}}],\"contour\":[{\"type\":\"contour\",\"colorbar\":{\"outlinewidth\":0,\"ticks\":\"\"},\"colorscale\":[[0.0,\"#0d0887\"],[0.1111111111111111,\"#46039f\"],[0.2222222222222222,\"#7201a8\"],[0.3333333333333333,\"#9c179e\"],[0.4444444444444444,\"#bd3786\"],[0.5555555555555556,\"#d8576b\"],[0.6666666666666666,\"#ed7953\"],[0.7777777777777778,\"#fb9f3a\"],[0.8888888888888888,\"#fdca26\"],[1.0,\"#f0f921\"]]}],\"surface\":[{\"type\":\"surface\",\"colorbar\":{\"outlinewidth\":0,\"ticks\":\"\"},\"colorscale\":[[0.0,\"#0d0887\"],[0.1111111111111111,\"#46039f\"],[0.2222222222222222,\"#7201a8\"],[0.3333333333333333,\"#9c179e\"],[0.4444444444444444,\"#bd3786\"],[0.5555555555555556,\"#d8576b\"],[0.6666666666666666,\"#ed7953\"],[0.7777777777777778,\"#fb9f3a\"],[0.8888888888888888,\"#fdca26\"],[1.0,\"#f0f921\"]]}],\"mesh3d\":[{\"type\":\"mesh3d\",\"colorbar\":{\"outlinewidth\":0,\"ticks\":\"\"}}],\"scatter\":[{\"fillpattern\":{\"fillmode\":\"overlay\",\"size\":10,\"solidity\":0.2},\"type\":\"scatter\"}],\"parcoords\":[{\"type\":\"parcoords\",\"line\":{\"colorbar\":{\"outlinewidth\":0,\"ticks\":\"\"}}}],\"scatterpolargl\":[{\"type\":\"scatterpolargl\",\"marker\":{\"colorbar\":{\"outlinewidth\":0,\"ticks\":\"\"}}}],\"bar\":[{\"error_x\":{\"color\":\"#2a3f5f\"},\"error_y\":{\"color\":\"#2a3f5f\"},\"marker\":{\"line\":{\"color\":\"#E5ECF6\",\"width\":0.5},\"pattern\":{\"fillmode\":\"overlay\",\"size\":10,\"solidity\":0.2}},\"type\":\"bar\"}],\"scattergeo\":[{\"type\":\"scattergeo\",\"marker\":{\"colorbar\":{\"outlinewidth\":0,\"ticks\":\"\"}}}],\"scatterpolar\":[{\"type\":\"scatterpolar\",\"marker\":{\"colorbar\":{\"outlinewidth\":0,\"ticks\":\"\"}}}],\"histogram\":[{\"marker\":{\"pattern\":{\"fillmode\":\"overlay\",\"size\":10,\"solidity\":0.2}},\"type\":\"histogram\"}],\"scattergl\":[{\"type\":\"scattergl\",\"marker\":{\"colorbar\":{\"outlinewidth\":0,\"ticks\":\"\"}}}],\"scatter3d\":[{\"type\":\"scatter3d\",\"line\":{\"colorbar\":{\"outlinewidth\":0,\"ticks\":\"\"}},\"marker\":{\"colorbar\":{\"outlinewidth\":0,\"ticks\":\"\"}}}],\"scattermapbox\":[{\"type\":\"scattermapbox\",\"marker\":{\"colorbar\":{\"outlinewidth\":0,\"ticks\":\"\"}}}],\"scatterternary\":[{\"type\":\"scatterternary\",\"marker\":{\"colorbar\":{\"outlinewidth\":0,\"ticks\":\"\"}}}],\"scattercarpet\":[{\"type\":\"scattercarpet\",\"marker\":{\"colorbar\":{\"outlinewidth\":0,\"ticks\":\"\"}}}],\"carpet\":[{\"aaxis\":{\"endlinecolor\":\"#2a3f5f\",\"gridcolor\":\"white\",\"linecolor\":\"white\",\"minorgridcolor\":\"white\",\"startlinecolor\":\"#2a3f5f\"},\"baxis\":{\"endlinecolor\":\"#2a3f5f\",\"gridcolor\":\"white\",\"linecolor\":\"white\",\"minorgridcolor\":\"white\",\"startlinecolor\":\"#2a3f5f\"},\"type\":\"carpet\"}],\"table\":[{\"cells\":{\"fill\":{\"color\":\"#EBF0F8\"},\"line\":{\"color\":\"white\"}},\"header\":{\"fill\":{\"color\":\"#C8D4E3\"},\"line\":{\"color\":\"white\"}},\"type\":\"table\"}],\"barpolar\":[{\"marker\":{\"line\":{\"color\":\"#E5ECF6\",\"width\":0.5},\"pattern\":{\"fillmode\":\"overlay\",\"size\":10,\"solidity\":0.2}},\"type\":\"barpolar\"}],\"pie\":[{\"automargin\":true,\"type\":\"pie\"}]},\"layout\":{\"autotypenumbers\":\"strict\",\"colorway\":[\"#636efa\",\"#EF553B\",\"#00cc96\",\"#ab63fa\",\"#FFA15A\",\"#19d3f3\",\"#FF6692\",\"#B6E880\",\"#FF97FF\",\"#FECB52\"],\"font\":{\"color\":\"#2a3f5f\"},\"hovermode\":\"closest\",\"hoverlabel\":{\"align\":\"left\"},\"paper_bgcolor\":\"white\",\"plot_bgcolor\":\"#E5ECF6\",\"polar\":{\"bgcolor\":\"#E5ECF6\",\"angularaxis\":{\"gridcolor\":\"white\",\"linecolor\":\"white\",\"ticks\":\"\"},\"radialaxis\":{\"gridcolor\":\"white\",\"linecolor\":\"white\",\"ticks\":\"\"}},\"ternary\":{\"bgcolor\":\"#E5ECF6\",\"aaxis\":{\"gridcolor\":\"white\",\"linecolor\":\"white\",\"ticks\":\"\"},\"baxis\":{\"gridcolor\":\"white\",\"linecolor\":\"white\",\"ticks\":\"\"},\"caxis\":{\"gridcolor\":\"white\",\"linecolor\":\"white\",\"ticks\":\"\"}},\"coloraxis\":{\"colorbar\":{\"outlinewidth\":0,\"ticks\":\"\"}},\"colorscale\":{\"sequential\":[[0.0,\"#0d0887\"],[0.1111111111111111,\"#46039f\"],[0.2222222222222222,\"#7201a8\"],[0.3333333333333333,\"#9c179e\"],[0.4444444444444444,\"#bd3786\"],[0.5555555555555556,\"#d8576b\"],[0.6666666666666666,\"#ed7953\"],[0.7777777777777778,\"#fb9f3a\"],[0.8888888888888888,\"#fdca26\"],[1.0,\"#f0f921\"]],\"sequentialminus\":[[0.0,\"#0d0887\"],[0.1111111111111111,\"#46039f\"],[0.2222222222222222,\"#7201a8\"],[0.3333333333333333,\"#9c179e\"],[0.4444444444444444,\"#bd3786\"],[0.5555555555555556,\"#d8576b\"],[0.6666666666666666,\"#ed7953\"],[0.7777777777777778,\"#fb9f3a\"],[0.8888888888888888,\"#fdca26\"],[1.0,\"#f0f921\"]],\"diverging\":[[0,\"#8e0152\"],[0.1,\"#c51b7d\"],[0.2,\"#de77ae\"],[0.3,\"#f1b6da\"],[0.4,\"#fde0ef\"],[0.5,\"#f7f7f7\"],[0.6,\"#e6f5d0\"],[0.7,\"#b8e186\"],[0.8,\"#7fbc41\"],[0.9,\"#4d9221\"],[1,\"#276419\"]]},\"xaxis\":{\"gridcolor\":\"white\",\"linecolor\":\"white\",\"ticks\":\"\",\"title\":{\"standoff\":15},\"zerolinecolor\":\"white\",\"automargin\":true,\"zerolinewidth\":2},\"yaxis\":{\"gridcolor\":\"white\",\"linecolor\":\"white\",\"ticks\":\"\",\"title\":{\"standoff\":15},\"zerolinecolor\":\"white\",\"automargin\":true,\"zerolinewidth\":2},\"scene\":{\"xaxis\":{\"backgroundcolor\":\"#E5ECF6\",\"gridcolor\":\"white\",\"linecolor\":\"white\",\"showbackground\":true,\"ticks\":\"\",\"zerolinecolor\":\"white\",\"gridwidth\":2},\"yaxis\":{\"backgroundcolor\":\"#E5ECF6\",\"gridcolor\":\"white\",\"linecolor\":\"white\",\"showbackground\":true,\"ticks\":\"\",\"zerolinecolor\":\"white\",\"gridwidth\":2},\"zaxis\":{\"backgroundcolor\":\"#E5ECF6\",\"gridcolor\":\"white\",\"linecolor\":\"white\",\"showbackground\":true,\"ticks\":\"\",\"zerolinecolor\":\"white\",\"gridwidth\":2}},\"shapedefaults\":{\"line\":{\"color\":\"#2a3f5f\"}},\"annotationdefaults\":{\"arrowcolor\":\"#2a3f5f\",\"arrowhead\":0,\"arrowwidth\":1},\"geo\":{\"bgcolor\":\"white\",\"landcolor\":\"#E5ECF6\",\"subunitcolor\":\"white\",\"showland\":true,\"showlakes\":true,\"lakecolor\":\"white\"},\"title\":{\"x\":0.05},\"mapbox\":{\"style\":\"light\"}}},\"xaxis\":{\"anchor\":\"y\",\"domain\":[0.0,1.0],\"title\":{\"text\":\"DATE\"}},\"yaxis\":{\"anchor\":\"x\",\"domain\":[0.0,1.0],\"title\":{\"text\":\"Temperature\"}},\"legend\":{\"title\":{\"text\":\"variable\"},\"tracegroupgap\":0},\"margin\":{\"t\":60}},                        {\"responsive\": true}                    ).then(function(){\n",
       "                            \n",
       "var gd = document.getElementById('7d67aa75-de37-4f86-9a2d-525312f4a280');\n",
       "var x = new MutationObserver(function (mutations, observer) {{\n",
       "        var display = window.getComputedStyle(gd).display;\n",
       "        if (!display || display === 'none') {{\n",
       "            console.log([gd, 'removed!']);\n",
       "            Plotly.purge(gd);\n",
       "            observer.disconnect();\n",
       "        }}\n",
       "}});\n",
       "\n",
       "// Listen for the removal of the full notebook cells\n",
       "var notebookContainer = gd.closest('#notebook-container');\n",
       "if (notebookContainer) {{\n",
       "    x.observe(notebookContainer, {childList: true});\n",
       "}}\n",
       "\n",
       "// Listen for the clearing of the current output cell\n",
       "var outputEl = gd.closest('.output');\n",
       "if (outputEl) {{\n",
       "    x.observe(outputEl, {childList: true});\n",
       "}}\n",
       "\n",
       "                        })                };                });            </script>        </div>"
      ]
     },
     "metadata": {},
     "output_type": "display_data"
    }
   ],
   "source": [
    "fig = px.line(df, x = \"DATE\", y = \"Temperature\", color = \"variable\")\n",
    "fig.show()"
   ]
  },
  {
   "cell_type": "code",
   "execution_count": null,
   "metadata": {},
   "outputs": [],
   "source": [
    "from xgboost import"
   ]
  },
  {
   "cell_type": "code",
   "execution_count": null,
   "metadata": {},
   "outputs": [],
   "source": [
    "data['seasonal_feature'] = data['timestamp'].apply(lambda x: seasonal_pattern(x))"
   ]
  }
 ],
 "metadata": {
  "kernelspec": {
   "display_name": "mlflow",
   "language": "python",
   "name": "python3"
  },
  "language_info": {
   "codemirror_mode": {
    "name": "ipython",
    "version": 3
   },
   "file_extension": ".py",
   "mimetype": "text/x-python",
   "name": "python",
   "nbconvert_exporter": "python",
   "pygments_lexer": "ipython3",
   "version": "3.12.1"
  }
 },
 "nbformat": 4,
 "nbformat_minor": 2
}
